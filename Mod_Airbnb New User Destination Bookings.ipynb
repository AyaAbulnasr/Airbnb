{
 "cells": [
  {
   "cell_type": "markdown",
   "id": "educated-conspiracy",
   "metadata": {},
   "source": [
    "# Airbnb New User Destination Bookings¶\n",
    "\n",
    "## Investigation Overview\n",
    "\n",
    "> We will analyze some Airbnb data about its customers and users’ behavior over Airbnb platform and the main goal is to predict the new user’s booking destination.\n",
    "\n",
    "## Dataset Overview\n",
    "\n",
    "-train_users.csv - the training set of users\n",
    "\n",
    "-test_users.csv - the test set of users\n",
    "\n",
    "affiliate_channel: what kind of paid marketing\n",
    "\n",
    "affiliate_provider: where the marketing is e.g. google, craigslist, other\n",
    "\n",
    "country_destination: this is the target variable you are to predict\n",
    "\n",
    "-countries.csv - summary statistics of destination countries in this dataset and their locations\n",
    "-age_gender_bkts.csv - summary statistics of users' age group, gender, country of destination\n",
    "-sample_submission.csv - correct format for submitting your predictions.\n"
   ]
  },
  {
   "cell_type": "code",
   "execution_count": 367,
   "id": "least-serum",
   "metadata": {},
   "outputs": [],
   "source": [
    "import numpy as np\n",
    "import pandas as pd\n",
    "import matplotlib.pyplot as plt\n",
    "%matplotlib inline\n",
    "import seaborn as sns\n",
    "import datetime\n",
    "from sklearn.model_selection import train_test_split\n",
    "from scipy import stats\n",
    "from scipy.stats import chi2_contingency\n",
    "from xgboost import XGBClassifier\n",
    "from sklearn.compose import ColumnTransformer\n",
    "from datetime import timedelta\n",
    "from sklearn.preprocessing import LabelEncoder\n",
    "from sklearn.preprocessing import OneHotEncoder\n",
    "from sklearn.metrics import accuracy_score\n",
    "import statistics\n",
    "import operator\n",
    "from sklearn.metrics import ndcg_score\n",
    "from sklearn.model_selection import GridSearchCV, KFold, cross_val_score\n",
    "from catboost import CatBoostClassifier\n",
    "from sklearn.metrics import roc_auc_score\n",
    "from sklearn.neighbors import KNeighborsClassifier\n",
    "from sklearn.ensemble import GradientBoostingClassifier"
   ]
  },
  {
   "cell_type": "code",
   "execution_count": 368,
   "id": "about-mission",
   "metadata": {},
   "outputs": [
    {
     "data": {
      "text/html": [
       "<div>\n",
       "<style scoped>\n",
       "    .dataframe tbody tr th:only-of-type {\n",
       "        vertical-align: middle;\n",
       "    }\n",
       "\n",
       "    .dataframe tbody tr th {\n",
       "        vertical-align: top;\n",
       "    }\n",
       "\n",
       "    .dataframe thead th {\n",
       "        text-align: right;\n",
       "    }\n",
       "</style>\n",
       "<table border=\"1\" class=\"dataframe\">\n",
       "  <thead>\n",
       "    <tr style=\"text-align: right;\">\n",
       "      <th></th>\n",
       "      <th>age_bucket</th>\n",
       "      <th>country_destination</th>\n",
       "      <th>gender</th>\n",
       "      <th>population_in_thousands</th>\n",
       "      <th>year</th>\n",
       "    </tr>\n",
       "  </thead>\n",
       "  <tbody>\n",
       "    <tr>\n",
       "      <th>262</th>\n",
       "      <td>50-54</td>\n",
       "      <td>IT</td>\n",
       "      <td>male</td>\n",
       "      <td>2322.0</td>\n",
       "      <td>2015.0</td>\n",
       "    </tr>\n",
       "    <tr>\n",
       "      <th>282</th>\n",
       "      <td>70-74</td>\n",
       "      <td>IT</td>\n",
       "      <td>female</td>\n",
       "      <td>1567.0</td>\n",
       "      <td>2015.0</td>\n",
       "    </tr>\n",
       "    <tr>\n",
       "      <th>98</th>\n",
       "      <td>30-34</td>\n",
       "      <td>DE</td>\n",
       "      <td>female</td>\n",
       "      <td>2571.0</td>\n",
       "      <td>2015.0</td>\n",
       "    </tr>\n",
       "    <tr>\n",
       "      <th>142</th>\n",
       "      <td>80-84</td>\n",
       "      <td>ES</td>\n",
       "      <td>female</td>\n",
       "      <td>843.0</td>\n",
       "      <td>2015.0</td>\n",
       "    </tr>\n",
       "    <tr>\n",
       "      <th>1</th>\n",
       "      <td>95-99</td>\n",
       "      <td>AU</td>\n",
       "      <td>male</td>\n",
       "      <td>9.0</td>\n",
       "      <td>2015.0</td>\n",
       "    </tr>\n",
       "    <tr>\n",
       "      <th>3</th>\n",
       "      <td>85-89</td>\n",
       "      <td>AU</td>\n",
       "      <td>male</td>\n",
       "      <td>118.0</td>\n",
       "      <td>2015.0</td>\n",
       "    </tr>\n",
       "  </tbody>\n",
       "</table>\n",
       "</div>"
      ],
      "text/plain": [
       "    age_bucket country_destination  gender  population_in_thousands    year\n",
       "262      50-54                  IT    male                   2322.0  2015.0\n",
       "282      70-74                  IT  female                   1567.0  2015.0\n",
       "98       30-34                  DE  female                   2571.0  2015.0\n",
       "142      80-84                  ES  female                    843.0  2015.0\n",
       "1        95-99                  AU    male                      9.0  2015.0\n",
       "3        85-89                  AU    male                    118.0  2015.0"
      ]
     },
     "execution_count": 368,
     "metadata": {},
     "output_type": "execute_result"
    }
   ],
   "source": [
    "df_gender= pd.read_csv('age_gender_bkts.csv')\n",
    "df_gender.sample(6)"
   ]
  },
  {
   "cell_type": "code",
   "execution_count": 369,
   "id": "described-criterion",
   "metadata": {},
   "outputs": [
    {
     "data": {
      "text/plain": [
       "age_bucket                  21\n",
       "country_destination         10\n",
       "gender                       2\n",
       "population_in_thousands    381\n",
       "year                         1\n",
       "dtype: int64"
      ]
     },
     "execution_count": 369,
     "metadata": {},
     "output_type": "execute_result"
    }
   ],
   "source": [
    "df_gender.nunique()"
   ]
  },
  {
   "cell_type": "code",
   "execution_count": 370,
   "id": "thick-award",
   "metadata": {},
   "outputs": [
    {
     "name": "stdout",
     "output_type": "stream",
     "text": [
      "<class 'pandas.core.frame.DataFrame'>\n",
      "RangeIndex: 420 entries, 0 to 419\n",
      "Data columns (total 5 columns):\n",
      " #   Column                   Non-Null Count  Dtype  \n",
      "---  ------                   --------------  -----  \n",
      " 0   age_bucket               420 non-null    object \n",
      " 1   country_destination      420 non-null    object \n",
      " 2   gender                   420 non-null    object \n",
      " 3   population_in_thousands  420 non-null    float64\n",
      " 4   year                     420 non-null    float64\n",
      "dtypes: float64(2), object(3)\n",
      "memory usage: 16.5+ KB\n",
      "(420, 5)\n"
     ]
    }
   ],
   "source": [
    "df_gender.info()\n",
    "print(df_gender.shape)"
   ]
  },
  {
   "cell_type": "code",
   "execution_count": 371,
   "id": "binding-material",
   "metadata": {},
   "outputs": [
    {
     "data": {
      "text/plain": [
       "age_bucket                 0\n",
       "country_destination        0\n",
       "gender                     0\n",
       "population_in_thousands    0\n",
       "year                       0\n",
       "dtype: int64"
      ]
     },
     "execution_count": 371,
     "metadata": {},
     "output_type": "execute_result"
    }
   ],
   "source": [
    "np.sum(df_gender.isnull())"
   ]
  },
  {
   "cell_type": "code",
   "execution_count": 372,
   "id": "progressive-attendance",
   "metadata": {},
   "outputs": [
    {
     "data": {
      "text/plain": [
       "0-4      20\n",
       "10-14    20\n",
       "100+     20\n",
       "15-19    20\n",
       "20-24    20\n",
       "25-29    20\n",
       "30-34    20\n",
       "35-39    20\n",
       "40-44    20\n",
       "45-49    20\n",
       "5-9      20\n",
       "50-54    20\n",
       "55-59    20\n",
       "60-64    20\n",
       "65-69    20\n",
       "70-74    20\n",
       "75-79    20\n",
       "80-84    20\n",
       "85-89    20\n",
       "90-94    20\n",
       "95-99    20\n",
       "Name: age_bucket, dtype: int64"
      ]
     },
     "execution_count": 372,
     "metadata": {},
     "output_type": "execute_result"
    }
   ],
   "source": [
    "df_gender.age_bucket.value_counts().sort_index()"
   ]
  },
  {
   "cell_type": "code",
   "execution_count": 373,
   "id": "neither-weekend",
   "metadata": {},
   "outputs": [
    {
     "data": {
      "text/plain": [
       "IT    42\n",
       "ES    42\n",
       "NL    42\n",
       "DE    42\n",
       "PT    42\n",
       "GB    42\n",
       "CA    42\n",
       "FR    42\n",
       "AU    42\n",
       "US    42\n",
       "Name: country_destination, dtype: int64"
      ]
     },
     "execution_count": 373,
     "metadata": {},
     "output_type": "execute_result"
    }
   ],
   "source": [
    "df_gender.country_destination.value_counts()"
   ]
  },
  {
   "cell_type": "code",
   "execution_count": 374,
   "id": "commercial-instrumentation",
   "metadata": {},
   "outputs": [
    {
     "data": {
      "text/html": [
       "<div>\n",
       "<style scoped>\n",
       "    .dataframe tbody tr th:only-of-type {\n",
       "        vertical-align: middle;\n",
       "    }\n",
       "\n",
       "    .dataframe tbody tr th {\n",
       "        vertical-align: top;\n",
       "    }\n",
       "\n",
       "    .dataframe thead th {\n",
       "        text-align: right;\n",
       "    }\n",
       "</style>\n",
       "<table border=\"1\" class=\"dataframe\">\n",
       "  <thead>\n",
       "    <tr style=\"text-align: right;\">\n",
       "      <th></th>\n",
       "      <th>user_id</th>\n",
       "      <th>action</th>\n",
       "      <th>action_type</th>\n",
       "      <th>action_detail</th>\n",
       "      <th>device_type</th>\n",
       "      <th>secs_elapsed</th>\n",
       "    </tr>\n",
       "  </thead>\n",
       "  <tbody>\n",
       "    <tr>\n",
       "      <th>6696505</th>\n",
       "      <td>aaetksikaz</td>\n",
       "      <td>similar_listings_v2</td>\n",
       "      <td>NaN</td>\n",
       "      <td>NaN</td>\n",
       "      <td>Windows Desktop</td>\n",
       "      <td>55.0</td>\n",
       "    </tr>\n",
       "    <tr>\n",
       "      <th>8253213</th>\n",
       "      <td>bkgg2myiyp</td>\n",
       "      <td>profile_pic</td>\n",
       "      <td>-unknown-</td>\n",
       "      <td>-unknown-</td>\n",
       "      <td>Mac Desktop</td>\n",
       "      <td>321.0</td>\n",
       "    </tr>\n",
       "    <tr>\n",
       "      <th>7631417</th>\n",
       "      <td>e8xve44yab</td>\n",
       "      <td>search_results</td>\n",
       "      <td>click</td>\n",
       "      <td>view_search_results</td>\n",
       "      <td>Windows Desktop</td>\n",
       "      <td>10437.0</td>\n",
       "    </tr>\n",
       "    <tr>\n",
       "      <th>7921548</th>\n",
       "      <td>nahe7g6n4f</td>\n",
       "      <td>personalize</td>\n",
       "      <td>data</td>\n",
       "      <td>wishlist_content_update</td>\n",
       "      <td>Mac Desktop</td>\n",
       "      <td>81.0</td>\n",
       "    </tr>\n",
       "    <tr>\n",
       "      <th>4336784</th>\n",
       "      <td>0mncva4ge2</td>\n",
       "      <td>show</td>\n",
       "      <td>view</td>\n",
       "      <td>p3</td>\n",
       "      <td>Mac Desktop</td>\n",
       "      <td>83.0</td>\n",
       "    </tr>\n",
       "    <tr>\n",
       "      <th>2993454</th>\n",
       "      <td>8xa7kke2p9</td>\n",
       "      <td>index</td>\n",
       "      <td>view</td>\n",
       "      <td>view_search_results</td>\n",
       "      <td>Mac Desktop</td>\n",
       "      <td>8786.0</td>\n",
       "    </tr>\n",
       "  </tbody>\n",
       "</table>\n",
       "</div>"
      ],
      "text/plain": [
       "            user_id               action action_type            action_detail  \\\n",
       "6696505  aaetksikaz  similar_listings_v2         NaN                      NaN   \n",
       "8253213  bkgg2myiyp          profile_pic   -unknown-                -unknown-   \n",
       "7631417  e8xve44yab       search_results       click      view_search_results   \n",
       "7921548  nahe7g6n4f          personalize        data  wishlist_content_update   \n",
       "4336784  0mncva4ge2                 show        view                       p3   \n",
       "2993454  8xa7kke2p9                index        view      view_search_results   \n",
       "\n",
       "             device_type  secs_elapsed  \n",
       "6696505  Windows Desktop          55.0  \n",
       "8253213      Mac Desktop         321.0  \n",
       "7631417  Windows Desktop       10437.0  \n",
       "7921548      Mac Desktop          81.0  \n",
       "4336784      Mac Desktop          83.0  \n",
       "2993454      Mac Desktop        8786.0  "
      ]
     },
     "execution_count": 374,
     "metadata": {},
     "output_type": "execute_result"
    }
   ],
   "source": [
    "df_session = pd.read_csv('sessions.csv')\n",
    "df_session.sample(6)"
   ]
  },
  {
   "cell_type": "code",
   "execution_count": 375,
   "id": "variable-benchmark",
   "metadata": {
    "scrolled": true
   },
   "outputs": [
    {
     "data": {
      "text/html": [
       "<div>\n",
       "<style scoped>\n",
       "    .dataframe tbody tr th:only-of-type {\n",
       "        vertical-align: middle;\n",
       "    }\n",
       "\n",
       "    .dataframe tbody tr th {\n",
       "        vertical-align: top;\n",
       "    }\n",
       "\n",
       "    .dataframe thead th {\n",
       "        text-align: right;\n",
       "    }\n",
       "</style>\n",
       "<table border=\"1\" class=\"dataframe\">\n",
       "  <thead>\n",
       "    <tr style=\"text-align: right;\">\n",
       "      <th></th>\n",
       "      <th>country_destination</th>\n",
       "      <th>lat_destination</th>\n",
       "      <th>lng_destination</th>\n",
       "      <th>distance_km</th>\n",
       "      <th>destination_km2</th>\n",
       "      <th>destination_language</th>\n",
       "      <th>language_levenshtein_distance</th>\n",
       "    </tr>\n",
       "  </thead>\n",
       "  <tbody>\n",
       "    <tr>\n",
       "      <th>9</th>\n",
       "      <td>US</td>\n",
       "      <td>36.966427</td>\n",
       "      <td>-95.844030</td>\n",
       "      <td>0.0000</td>\n",
       "      <td>9826675.0</td>\n",
       "      <td>eng</td>\n",
       "      <td>0.00</td>\n",
       "    </tr>\n",
       "    <tr>\n",
       "      <th>7</th>\n",
       "      <td>NL</td>\n",
       "      <td>52.133057</td>\n",
       "      <td>5.295250</td>\n",
       "      <td>7524.3203</td>\n",
       "      <td>41543.0</td>\n",
       "      <td>nld</td>\n",
       "      <td>63.22</td>\n",
       "    </tr>\n",
       "    <tr>\n",
       "      <th>4</th>\n",
       "      <td>FR</td>\n",
       "      <td>46.232193</td>\n",
       "      <td>2.209667</td>\n",
       "      <td>7682.9450</td>\n",
       "      <td>643801.0</td>\n",
       "      <td>fra</td>\n",
       "      <td>92.06</td>\n",
       "    </tr>\n",
       "    <tr>\n",
       "      <th>5</th>\n",
       "      <td>GB</td>\n",
       "      <td>54.633220</td>\n",
       "      <td>-3.432277</td>\n",
       "      <td>6883.6590</td>\n",
       "      <td>243610.0</td>\n",
       "      <td>eng</td>\n",
       "      <td>0.00</td>\n",
       "    </tr>\n",
       "    <tr>\n",
       "      <th>2</th>\n",
       "      <td>DE</td>\n",
       "      <td>51.165707</td>\n",
       "      <td>10.452764</td>\n",
       "      <td>7879.5680</td>\n",
       "      <td>357022.0</td>\n",
       "      <td>deu</td>\n",
       "      <td>72.61</td>\n",
       "    </tr>\n",
       "    <tr>\n",
       "      <th>3</th>\n",
       "      <td>ES</td>\n",
       "      <td>39.896027</td>\n",
       "      <td>-2.487694</td>\n",
       "      <td>7730.7240</td>\n",
       "      <td>505370.0</td>\n",
       "      <td>spa</td>\n",
       "      <td>92.25</td>\n",
       "    </tr>\n",
       "  </tbody>\n",
       "</table>\n",
       "</div>"
      ],
      "text/plain": [
       "  country_destination  lat_destination  lng_destination  distance_km  \\\n",
       "9                  US        36.966427       -95.844030       0.0000   \n",
       "7                  NL        52.133057         5.295250    7524.3203   \n",
       "4                  FR        46.232193         2.209667    7682.9450   \n",
       "5                  GB        54.633220        -3.432277    6883.6590   \n",
       "2                  DE        51.165707        10.452764    7879.5680   \n",
       "3                  ES        39.896027        -2.487694    7730.7240   \n",
       "\n",
       "   destination_km2 destination_language   language_levenshtein_distance  \n",
       "9        9826675.0                   eng                           0.00  \n",
       "7          41543.0                   nld                          63.22  \n",
       "4         643801.0                   fra                          92.06  \n",
       "5         243610.0                   eng                           0.00  \n",
       "2         357022.0                   deu                          72.61  \n",
       "3         505370.0                   spa                          92.25  "
      ]
     },
     "execution_count": 375,
     "metadata": {},
     "output_type": "execute_result"
    }
   ],
   "source": [
    "df_country = pd.read_csv('countries.csv')\n",
    "df_country.sample(6)"
   ]
  },
  {
   "cell_type": "code",
   "execution_count": 376,
   "id": "sexual-ontario",
   "metadata": {},
   "outputs": [
    {
     "data": {
      "text/html": [
       "<div>\n",
       "<style scoped>\n",
       "    .dataframe tbody tr th:only-of-type {\n",
       "        vertical-align: middle;\n",
       "    }\n",
       "\n",
       "    .dataframe tbody tr th {\n",
       "        vertical-align: top;\n",
       "    }\n",
       "\n",
       "    .dataframe thead th {\n",
       "        text-align: right;\n",
       "    }\n",
       "</style>\n",
       "<table border=\"1\" class=\"dataframe\">\n",
       "  <thead>\n",
       "    <tr style=\"text-align: right;\">\n",
       "      <th></th>\n",
       "      <th>id</th>\n",
       "      <th>date_account_created</th>\n",
       "      <th>timestamp_first_active</th>\n",
       "      <th>date_first_booking</th>\n",
       "      <th>gender</th>\n",
       "      <th>age</th>\n",
       "      <th>signup_method</th>\n",
       "      <th>signup_flow</th>\n",
       "      <th>language</th>\n",
       "      <th>affiliate_channel</th>\n",
       "      <th>affiliate_provider</th>\n",
       "      <th>first_affiliate_tracked</th>\n",
       "      <th>signup_app</th>\n",
       "      <th>first_device_type</th>\n",
       "      <th>first_browser</th>\n",
       "      <th>country_destination</th>\n",
       "    </tr>\n",
       "  </thead>\n",
       "  <tbody>\n",
       "    <tr>\n",
       "      <th>110148</th>\n",
       "      <td>rnuia1rusf</td>\n",
       "      <td>2013-09-23</td>\n",
       "      <td>20130923035926</td>\n",
       "      <td>NaN</td>\n",
       "      <td>-unknown-</td>\n",
       "      <td>NaN</td>\n",
       "      <td>basic</td>\n",
       "      <td>25</td>\n",
       "      <td>en</td>\n",
       "      <td>direct</td>\n",
       "      <td>direct</td>\n",
       "      <td>untracked</td>\n",
       "      <td>iOS</td>\n",
       "      <td>iPhone</td>\n",
       "      <td>-unknown-</td>\n",
       "      <td>NDF</td>\n",
       "    </tr>\n",
       "    <tr>\n",
       "      <th>30989</th>\n",
       "      <td>bw4zlssm8y</td>\n",
       "      <td>2012-07-08</td>\n",
       "      <td>20120708201221</td>\n",
       "      <td>2013-03-05</td>\n",
       "      <td>FEMALE</td>\n",
       "      <td>39.0</td>\n",
       "      <td>basic</td>\n",
       "      <td>0</td>\n",
       "      <td>en</td>\n",
       "      <td>other</td>\n",
       "      <td>other</td>\n",
       "      <td>tracked-other</td>\n",
       "      <td>Web</td>\n",
       "      <td>Mac Desktop</td>\n",
       "      <td>Safari</td>\n",
       "      <td>other</td>\n",
       "    </tr>\n",
       "    <tr>\n",
       "      <th>93843</th>\n",
       "      <td>ah9afcvibz</td>\n",
       "      <td>2013-07-25</td>\n",
       "      <td>20130725034025</td>\n",
       "      <td>NaN</td>\n",
       "      <td>FEMALE</td>\n",
       "      <td>38.0</td>\n",
       "      <td>basic</td>\n",
       "      <td>0</td>\n",
       "      <td>en</td>\n",
       "      <td>direct</td>\n",
       "      <td>direct</td>\n",
       "      <td>untracked</td>\n",
       "      <td>Web</td>\n",
       "      <td>Windows Desktop</td>\n",
       "      <td>IE</td>\n",
       "      <td>NDF</td>\n",
       "    </tr>\n",
       "    <tr>\n",
       "      <th>185674</th>\n",
       "      <td>7155kvi7yj</td>\n",
       "      <td>2014-05-07</td>\n",
       "      <td>20140507051038</td>\n",
       "      <td>NaN</td>\n",
       "      <td>-unknown-</td>\n",
       "      <td>NaN</td>\n",
       "      <td>basic</td>\n",
       "      <td>0</td>\n",
       "      <td>en</td>\n",
       "      <td>seo</td>\n",
       "      <td>google</td>\n",
       "      <td>linked</td>\n",
       "      <td>Web</td>\n",
       "      <td>iPad</td>\n",
       "      <td>Mobile Safari</td>\n",
       "      <td>NDF</td>\n",
       "    </tr>\n",
       "    <tr>\n",
       "      <th>97189</th>\n",
       "      <td>8mlxyt66zv</td>\n",
       "      <td>2013-08-07</td>\n",
       "      <td>20130807000547</td>\n",
       "      <td>NaN</td>\n",
       "      <td>MALE</td>\n",
       "      <td>29.0</td>\n",
       "      <td>basic</td>\n",
       "      <td>0</td>\n",
       "      <td>en</td>\n",
       "      <td>direct</td>\n",
       "      <td>direct</td>\n",
       "      <td>untracked</td>\n",
       "      <td>Web</td>\n",
       "      <td>Mac Desktop</td>\n",
       "      <td>Chrome</td>\n",
       "      <td>NDF</td>\n",
       "    </tr>\n",
       "    <tr>\n",
       "      <th>213067</th>\n",
       "      <td>vb6qxtp1x0</td>\n",
       "      <td>2014-06-30</td>\n",
       "      <td>20140630063227</td>\n",
       "      <td>NaN</td>\n",
       "      <td>-unknown-</td>\n",
       "      <td>NaN</td>\n",
       "      <td>basic</td>\n",
       "      <td>25</td>\n",
       "      <td>en</td>\n",
       "      <td>direct</td>\n",
       "      <td>direct</td>\n",
       "      <td>untracked</td>\n",
       "      <td>iOS</td>\n",
       "      <td>iPhone</td>\n",
       "      <td>-unknown-</td>\n",
       "      <td>NDF</td>\n",
       "    </tr>\n",
       "  </tbody>\n",
       "</table>\n",
       "</div>"
      ],
      "text/plain": [
       "                id date_account_created  timestamp_first_active  \\\n",
       "110148  rnuia1rusf           2013-09-23          20130923035926   \n",
       "30989   bw4zlssm8y           2012-07-08          20120708201221   \n",
       "93843   ah9afcvibz           2013-07-25          20130725034025   \n",
       "185674  7155kvi7yj           2014-05-07          20140507051038   \n",
       "97189   8mlxyt66zv           2013-08-07          20130807000547   \n",
       "213067  vb6qxtp1x0           2014-06-30          20140630063227   \n",
       "\n",
       "       date_first_booking     gender   age signup_method  signup_flow  \\\n",
       "110148                NaN  -unknown-   NaN         basic           25   \n",
       "30989          2013-03-05     FEMALE  39.0         basic            0   \n",
       "93843                 NaN     FEMALE  38.0         basic            0   \n",
       "185674                NaN  -unknown-   NaN         basic            0   \n",
       "97189                 NaN       MALE  29.0         basic            0   \n",
       "213067                NaN  -unknown-   NaN         basic           25   \n",
       "\n",
       "       language affiliate_channel affiliate_provider first_affiliate_tracked  \\\n",
       "110148       en            direct             direct               untracked   \n",
       "30989        en             other              other           tracked-other   \n",
       "93843        en            direct             direct               untracked   \n",
       "185674       en               seo             google                  linked   \n",
       "97189        en            direct             direct               untracked   \n",
       "213067       en            direct             direct               untracked   \n",
       "\n",
       "       signup_app first_device_type  first_browser country_destination  \n",
       "110148        iOS            iPhone      -unknown-                 NDF  \n",
       "30989         Web       Mac Desktop         Safari               other  \n",
       "93843         Web   Windows Desktop             IE                 NDF  \n",
       "185674        Web              iPad  Mobile Safari                 NDF  \n",
       "97189         Web       Mac Desktop         Chrome                 NDF  \n",
       "213067        iOS            iPhone      -unknown-                 NDF  "
      ]
     },
     "execution_count": 376,
     "metadata": {},
     "output_type": "execute_result"
    }
   ],
   "source": [
    "df_train = pd.read_csv('train_users_2.csv')\n",
    "df_train.sample(6)"
   ]
  },
  {
   "cell_type": "code",
   "execution_count": 377,
   "id": "improved-stress",
   "metadata": {
    "scrolled": true
   },
   "outputs": [
    {
     "name": "stdout",
     "output_type": "stream",
     "text": [
      "<class 'pandas.core.frame.DataFrame'>\n",
      "RangeIndex: 213451 entries, 0 to 213450\n",
      "Data columns (total 16 columns):\n",
      " #   Column                   Non-Null Count   Dtype  \n",
      "---  ------                   --------------   -----  \n",
      " 0   id                       213451 non-null  object \n",
      " 1   date_account_created     213451 non-null  object \n",
      " 2   timestamp_first_active   213451 non-null  int64  \n",
      " 3   date_first_booking       88908 non-null   object \n",
      " 4   gender                   213451 non-null  object \n",
      " 5   age                      125461 non-null  float64\n",
      " 6   signup_method            213451 non-null  object \n",
      " 7   signup_flow              213451 non-null  int64  \n",
      " 8   language                 213451 non-null  object \n",
      " 9   affiliate_channel        213451 non-null  object \n",
      " 10  affiliate_provider       213451 non-null  object \n",
      " 11  first_affiliate_tracked  207386 non-null  object \n",
      " 12  signup_app               213451 non-null  object \n",
      " 13  first_device_type        213451 non-null  object \n",
      " 14  first_browser            213451 non-null  object \n",
      " 15  country_destination      213451 non-null  object \n",
      "dtypes: float64(1), int64(2), object(13)\n",
      "memory usage: 26.1+ MB\n"
     ]
    }
   ],
   "source": [
    "df_train.info()"
   ]
  },
  {
   "cell_type": "code",
   "execution_count": 378,
   "id": "horizontal-burlington",
   "metadata": {},
   "outputs": [
    {
     "data": {
      "text/plain": [
       "<AxesSubplot:>"
      ]
     },
     "execution_count": 378,
     "metadata": {},
     "output_type": "execute_result"
    },
    {
     "data": {
      "image/png": "[encoded data removed]",
      "text/plain": [
       "<Figure size 432x288 with 1 Axes>"
      ]
     },
     "metadata": {
      "needs_background": "light"
     },
     "output_type": "display_data"
    }
   ],
   "source": [
    "df_train.country_destination.hist()"
   ]
  },
  {
   "cell_type": "code",
   "execution_count": 379,
   "id": "proper-election",
   "metadata": {},
   "outputs": [
    {
     "data": {
      "text/plain": [
       "id                              0\n",
       "date_account_created            0\n",
       "timestamp_first_active          0\n",
       "date_first_booking         124543\n",
       "gender                          0\n",
       "age                         87990\n",
       "signup_method                   0\n",
       "signup_flow                     0\n",
       "language                        0\n",
       "affiliate_channel               0\n",
       "affiliate_provider              0\n",
       "first_affiliate_tracked      6065\n",
       "signup_app                      0\n",
       "first_device_type               0\n",
       "first_browser                   0\n",
       "country_destination             0\n",
       "dtype: int64"
      ]
     },
     "execution_count": 379,
     "metadata": {},
     "output_type": "execute_result"
    }
   ],
   "source": [
    "np.sum(df_train.isnull())"
   ]
  },
  {
   "cell_type": "code",
   "execution_count": 380,
   "id": "canadian-indianapolis",
   "metadata": {
    "scrolled": true
   },
   "outputs": [
    {
     "data": {
      "text/plain": [
       "Chrome                  63845\n",
       "Safari                  45169\n",
       "Firefox                 33655\n",
       "-unknown-               27266\n",
       "IE                      21068\n",
       "Mobile Safari           19274\n",
       "Chrome Mobile            1270\n",
       "Android Browser           851\n",
       "AOL Explorer              245\n",
       "Opera                     188\n",
       "Silk                      124\n",
       "Chromium                   73\n",
       "BlackBerry Browser         53\n",
       "Maxthon                    46\n",
       "Apple Mail                 36\n",
       "IE Mobile                  36\n",
       "Sogou Explorer             33\n",
       "Mobile Firefox             30\n",
       "SiteKiosk                  24\n",
       "RockMelt                   24\n",
       "Iron                       17\n",
       "IceWeasel                  13\n",
       "Pale Moon                  12\n",
       "SeaMonkey                  11\n",
       "CometBird                  11\n",
       "Yandex.Browser             11\n",
       "Camino                      9\n",
       "TenFourFox                  8\n",
       "wOSBrowser                  6\n",
       "CoolNovo                    6\n",
       "Opera Mini                  4\n",
       "Avant Browser               4\n",
       "Mozilla                     3\n",
       "Flock                       2\n",
       "Comodo Dragon               2\n",
       "Crazy Browser               2\n",
       "TheWorld Browser            2\n",
       "OmniWeb                     2\n",
       "SlimBrowser                 2\n",
       "Opera Mobile                2\n",
       "Googlebot                   1\n",
       "Google Earth                1\n",
       "Epic                        1\n",
       "PS Vita browser             1\n",
       "Conkeror                    1\n",
       "Stainless                   1\n",
       "Kindle Browser              1\n",
       "Palm Pre web browser        1\n",
       "Arora                       1\n",
       "NetNewsWire                 1\n",
       "Outlook 2007                1\n",
       "IceDragon                   1\n",
       "Name: first_browser, dtype: int64"
      ]
     },
     "execution_count": 380,
     "metadata": {},
     "output_type": "execute_result"
    }
   ],
   "source": [
    "df_train.first_browser.value_counts()"
   ]
  },
  {
   "cell_type": "code",
   "execution_count": 381,
   "id": "restricted-frederick",
   "metadata": {},
   "outputs": [
    {
     "data": {
      "text/plain": [
       "-unknown-    95688\n",
       "FEMALE       63041\n",
       "MALE         54440\n",
       "OTHER          282\n",
       "Name: gender, dtype: int64"
      ]
     },
     "execution_count": 381,
     "metadata": {},
     "output_type": "execute_result"
    }
   ],
   "source": [
    "df_train.gender.value_counts()"
   ]
  },
  {
   "cell_type": "code",
   "execution_count": 382,
   "id": "jewish-miniature",
   "metadata": {},
   "outputs": [
    {
     "data": {
      "text/plain": [
       "count    125461.000000\n",
       "mean         49.668335\n",
       "std         155.666612\n",
       "min           1.000000\n",
       "25%          28.000000\n",
       "50%          34.000000\n",
       "75%          43.000000\n",
       "max        2014.000000\n",
       "Name: age, dtype: float64"
      ]
     },
     "execution_count": 382,
     "metadata": {},
     "output_type": "execute_result"
    }
   ],
   "source": [
    "df_train.age.describe() #age has many outliers"
   ]
  },
  {
   "cell_type": "code",
   "execution_count": 383,
   "id": "incomplete-semiconductor",
   "metadata": {},
   "outputs": [
    {
     "data": {
      "text/plain": [
       "(213451, 16)"
      ]
     },
     "execution_count": 383,
     "metadata": {},
     "output_type": "execute_result"
    }
   ],
   "source": [
    "df_train.shape"
   ]
  },
  {
   "cell_type": "code",
   "execution_count": 384,
   "id": "gothic-clinton",
   "metadata": {},
   "outputs": [
    {
     "data": {
      "text/plain": [
       "id                         801\n",
       "date_account_created       801\n",
       "timestamp_first_active     801\n",
       "date_first_booking         382\n",
       "gender                     801\n",
       "age                        801\n",
       "signup_method              801\n",
       "signup_flow                801\n",
       "language                   801\n",
       "affiliate_channel          801\n",
       "affiliate_provider         801\n",
       "first_affiliate_tracked    766\n",
       "signup_app                 801\n",
       "first_device_type          801\n",
       "first_browser              801\n",
       "country_destination        801\n",
       "dtype: int64"
      ]
     },
     "execution_count": 384,
     "metadata": {},
     "output_type": "execute_result"
    }
   ],
   "source": [
    "df_train[df_train['age']>110].count()"
   ]
  },
  {
   "cell_type": "code",
   "execution_count": 385,
   "id": "bored-rochester",
   "metadata": {},
   "outputs": [
    {
     "data": {
      "text/plain": [
       "id                         65\n",
       "date_account_created       65\n",
       "timestamp_first_active     65\n",
       "date_first_booking         17\n",
       "gender                     65\n",
       "age                        65\n",
       "signup_method              65\n",
       "signup_flow                65\n",
       "language                   65\n",
       "affiliate_channel          65\n",
       "affiliate_provider         65\n",
       "first_affiliate_tracked    46\n",
       "signup_app                 65\n",
       "first_device_type          65\n",
       "first_browser              65\n",
       "country_destination        65\n",
       "dtype: int64"
      ]
     },
     "execution_count": 385,
     "metadata": {},
     "output_type": "execute_result"
    }
   ],
   "source": [
    "df_train[df_train.age<16].count()"
   ]
  },
  {
   "cell_type": "code",
   "execution_count": 386,
   "id": "colonial-dealer",
   "metadata": {
    "scrolled": true
   },
   "outputs": [
    {
     "data": {
      "text/plain": [
       "2010-01-02    1\n",
       "2010-01-04    1\n",
       "2010-01-05    1\n",
       "2010-01-06    1\n",
       "2010-01-08    1\n",
       "             ..\n",
       "2015-06-23    1\n",
       "2015-06-25    1\n",
       "2015-06-26    1\n",
       "2015-06-28    1\n",
       "2015-06-29    1\n",
       "Name: date_first_booking, Length: 1976, dtype: int64"
      ]
     },
     "execution_count": 386,
     "metadata": {},
     "output_type": "execute_result"
    }
   ],
   "source": [
    "df_train.date_first_booking.value_counts().sort_index()"
   ]
  },
  {
   "cell_type": "code",
   "execution_count": 387,
   "id": "surgical-sculpture",
   "metadata": {},
   "outputs": [
    {
     "data": {
      "text/plain": [
       "id                              0\n",
       "date_account_created            0\n",
       "timestamp_first_active          0\n",
       "date_first_booking         124543\n",
       "gender                          0\n",
       "age                         87990\n",
       "signup_method                   0\n",
       "signup_flow                     0\n",
       "language                        0\n",
       "affiliate_channel               0\n",
       "affiliate_provider              0\n",
       "first_affiliate_tracked      6065\n",
       "signup_app                      0\n",
       "first_device_type               0\n",
       "first_browser                   0\n",
       "country_destination             0\n",
       "dtype: int64"
      ]
     },
     "execution_count": 387,
     "metadata": {},
     "output_type": "execute_result"
    }
   ],
   "source": [
    "df_train.isnull().sum()"
   ]
  },
  {
   "cell_type": "code",
   "execution_count": 388,
   "id": "superb-citizenship",
   "metadata": {},
   "outputs": [
    {
     "data": {
      "text/html": [
       "<div>\n",
       "<style scoped>\n",
       "    .dataframe tbody tr th:only-of-type {\n",
       "        vertical-align: middle;\n",
       "    }\n",
       "\n",
       "    .dataframe tbody tr th {\n",
       "        vertical-align: top;\n",
       "    }\n",
       "\n",
       "    .dataframe thead th {\n",
       "        text-align: right;\n",
       "    }\n",
       "</style>\n",
       "<table border=\"1\" class=\"dataframe\">\n",
       "  <thead>\n",
       "    <tr style=\"text-align: right;\">\n",
       "      <th></th>\n",
       "      <th>id</th>\n",
       "      <th>date_account_created</th>\n",
       "      <th>timestamp_first_active</th>\n",
       "      <th>date_first_booking</th>\n",
       "      <th>gender</th>\n",
       "      <th>age</th>\n",
       "      <th>signup_method</th>\n",
       "      <th>signup_flow</th>\n",
       "      <th>language</th>\n",
       "      <th>affiliate_channel</th>\n",
       "      <th>affiliate_provider</th>\n",
       "      <th>first_affiliate_tracked</th>\n",
       "      <th>signup_app</th>\n",
       "      <th>first_device_type</th>\n",
       "      <th>first_browser</th>\n",
       "    </tr>\n",
       "  </thead>\n",
       "  <tbody>\n",
       "    <tr>\n",
       "      <th>3501</th>\n",
       "      <td>2m6mxo9gaj</td>\n",
       "      <td>2014-07-07</td>\n",
       "      <td>20140707152646</td>\n",
       "      <td>NaN</td>\n",
       "      <td>MALE</td>\n",
       "      <td>45.0</td>\n",
       "      <td>basic</td>\n",
       "      <td>0</td>\n",
       "      <td>en</td>\n",
       "      <td>direct</td>\n",
       "      <td>direct</td>\n",
       "      <td>linked</td>\n",
       "      <td>Web</td>\n",
       "      <td>Mac Desktop</td>\n",
       "      <td>Safari</td>\n",
       "    </tr>\n",
       "    <tr>\n",
       "      <th>19252</th>\n",
       "      <td>9ws7qhfcjw</td>\n",
       "      <td>2014-07-28</td>\n",
       "      <td>20140728220847</td>\n",
       "      <td>NaN</td>\n",
       "      <td>MALE</td>\n",
       "      <td>NaN</td>\n",
       "      <td>facebook</td>\n",
       "      <td>0</td>\n",
       "      <td>en</td>\n",
       "      <td>direct</td>\n",
       "      <td>direct</td>\n",
       "      <td>product</td>\n",
       "      <td>Web</td>\n",
       "      <td>Mac Desktop</td>\n",
       "      <td>Safari</td>\n",
       "    </tr>\n",
       "    <tr>\n",
       "      <th>16992</th>\n",
       "      <td>tw7jyc4d9h</td>\n",
       "      <td>2014-07-25</td>\n",
       "      <td>20140725185804</td>\n",
       "      <td>NaN</td>\n",
       "      <td>MALE</td>\n",
       "      <td>37.0</td>\n",
       "      <td>basic</td>\n",
       "      <td>0</td>\n",
       "      <td>en</td>\n",
       "      <td>direct</td>\n",
       "      <td>direct</td>\n",
       "      <td>untracked</td>\n",
       "      <td>Web</td>\n",
       "      <td>iPad</td>\n",
       "      <td>Mobile Safari</td>\n",
       "    </tr>\n",
       "    <tr>\n",
       "      <th>53891</th>\n",
       "      <td>o2snp7jppz</td>\n",
       "      <td>2014-09-17</td>\n",
       "      <td>20140917164019</td>\n",
       "      <td>NaN</td>\n",
       "      <td>-unknown-</td>\n",
       "      <td>NaN</td>\n",
       "      <td>basic</td>\n",
       "      <td>25</td>\n",
       "      <td>en</td>\n",
       "      <td>direct</td>\n",
       "      <td>direct</td>\n",
       "      <td>untracked</td>\n",
       "      <td>iOS</td>\n",
       "      <td>iPhone</td>\n",
       "      <td>-unknown-</td>\n",
       "    </tr>\n",
       "    <tr>\n",
       "      <th>22903</th>\n",
       "      <td>6oo890cefy</td>\n",
       "      <td>2014-08-02</td>\n",
       "      <td>20140802215726</td>\n",
       "      <td>NaN</td>\n",
       "      <td>FEMALE</td>\n",
       "      <td>46.0</td>\n",
       "      <td>basic</td>\n",
       "      <td>0</td>\n",
       "      <td>en</td>\n",
       "      <td>sem-brand</td>\n",
       "      <td>google</td>\n",
       "      <td>omg</td>\n",
       "      <td>Web</td>\n",
       "      <td>Mac Desktop</td>\n",
       "      <td>Safari</td>\n",
       "    </tr>\n",
       "    <tr>\n",
       "      <th>31150</th>\n",
       "      <td>1jajzwpjjy</td>\n",
       "      <td>2014-08-14</td>\n",
       "      <td>20140814044549</td>\n",
       "      <td>NaN</td>\n",
       "      <td>-unknown-</td>\n",
       "      <td>NaN</td>\n",
       "      <td>basic</td>\n",
       "      <td>0</td>\n",
       "      <td>en</td>\n",
       "      <td>sem-non-brand</td>\n",
       "      <td>google</td>\n",
       "      <td>omg</td>\n",
       "      <td>Web</td>\n",
       "      <td>iPad</td>\n",
       "      <td>Mobile Safari</td>\n",
       "    </tr>\n",
       "  </tbody>\n",
       "</table>\n",
       "</div>"
      ],
      "text/plain": [
       "               id date_account_created  timestamp_first_active  \\\n",
       "3501   2m6mxo9gaj           2014-07-07          20140707152646   \n",
       "19252  9ws7qhfcjw           2014-07-28          20140728220847   \n",
       "16992  tw7jyc4d9h           2014-07-25          20140725185804   \n",
       "53891  o2snp7jppz           2014-09-17          20140917164019   \n",
       "22903  6oo890cefy           2014-08-02          20140802215726   \n",
       "31150  1jajzwpjjy           2014-08-14          20140814044549   \n",
       "\n",
       "       date_first_booking     gender   age signup_method  signup_flow  \\\n",
       "3501                  NaN       MALE  45.0         basic            0   \n",
       "19252                 NaN       MALE   NaN      facebook            0   \n",
       "16992                 NaN       MALE  37.0         basic            0   \n",
       "53891                 NaN  -unknown-   NaN         basic           25   \n",
       "22903                 NaN     FEMALE  46.0         basic            0   \n",
       "31150                 NaN  -unknown-   NaN         basic            0   \n",
       "\n",
       "      language affiliate_channel affiliate_provider first_affiliate_tracked  \\\n",
       "3501        en            direct             direct                  linked   \n",
       "19252       en            direct             direct                 product   \n",
       "16992       en            direct             direct               untracked   \n",
       "53891       en            direct             direct               untracked   \n",
       "22903       en         sem-brand             google                     omg   \n",
       "31150       en     sem-non-brand             google                     omg   \n",
       "\n",
       "      signup_app first_device_type  first_browser  \n",
       "3501         Web       Mac Desktop         Safari  \n",
       "19252        Web       Mac Desktop         Safari  \n",
       "16992        Web              iPad  Mobile Safari  \n",
       "53891        iOS            iPhone      -unknown-  \n",
       "22903        Web       Mac Desktop         Safari  \n",
       "31150        Web              iPad  Mobile Safari  "
      ]
     },
     "execution_count": 388,
     "metadata": {},
     "output_type": "execute_result"
    }
   ],
   "source": [
    "df_test = pd.read_csv('test_users.csv')\n",
    "df_test.sample(6)"
   ]
  },
  {
   "cell_type": "code",
   "execution_count": 389,
   "id": "meaning-seating",
   "metadata": {},
   "outputs": [
    {
     "data": {
      "text/plain": [
       "id                             0\n",
       "date_account_created           0\n",
       "timestamp_first_active         0\n",
       "date_first_booking         62096\n",
       "gender                         0\n",
       "age                        28876\n",
       "signup_method                  0\n",
       "signup_flow                    0\n",
       "language                       0\n",
       "affiliate_channel              0\n",
       "affiliate_provider             0\n",
       "first_affiliate_tracked       20\n",
       "signup_app                     0\n",
       "first_device_type              0\n",
       "first_browser                  0\n",
       "dtype: int64"
      ]
     },
     "execution_count": 389,
     "metadata": {},
     "output_type": "execute_result"
    }
   ],
   "source": [
    "df_test.isnull().sum()"
   ]
  },
  {
   "cell_type": "code",
   "execution_count": 390,
   "id": "sapphire-canal",
   "metadata": {},
   "outputs": [
    {
     "data": {
      "text/plain": [
       "(62096, 15)"
      ]
     },
     "execution_count": 390,
     "metadata": {},
     "output_type": "execute_result"
    }
   ],
   "source": [
    "df_test.shape"
   ]
  },
  {
   "cell_type": "code",
   "execution_count": 391,
   "id": "skilled-worthy",
   "metadata": {},
   "outputs": [
    {
     "data": {
      "text/plain": [
       "(275547, 16)"
      ]
     },
     "execution_count": 391,
     "metadata": {},
     "output_type": "execute_result"
    }
   ],
   "source": [
    "#Concate train & test\n",
    "df_final= pd.concat([df_train,df_test],axis=0)\n",
    "df_final.shape"
   ]
  },
  {
   "cell_type": "markdown",
   "id": "alien-conference",
   "metadata": {},
   "source": [
    "## Data Cleaning"
   ]
  },
  {
   "cell_type": "code",
   "execution_count": 392,
   "id": "cognitive-eclipse",
   "metadata": {},
   "outputs": [],
   "source": [
    "df_copy = df_final.copy()"
   ]
  },
  {
   "cell_type": "code",
   "execution_count": 393,
   "id": "prescribed-butter",
   "metadata": {},
   "outputs": [
    {
     "name": "stdout",
     "output_type": "stream",
     "text": [
      "<class 'pandas.core.frame.DataFrame'>\n",
      "Int64Index: 275547 entries, 0 to 62095\n",
      "Data columns (total 16 columns):\n",
      " #   Column                   Non-Null Count   Dtype  \n",
      "---  ------                   --------------   -----  \n",
      " 0   id                       275547 non-null  object \n",
      " 1   date_account_created     275547 non-null  object \n",
      " 2   timestamp_first_active   275547 non-null  int64  \n",
      " 3   date_first_booking       88908 non-null   object \n",
      " 4   gender                   275547 non-null  object \n",
      " 5   age                      158681 non-null  float64\n",
      " 6   signup_method            275547 non-null  object \n",
      " 7   signup_flow              275547 non-null  int64  \n",
      " 8   language                 275547 non-null  object \n",
      " 9   affiliate_channel        275547 non-null  object \n",
      " 10  affiliate_provider       275547 non-null  object \n",
      " 11  first_affiliate_tracked  269462 non-null  object \n",
      " 12  signup_app               275547 non-null  object \n",
      " 13  first_device_type        275547 non-null  object \n",
      " 14  first_browser            275547 non-null  object \n",
      " 15  country_destination      213451 non-null  object \n",
      "dtypes: float64(1), int64(2), object(13)\n",
      "memory usage: 35.7+ MB\n"
     ]
    }
   ],
   "source": [
    "#For train data we will fill the age nan and outliers \"<110 & >16\" with the mean \n",
    "df_copy.info()"
   ]
  },
  {
   "cell_type": "code",
   "execution_count": 394,
   "id": "exciting-screening",
   "metadata": {},
   "outputs": [
    {
     "name": "stdout",
     "output_type": "stream",
     "text": [
      " 'date_first_booking' has 186639 null values.\n",
      "\n",
      " 'age' has 116866 null values.\n",
      "\n",
      " 'first_affiliate_tracked' has 6085 null values.\n",
      "\n",
      " 'country_destination' has 62096 null values.\n",
      "\n",
      "shape is:  (275547, 16)\n"
     ]
    }
   ],
   "source": [
    "#df_copy.isnull().sum()\n",
    "#Finding the number of null entries in each column.\n",
    "for col in df_copy.columns:\n",
    "    null_values = df_copy[col].isnull().sum()\n",
    "    if null_values != 0:\n",
    "        print( \" '{}' has {} null values.\".format(col,null_values))\n",
    "        print() # for a whitespace format only\n",
    "print('shape is: ', df_copy.shape)\n"
   ]
  },
  {
   "cell_type": "code",
   "execution_count": 395,
   "id": "rising-buying",
   "metadata": {},
   "outputs": [],
   "source": [
    "df_copy[(df_copy.age<110)&(df_copy.age>16)].age.mean() #mean of normal age is 37\n",
    "Value=37.0"
   ]
  },
  {
   "cell_type": "code",
   "execution_count": 396,
   "id": "cubic-documentary",
   "metadata": {},
   "outputs": [
    {
     "data": {
      "text/html": [
       "<div>\n",
       "<style scoped>\n",
       "    .dataframe tbody tr th:only-of-type {\n",
       "        vertical-align: middle;\n",
       "    }\n",
       "\n",
       "    .dataframe tbody tr th {\n",
       "        vertical-align: top;\n",
       "    }\n",
       "\n",
       "    .dataframe thead th {\n",
       "        text-align: right;\n",
       "    }\n",
       "</style>\n",
       "<table border=\"1\" class=\"dataframe\">\n",
       "  <thead>\n",
       "    <tr style=\"text-align: right;\">\n",
       "      <th></th>\n",
       "      <th>id</th>\n",
       "      <th>date_account_created</th>\n",
       "      <th>timestamp_first_active</th>\n",
       "      <th>date_first_booking</th>\n",
       "      <th>gender</th>\n",
       "      <th>age</th>\n",
       "      <th>signup_method</th>\n",
       "      <th>signup_flow</th>\n",
       "      <th>language</th>\n",
       "      <th>affiliate_channel</th>\n",
       "      <th>affiliate_provider</th>\n",
       "      <th>first_affiliate_tracked</th>\n",
       "      <th>signup_app</th>\n",
       "      <th>first_device_type</th>\n",
       "      <th>first_browser</th>\n",
       "      <th>country_destination</th>\n",
       "    </tr>\n",
       "  </thead>\n",
       "  <tbody>\n",
       "    <tr>\n",
       "      <th>122986</th>\n",
       "      <td>gm2j2na9d4</td>\n",
       "      <td>2013-11-08</td>\n",
       "      <td>20131108231317</td>\n",
       "      <td>2014-08-21</td>\n",
       "      <td>FEMALE</td>\n",
       "      <td>25.0</td>\n",
       "      <td>basic</td>\n",
       "      <td>0</td>\n",
       "      <td>en</td>\n",
       "      <td>direct</td>\n",
       "      <td>direct</td>\n",
       "      <td>untracked</td>\n",
       "      <td>Web</td>\n",
       "      <td>Mac Desktop</td>\n",
       "      <td>Safari</td>\n",
       "      <td>US</td>\n",
       "    </tr>\n",
       "    <tr>\n",
       "      <th>68087</th>\n",
       "      <td>b1y4bgc1k7</td>\n",
       "      <td>2013-03-30</td>\n",
       "      <td>20130330155041</td>\n",
       "      <td>NaN</td>\n",
       "      <td>-unknown-</td>\n",
       "      <td>37.0</td>\n",
       "      <td>basic</td>\n",
       "      <td>0</td>\n",
       "      <td>en</td>\n",
       "      <td>direct</td>\n",
       "      <td>direct</td>\n",
       "      <td>linked</td>\n",
       "      <td>Web</td>\n",
       "      <td>Mac Desktop</td>\n",
       "      <td>Chrome</td>\n",
       "      <td>NDF</td>\n",
       "    </tr>\n",
       "    <tr>\n",
       "      <th>22311</th>\n",
       "      <td>kxbzz3e7j9</td>\n",
       "      <td>2014-08-01</td>\n",
       "      <td>20140801213859</td>\n",
       "      <td>NaN</td>\n",
       "      <td>MALE</td>\n",
       "      <td>41.0</td>\n",
       "      <td>facebook</td>\n",
       "      <td>0</td>\n",
       "      <td>en</td>\n",
       "      <td>direct</td>\n",
       "      <td>direct</td>\n",
       "      <td>untracked</td>\n",
       "      <td>Web</td>\n",
       "      <td>Windows Desktop</td>\n",
       "      <td>IE</td>\n",
       "      <td>NaN</td>\n",
       "    </tr>\n",
       "    <tr>\n",
       "      <th>18544</th>\n",
       "      <td>7d7115vvsm</td>\n",
       "      <td>2014-07-27</td>\n",
       "      <td>20140727231748</td>\n",
       "      <td>NaN</td>\n",
       "      <td>-unknown-</td>\n",
       "      <td>37.0</td>\n",
       "      <td>basic</td>\n",
       "      <td>25</td>\n",
       "      <td>en</td>\n",
       "      <td>direct</td>\n",
       "      <td>direct</td>\n",
       "      <td>untracked</td>\n",
       "      <td>iOS</td>\n",
       "      <td>Mac Desktop</td>\n",
       "      <td>Safari</td>\n",
       "      <td>NaN</td>\n",
       "    </tr>\n",
       "    <tr>\n",
       "      <th>20792</th>\n",
       "      <td>nk2gsd3j9d</td>\n",
       "      <td>2012-04-08</td>\n",
       "      <td>20120408195917</td>\n",
       "      <td>NaN</td>\n",
       "      <td>MALE</td>\n",
       "      <td>44.0</td>\n",
       "      <td>facebook</td>\n",
       "      <td>0</td>\n",
       "      <td>en</td>\n",
       "      <td>other</td>\n",
       "      <td>other</td>\n",
       "      <td>untracked</td>\n",
       "      <td>Web</td>\n",
       "      <td>iPhone</td>\n",
       "      <td>Chrome Mobile</td>\n",
       "      <td>NDF</td>\n",
       "    </tr>\n",
       "    <tr>\n",
       "      <th>157132</th>\n",
       "      <td>e4hb9hvzw8</td>\n",
       "      <td>2014-02-26</td>\n",
       "      <td>20140226084622</td>\n",
       "      <td>2014-05-01</td>\n",
       "      <td>-unknown-</td>\n",
       "      <td>37.0</td>\n",
       "      <td>basic</td>\n",
       "      <td>0</td>\n",
       "      <td>en</td>\n",
       "      <td>direct</td>\n",
       "      <td>direct</td>\n",
       "      <td>untracked</td>\n",
       "      <td>Web</td>\n",
       "      <td>Mac Desktop</td>\n",
       "      <td>Safari</td>\n",
       "      <td>other</td>\n",
       "    </tr>\n",
       "    <tr>\n",
       "      <th>40056</th>\n",
       "      <td>n7sv54vcar</td>\n",
       "      <td>2012-09-08</td>\n",
       "      <td>20120908142930</td>\n",
       "      <td>NaN</td>\n",
       "      <td>MALE</td>\n",
       "      <td>37.0</td>\n",
       "      <td>basic</td>\n",
       "      <td>0</td>\n",
       "      <td>fr</td>\n",
       "      <td>direct</td>\n",
       "      <td>direct</td>\n",
       "      <td>linked</td>\n",
       "      <td>Web</td>\n",
       "      <td>Windows Desktop</td>\n",
       "      <td>Firefox</td>\n",
       "      <td>NDF</td>\n",
       "    </tr>\n",
       "    <tr>\n",
       "      <th>115207</th>\n",
       "      <td>9jv5y94p6r</td>\n",
       "      <td>2013-10-08</td>\n",
       "      <td>20131008164929</td>\n",
       "      <td>NaN</td>\n",
       "      <td>MALE</td>\n",
       "      <td>105.0</td>\n",
       "      <td>facebook</td>\n",
       "      <td>0</td>\n",
       "      <td>en</td>\n",
       "      <td>direct</td>\n",
       "      <td>direct</td>\n",
       "      <td>untracked</td>\n",
       "      <td>Web</td>\n",
       "      <td>Mac Desktop</td>\n",
       "      <td>Chrome</td>\n",
       "      <td>NDF</td>\n",
       "    </tr>\n",
       "    <tr>\n",
       "      <th>98376</th>\n",
       "      <td>flevj4wg1v</td>\n",
       "      <td>2013-08-11</td>\n",
       "      <td>20130811064612</td>\n",
       "      <td>2013-08-11</td>\n",
       "      <td>FEMALE</td>\n",
       "      <td>35.0</td>\n",
       "      <td>basic</td>\n",
       "      <td>0</td>\n",
       "      <td>en</td>\n",
       "      <td>direct</td>\n",
       "      <td>direct</td>\n",
       "      <td>untracked</td>\n",
       "      <td>Web</td>\n",
       "      <td>Mac Desktop</td>\n",
       "      <td>Safari</td>\n",
       "      <td>US</td>\n",
       "    </tr>\n",
       "    <tr>\n",
       "      <th>100197</th>\n",
       "      <td>brh9pf137x</td>\n",
       "      <td>2013-08-17</td>\n",
       "      <td>20130817204935</td>\n",
       "      <td>NaN</td>\n",
       "      <td>-unknown-</td>\n",
       "      <td>37.0</td>\n",
       "      <td>basic</td>\n",
       "      <td>0</td>\n",
       "      <td>en</td>\n",
       "      <td>direct</td>\n",
       "      <td>direct</td>\n",
       "      <td>untracked</td>\n",
       "      <td>Web</td>\n",
       "      <td>Windows Desktop</td>\n",
       "      <td>IE</td>\n",
       "      <td>NDF</td>\n",
       "    </tr>\n",
       "    <tr>\n",
       "      <th>127733</th>\n",
       "      <td>nuphj09021</td>\n",
       "      <td>2013-11-26</td>\n",
       "      <td>20131126070137</td>\n",
       "      <td>NaN</td>\n",
       "      <td>-unknown-</td>\n",
       "      <td>37.0</td>\n",
       "      <td>basic</td>\n",
       "      <td>0</td>\n",
       "      <td>en</td>\n",
       "      <td>direct</td>\n",
       "      <td>direct</td>\n",
       "      <td>untracked</td>\n",
       "      <td>Web</td>\n",
       "      <td>Windows Desktop</td>\n",
       "      <td>IE</td>\n",
       "      <td>NDF</td>\n",
       "    </tr>\n",
       "    <tr>\n",
       "      <th>156957</th>\n",
       "      <td>kew3q6n4xp</td>\n",
       "      <td>2014-02-26</td>\n",
       "      <td>20140226000240</td>\n",
       "      <td>2014-03-02</td>\n",
       "      <td>FEMALE</td>\n",
       "      <td>33.0</td>\n",
       "      <td>basic</td>\n",
       "      <td>0</td>\n",
       "      <td>en</td>\n",
       "      <td>sem-brand</td>\n",
       "      <td>google</td>\n",
       "      <td>omg</td>\n",
       "      <td>Web</td>\n",
       "      <td>Mac Desktop</td>\n",
       "      <td>Firefox</td>\n",
       "      <td>US</td>\n",
       "    </tr>\n",
       "    <tr>\n",
       "      <th>37160</th>\n",
       "      <td>xg1e02obkj</td>\n",
       "      <td>2012-08-19</td>\n",
       "      <td>20120819195450</td>\n",
       "      <td>NaN</td>\n",
       "      <td>MALE</td>\n",
       "      <td>30.0</td>\n",
       "      <td>facebook</td>\n",
       "      <td>0</td>\n",
       "      <td>en</td>\n",
       "      <td>direct</td>\n",
       "      <td>direct</td>\n",
       "      <td>untracked</td>\n",
       "      <td>Web</td>\n",
       "      <td>Mac Desktop</td>\n",
       "      <td>Chrome</td>\n",
       "      <td>NDF</td>\n",
       "    </tr>\n",
       "    <tr>\n",
       "      <th>19267</th>\n",
       "      <td>yjks3fls86</td>\n",
       "      <td>2014-07-28</td>\n",
       "      <td>20140728222917</td>\n",
       "      <td>NaN</td>\n",
       "      <td>-unknown-</td>\n",
       "      <td>37.0</td>\n",
       "      <td>basic</td>\n",
       "      <td>0</td>\n",
       "      <td>en</td>\n",
       "      <td>direct</td>\n",
       "      <td>direct</td>\n",
       "      <td>untracked</td>\n",
       "      <td>Web</td>\n",
       "      <td>Windows Desktop</td>\n",
       "      <td>Firefox</td>\n",
       "      <td>NaN</td>\n",
       "    </tr>\n",
       "    <tr>\n",
       "      <th>11706</th>\n",
       "      <td>tytn5zwwbb</td>\n",
       "      <td>2014-07-19</td>\n",
       "      <td>20140719224710</td>\n",
       "      <td>NaN</td>\n",
       "      <td>-unknown-</td>\n",
       "      <td>37.0</td>\n",
       "      <td>basic</td>\n",
       "      <td>0</td>\n",
       "      <td>en</td>\n",
       "      <td>direct</td>\n",
       "      <td>direct</td>\n",
       "      <td>linked</td>\n",
       "      <td>Web</td>\n",
       "      <td>Windows Desktop</td>\n",
       "      <td>Chrome</td>\n",
       "      <td>NaN</td>\n",
       "    </tr>\n",
       "    <tr>\n",
       "      <th>54721</th>\n",
       "      <td>xgbmduiioy</td>\n",
       "      <td>2014-09-18</td>\n",
       "      <td>20140918213610</td>\n",
       "      <td>NaN</td>\n",
       "      <td>MALE</td>\n",
       "      <td>19.0</td>\n",
       "      <td>basic</td>\n",
       "      <td>0</td>\n",
       "      <td>en</td>\n",
       "      <td>direct</td>\n",
       "      <td>direct</td>\n",
       "      <td>untracked</td>\n",
       "      <td>Web</td>\n",
       "      <td>Windows Desktop</td>\n",
       "      <td>Chrome</td>\n",
       "      <td>NaN</td>\n",
       "    </tr>\n",
       "    <tr>\n",
       "      <th>68245</th>\n",
       "      <td>khjjzjpox1</td>\n",
       "      <td>2013-03-31</td>\n",
       "      <td>20130331192328</td>\n",
       "      <td>2013-06-20</td>\n",
       "      <td>MALE</td>\n",
       "      <td>29.0</td>\n",
       "      <td>basic</td>\n",
       "      <td>0</td>\n",
       "      <td>en</td>\n",
       "      <td>direct</td>\n",
       "      <td>direct</td>\n",
       "      <td>untracked</td>\n",
       "      <td>Web</td>\n",
       "      <td>Mac Desktop</td>\n",
       "      <td>Chrome</td>\n",
       "      <td>US</td>\n",
       "    </tr>\n",
       "    <tr>\n",
       "      <th>28089</th>\n",
       "      <td>q04l8s0k2b</td>\n",
       "      <td>2012-06-17</td>\n",
       "      <td>20120617231440</td>\n",
       "      <td>NaN</td>\n",
       "      <td>FEMALE</td>\n",
       "      <td>54.0</td>\n",
       "      <td>facebook</td>\n",
       "      <td>0</td>\n",
       "      <td>en</td>\n",
       "      <td>sem-non-brand</td>\n",
       "      <td>google</td>\n",
       "      <td>omg</td>\n",
       "      <td>Web</td>\n",
       "      <td>iPad</td>\n",
       "      <td>Mobile Safari</td>\n",
       "      <td>NDF</td>\n",
       "    </tr>\n",
       "    <tr>\n",
       "      <th>1938</th>\n",
       "      <td>cbhbmgmd9x</td>\n",
       "      <td>2010-10-01</td>\n",
       "      <td>20101001042044</td>\n",
       "      <td>2010-10-11</td>\n",
       "      <td>MALE</td>\n",
       "      <td>28.0</td>\n",
       "      <td>basic</td>\n",
       "      <td>2</td>\n",
       "      <td>en</td>\n",
       "      <td>sem-non-brand</td>\n",
       "      <td>google</td>\n",
       "      <td>omg</td>\n",
       "      <td>Web</td>\n",
       "      <td>Mac Desktop</td>\n",
       "      <td>Chrome</td>\n",
       "      <td>US</td>\n",
       "    </tr>\n",
       "    <tr>\n",
       "      <th>24329</th>\n",
       "      <td>4yxrvi86q6</td>\n",
       "      <td>2014-08-05</td>\n",
       "      <td>20140805000023</td>\n",
       "      <td>NaN</td>\n",
       "      <td>-unknown-</td>\n",
       "      <td>37.0</td>\n",
       "      <td>basic</td>\n",
       "      <td>25</td>\n",
       "      <td>en</td>\n",
       "      <td>direct</td>\n",
       "      <td>direct</td>\n",
       "      <td>untracked</td>\n",
       "      <td>iOS</td>\n",
       "      <td>iPhone</td>\n",
       "      <td>-unknown-</td>\n",
       "      <td>NaN</td>\n",
       "    </tr>\n",
       "  </tbody>\n",
       "</table>\n",
       "</div>"
      ],
      "text/plain": [
       "                id date_account_created  timestamp_first_active  \\\n",
       "122986  gm2j2na9d4           2013-11-08          20131108231317   \n",
       "68087   b1y4bgc1k7           2013-03-30          20130330155041   \n",
       "22311   kxbzz3e7j9           2014-08-01          20140801213859   \n",
       "18544   7d7115vvsm           2014-07-27          20140727231748   \n",
       "20792   nk2gsd3j9d           2012-04-08          20120408195917   \n",
       "157132  e4hb9hvzw8           2014-02-26          20140226084622   \n",
       "40056   n7sv54vcar           2012-09-08          20120908142930   \n",
       "115207  9jv5y94p6r           2013-10-08          20131008164929   \n",
       "98376   flevj4wg1v           2013-08-11          20130811064612   \n",
       "100197  brh9pf137x           2013-08-17          20130817204935   \n",
       "127733  nuphj09021           2013-11-26          20131126070137   \n",
       "156957  kew3q6n4xp           2014-02-26          20140226000240   \n",
       "37160   xg1e02obkj           2012-08-19          20120819195450   \n",
       "19267   yjks3fls86           2014-07-28          20140728222917   \n",
       "11706   tytn5zwwbb           2014-07-19          20140719224710   \n",
       "54721   xgbmduiioy           2014-09-18          20140918213610   \n",
       "68245   khjjzjpox1           2013-03-31          20130331192328   \n",
       "28089   q04l8s0k2b           2012-06-17          20120617231440   \n",
       "1938    cbhbmgmd9x           2010-10-01          20101001042044   \n",
       "24329   4yxrvi86q6           2014-08-05          20140805000023   \n",
       "\n",
       "       date_first_booking     gender    age signup_method  signup_flow  \\\n",
       "122986         2014-08-21     FEMALE   25.0         basic            0   \n",
       "68087                 NaN  -unknown-   37.0         basic            0   \n",
       "22311                 NaN       MALE   41.0      facebook            0   \n",
       "18544                 NaN  -unknown-   37.0         basic           25   \n",
       "20792                 NaN       MALE   44.0      facebook            0   \n",
       "157132         2014-05-01  -unknown-   37.0         basic            0   \n",
       "40056                 NaN       MALE   37.0         basic            0   \n",
       "115207                NaN       MALE  105.0      facebook            0   \n",
       "98376          2013-08-11     FEMALE   35.0         basic            0   \n",
       "100197                NaN  -unknown-   37.0         basic            0   \n",
       "127733                NaN  -unknown-   37.0         basic            0   \n",
       "156957         2014-03-02     FEMALE   33.0         basic            0   \n",
       "37160                 NaN       MALE   30.0      facebook            0   \n",
       "19267                 NaN  -unknown-   37.0         basic            0   \n",
       "11706                 NaN  -unknown-   37.0         basic            0   \n",
       "54721                 NaN       MALE   19.0         basic            0   \n",
       "68245          2013-06-20       MALE   29.0         basic            0   \n",
       "28089                 NaN     FEMALE   54.0      facebook            0   \n",
       "1938           2010-10-11       MALE   28.0         basic            2   \n",
       "24329                 NaN  -unknown-   37.0         basic           25   \n",
       "\n",
       "       language affiliate_channel affiliate_provider first_affiliate_tracked  \\\n",
       "122986       en            direct             direct               untracked   \n",
       "68087        en            direct             direct                  linked   \n",
       "22311        en            direct             direct               untracked   \n",
       "18544        en            direct             direct               untracked   \n",
       "20792        en             other              other               untracked   \n",
       "157132       en            direct             direct               untracked   \n",
       "40056        fr            direct             direct                  linked   \n",
       "115207       en            direct             direct               untracked   \n",
       "98376        en            direct             direct               untracked   \n",
       "100197       en            direct             direct               untracked   \n",
       "127733       en            direct             direct               untracked   \n",
       "156957       en         sem-brand             google                     omg   \n",
       "37160        en            direct             direct               untracked   \n",
       "19267        en            direct             direct               untracked   \n",
       "11706        en            direct             direct                  linked   \n",
       "54721        en            direct             direct               untracked   \n",
       "68245        en            direct             direct               untracked   \n",
       "28089        en     sem-non-brand             google                     omg   \n",
       "1938         en     sem-non-brand             google                     omg   \n",
       "24329        en            direct             direct               untracked   \n",
       "\n",
       "       signup_app first_device_type  first_browser country_destination  \n",
       "122986        Web       Mac Desktop         Safari                  US  \n",
       "68087         Web       Mac Desktop         Chrome                 NDF  \n",
       "22311         Web   Windows Desktop             IE                 NaN  \n",
       "18544         iOS       Mac Desktop         Safari                 NaN  \n",
       "20792         Web            iPhone  Chrome Mobile                 NDF  \n",
       "157132        Web       Mac Desktop         Safari               other  \n",
       "40056         Web   Windows Desktop        Firefox                 NDF  \n",
       "115207        Web       Mac Desktop         Chrome                 NDF  \n",
       "98376         Web       Mac Desktop         Safari                  US  \n",
       "100197        Web   Windows Desktop             IE                 NDF  \n",
       "127733        Web   Windows Desktop             IE                 NDF  \n",
       "156957        Web       Mac Desktop        Firefox                  US  \n",
       "37160         Web       Mac Desktop         Chrome                 NDF  \n",
       "19267         Web   Windows Desktop        Firefox                 NaN  \n",
       "11706         Web   Windows Desktop         Chrome                 NaN  \n",
       "54721         Web   Windows Desktop         Chrome                 NaN  \n",
       "68245         Web       Mac Desktop         Chrome                  US  \n",
       "28089         Web              iPad  Mobile Safari                 NDF  \n",
       "1938          Web       Mac Desktop         Chrome                  US  \n",
       "24329         iOS            iPhone      -unknown-                 NaN  "
      ]
     },
     "execution_count": 396,
     "metadata": {},
     "output_type": "execute_result"
    }
   ],
   "source": [
    "#fill the null and outliers values with mean age\n",
    "df_copy.loc[df_copy.age>110,'age']=37.0 \n",
    "df_copy.loc[df_copy.age<16,'age']=37.0\n",
    "df_copy.age.fillna(value = Value,inplace=True)\n",
    "df_copy.sample(20)"
   ]
  },
  {
   "cell_type": "code",
   "execution_count": 397,
   "id": "twenty-annex",
   "metadata": {},
   "outputs": [],
   "source": [
    "#df_copy['age'] = df_copy['age'].apply(lambda x: '37' if x == 'NaN' else x)"
   ]
  },
  {
   "cell_type": "code",
   "execution_count": 398,
   "id": "noble-livestock",
   "metadata": {},
   "outputs": [
    {
     "data": {
      "text/plain": [
       "id                              0\n",
       "date_account_created            0\n",
       "timestamp_first_active          0\n",
       "date_first_booking         186639\n",
       "gender                          0\n",
       "age                             0\n",
       "signup_method                   0\n",
       "signup_flow                     0\n",
       "language                        0\n",
       "affiliate_channel               0\n",
       "affiliate_provider              0\n",
       "first_affiliate_tracked      6085\n",
       "signup_app                      0\n",
       "first_device_type               0\n",
       "first_browser                   0\n",
       "country_destination         62096\n",
       "dtype: int64"
      ]
     },
     "execution_count": 398,
     "metadata": {},
     "output_type": "execute_result"
    }
   ],
   "source": [
    "df_copy.isna().sum()"
   ]
  },
  {
   "cell_type": "code",
   "execution_count": null,
   "id": "romantic-executive",
   "metadata": {
    "scrolled": true
   },
   "outputs": [],
   "source": []
  },
  {
   "cell_type": "code",
   "execution_count": 399,
   "id": "athletic-given",
   "metadata": {},
   "outputs": [
    {
     "data": {
      "text/plain": [
       "62096"
      ]
     },
     "execution_count": 399,
     "metadata": {},
     "output_type": "execute_result"
    }
   ],
   "source": [
    "np.sum(df_copy[df_copy['country_destination']!='NDF']['date_first_booking'].isna())"
   ]
  },
  {
   "cell_type": "code",
   "execution_count": 400,
   "id": "acknowledged-boxing",
   "metadata": {},
   "outputs": [],
   "source": [
    "#there's no missing value for first booking date column when there is booking done"
   ]
  },
  {
   "cell_type": "code",
   "execution_count": 401,
   "id": "strong-marks",
   "metadata": {},
   "outputs": [
    {
     "data": {
      "text/plain": [
       "count        269462\n",
       "unique            7\n",
       "top       untracked\n",
       "freq         143181\n",
       "Name: first_affiliate_tracked, dtype: object"
      ]
     },
     "execution_count": 401,
     "metadata": {},
     "output_type": "execute_result"
    }
   ],
   "source": [
    "df_copy.first_affiliate_tracked.describe() #untracked is the most frequent, we could fill with mode "
   ]
  },
  {
   "cell_type": "code",
   "execution_count": 402,
   "id": "contemporary-jefferson",
   "metadata": {
    "scrolled": true
   },
   "outputs": [
    {
     "data": {
      "text/plain": [
       "<AxesSubplot:>"
      ]
     },
     "execution_count": 402,
     "metadata": {},
     "output_type": "execute_result"
    },
    {
     "data": {
      "image/png": "[encoded data removed]",
      "text/plain": [
       "<Figure size 432x288 with 1 Axes>"
      ]
     },
     "metadata": {
      "needs_background": "light"
     },
     "output_type": "display_data"
    }
   ],
   "source": [
    "df_copy.first_affiliate_tracked.hist()"
   ]
  },
  {
   "cell_type": "code",
   "execution_count": 403,
   "id": "greenhouse-adrian",
   "metadata": {},
   "outputs": [],
   "source": [
    "df_copy['first_affiliate_tracked'] = df_copy['first_affiliate_tracked'].fillna(df_copy['first_affiliate_tracked'].mode().values[0])"
   ]
  },
  {
   "cell_type": "code",
   "execution_count": 404,
   "id": "latest-repeat",
   "metadata": {},
   "outputs": [
    {
     "data": {
      "text/plain": [
       "untracked        149266\n",
       "linked            62064\n",
       "omg               54859\n",
       "tracked-other      6655\n",
       "product            2353\n",
       "marketing           281\n",
       "local ops            69\n",
       "Name: first_affiliate_tracked, dtype: int64"
      ]
     },
     "execution_count": 404,
     "metadata": {},
     "output_type": "execute_result"
    }
   ],
   "source": [
    "df_copy.first_affiliate_tracked.value_counts()"
   ]
  },
  {
   "cell_type": "code",
   "execution_count": 405,
   "id": "demographic-twins",
   "metadata": {},
   "outputs": [
    {
     "name": "stdout",
     "output_type": "stream",
     "text": [
      "<class 'pandas.core.frame.DataFrame'>\n",
      "Int64Index: 275547 entries, 0 to 62095\n",
      "Data columns (total 16 columns):\n",
      " #   Column                   Non-Null Count   Dtype  \n",
      "---  ------                   --------------   -----  \n",
      " 0   id                       275547 non-null  object \n",
      " 1   date_account_created     275547 non-null  object \n",
      " 2   timestamp_first_active   275547 non-null  int64  \n",
      " 3   date_first_booking       88908 non-null   object \n",
      " 4   gender                   275547 non-null  object \n",
      " 5   age                      275547 non-null  float64\n",
      " 6   signup_method            275547 non-null  object \n",
      " 7   signup_flow              275547 non-null  int64  \n",
      " 8   language                 275547 non-null  object \n",
      " 9   affiliate_channel        275547 non-null  object \n",
      " 10  affiliate_provider       275547 non-null  object \n",
      " 11  first_affiliate_tracked  275547 non-null  object \n",
      " 12  signup_app               275547 non-null  object \n",
      " 13  first_device_type        275547 non-null  object \n",
      " 14  first_browser            275547 non-null  object \n",
      " 15  country_destination      213451 non-null  object \n",
      "dtypes: float64(1), int64(2), object(13)\n",
      "memory usage: 35.7+ MB\n"
     ]
    }
   ],
   "source": [
    "df_copy.info()"
   ]
  },
  {
   "cell_type": "code",
   "execution_count": 406,
   "id": "funny-friday",
   "metadata": {},
   "outputs": [
    {
     "name": "stdout",
     "output_type": "stream",
     "text": [
      "<class 'pandas.core.frame.DataFrame'>\n",
      "Int64Index: 275547 entries, 0 to 62095\n",
      "Data columns (total 16 columns):\n",
      " #   Column                   Non-Null Count   Dtype         \n",
      "---  ------                   --------------   -----         \n",
      " 0   id                       275547 non-null  object        \n",
      " 1   date_account_created     275547 non-null  datetime64[ns]\n",
      " 2   timestamp_first_active   275547 non-null  int64         \n",
      " 3   date_first_booking       88908 non-null   object        \n",
      " 4   gender                   275547 non-null  object        \n",
      " 5   age                      275547 non-null  float64       \n",
      " 6   signup_method            275547 non-null  object        \n",
      " 7   signup_flow              275547 non-null  int64         \n",
      " 8   language                 275547 non-null  object        \n",
      " 9   affiliate_channel        275547 non-null  object        \n",
      " 10  affiliate_provider       275547 non-null  object        \n",
      " 11  first_affiliate_tracked  275547 non-null  object        \n",
      " 12  signup_app               275547 non-null  object        \n",
      " 13  first_device_type        275547 non-null  object        \n",
      " 14  first_browser            275547 non-null  object        \n",
      " 15  country_destination      213451 non-null  object        \n",
      "dtypes: datetime64[ns](1), float64(1), int64(2), object(12)\n",
      "memory usage: 35.7+ MB\n"
     ]
    }
   ],
   "source": [
    "#Changing the format of date_account_created to datetime\n",
    "df_copy.date_account_created=pd.to_datetime(df_copy.date_account_created)\n",
    "df_copy.info()"
   ]
  },
  {
   "cell_type": "code",
   "execution_count": 407,
   "id": "brave-envelope",
   "metadata": {},
   "outputs": [],
   "source": [
    "df_copy['AccCreat_year']=df_copy.date_account_created.dt.year\n",
    "df_copy['AccCreat_Month']=df_copy.date_account_created.dt.month\n",
    "df_copy['AccCreat_Day']=df_copy.date_account_created.dt.day"
   ]
  },
  {
   "cell_type": "code",
   "execution_count": 408,
   "id": "excess-latin",
   "metadata": {},
   "outputs": [],
   "source": [
    "df_copy.drop(['date_first_booking'],axis=1,inplace=True)"
   ]
  },
  {
   "cell_type": "code",
   "execution_count": 409,
   "id": "important-implementation",
   "metadata": {
    "scrolled": false
   },
   "outputs": [
    {
     "data": {
      "text/html": [
       "<div>\n",
       "<style scoped>\n",
       "    .dataframe tbody tr th:only-of-type {\n",
       "        vertical-align: middle;\n",
       "    }\n",
       "\n",
       "    .dataframe tbody tr th {\n",
       "        vertical-align: top;\n",
       "    }\n",
       "\n",
       "    .dataframe thead th {\n",
       "        text-align: right;\n",
       "    }\n",
       "</style>\n",
       "<table border=\"1\" class=\"dataframe\">\n",
       "  <thead>\n",
       "    <tr style=\"text-align: right;\">\n",
       "      <th></th>\n",
       "      <th>id</th>\n",
       "      <th>date_account_created</th>\n",
       "      <th>timestamp_first_active</th>\n",
       "      <th>gender</th>\n",
       "      <th>age</th>\n",
       "      <th>signup_method</th>\n",
       "      <th>signup_flow</th>\n",
       "      <th>language</th>\n",
       "      <th>affiliate_channel</th>\n",
       "      <th>affiliate_provider</th>\n",
       "      <th>first_affiliate_tracked</th>\n",
       "      <th>signup_app</th>\n",
       "      <th>first_device_type</th>\n",
       "      <th>first_browser</th>\n",
       "      <th>country_destination</th>\n",
       "      <th>AccCreat_year</th>\n",
       "      <th>AccCreat_Month</th>\n",
       "      <th>AccCreat_Day</th>\n",
       "    </tr>\n",
       "  </thead>\n",
       "  <tbody>\n",
       "    <tr>\n",
       "      <th>152321</th>\n",
       "      <td>0nwnuy9age</td>\n",
       "      <td>2014-02-13</td>\n",
       "      <td>20140213000454</td>\n",
       "      <td>-unknown-</td>\n",
       "      <td>28.0</td>\n",
       "      <td>basic</td>\n",
       "      <td>0</td>\n",
       "      <td>en</td>\n",
       "      <td>seo</td>\n",
       "      <td>google</td>\n",
       "      <td>untracked</td>\n",
       "      <td>Web</td>\n",
       "      <td>Mac Desktop</td>\n",
       "      <td>Chrome</td>\n",
       "      <td>NDF</td>\n",
       "      <td>2014</td>\n",
       "      <td>2</td>\n",
       "      <td>13</td>\n",
       "    </tr>\n",
       "    <tr>\n",
       "      <th>26866</th>\n",
       "      <td>cs0o8fqrsn</td>\n",
       "      <td>2014-08-08</td>\n",
       "      <td>20140808061012</td>\n",
       "      <td>-unknown-</td>\n",
       "      <td>18.0</td>\n",
       "      <td>basic</td>\n",
       "      <td>0</td>\n",
       "      <td>en</td>\n",
       "      <td>direct</td>\n",
       "      <td>direct</td>\n",
       "      <td>omg</td>\n",
       "      <td>Web</td>\n",
       "      <td>iPad</td>\n",
       "      <td>Chrome Mobile</td>\n",
       "      <td>NaN</td>\n",
       "      <td>2014</td>\n",
       "      <td>8</td>\n",
       "      <td>8</td>\n",
       "    </tr>\n",
       "    <tr>\n",
       "      <th>7534</th>\n",
       "      <td>q7ss6qsp1o</td>\n",
       "      <td>2014-07-14</td>\n",
       "      <td>20140714192601</td>\n",
       "      <td>FEMALE</td>\n",
       "      <td>31.0</td>\n",
       "      <td>basic</td>\n",
       "      <td>25</td>\n",
       "      <td>en</td>\n",
       "      <td>direct</td>\n",
       "      <td>direct</td>\n",
       "      <td>linked</td>\n",
       "      <td>iOS</td>\n",
       "      <td>iPhone</td>\n",
       "      <td>Mobile Safari</td>\n",
       "      <td>NaN</td>\n",
       "      <td>2014</td>\n",
       "      <td>7</td>\n",
       "      <td>14</td>\n",
       "    </tr>\n",
       "    <tr>\n",
       "      <th>45111</th>\n",
       "      <td>x6ephgal4r</td>\n",
       "      <td>2012-10-17</td>\n",
       "      <td>20121017033720</td>\n",
       "      <td>FEMALE</td>\n",
       "      <td>30.0</td>\n",
       "      <td>basic</td>\n",
       "      <td>0</td>\n",
       "      <td>en</td>\n",
       "      <td>direct</td>\n",
       "      <td>direct</td>\n",
       "      <td>omg</td>\n",
       "      <td>Web</td>\n",
       "      <td>Mac Desktop</td>\n",
       "      <td>Safari</td>\n",
       "      <td>NDF</td>\n",
       "      <td>2012</td>\n",
       "      <td>10</td>\n",
       "      <td>17</td>\n",
       "    </tr>\n",
       "    <tr>\n",
       "      <th>22280</th>\n",
       "      <td>sgojtzgze5</td>\n",
       "      <td>2012-04-25</td>\n",
       "      <td>20120425100621</td>\n",
       "      <td>MALE</td>\n",
       "      <td>25.0</td>\n",
       "      <td>facebook</td>\n",
       "      <td>3</td>\n",
       "      <td>en</td>\n",
       "      <td>sem-non-brand</td>\n",
       "      <td>vast</td>\n",
       "      <td>untracked</td>\n",
       "      <td>Web</td>\n",
       "      <td>Other/Unknown</td>\n",
       "      <td>-unknown-</td>\n",
       "      <td>NDF</td>\n",
       "      <td>2012</td>\n",
       "      <td>4</td>\n",
       "      <td>25</td>\n",
       "    </tr>\n",
       "    <tr>\n",
       "      <th>38485</th>\n",
       "      <td>qa4wr4cu4z</td>\n",
       "      <td>2012-08-28</td>\n",
       "      <td>20120828211602</td>\n",
       "      <td>FEMALE</td>\n",
       "      <td>37.0</td>\n",
       "      <td>basic</td>\n",
       "      <td>0</td>\n",
       "      <td>en</td>\n",
       "      <td>sem-brand</td>\n",
       "      <td>google</td>\n",
       "      <td>linked</td>\n",
       "      <td>Web</td>\n",
       "      <td>iPhone</td>\n",
       "      <td>Mobile Safari</td>\n",
       "      <td>IT</td>\n",
       "      <td>2012</td>\n",
       "      <td>8</td>\n",
       "      <td>28</td>\n",
       "    </tr>\n",
       "  </tbody>\n",
       "</table>\n",
       "</div>"
      ],
      "text/plain": [
       "                id date_account_created  timestamp_first_active     gender  \\\n",
       "152321  0nwnuy9age           2014-02-13          20140213000454  -unknown-   \n",
       "26866   cs0o8fqrsn           2014-08-08          20140808061012  -unknown-   \n",
       "7534    q7ss6qsp1o           2014-07-14          20140714192601     FEMALE   \n",
       "45111   x6ephgal4r           2012-10-17          20121017033720     FEMALE   \n",
       "22280   sgojtzgze5           2012-04-25          20120425100621       MALE   \n",
       "38485   qa4wr4cu4z           2012-08-28          20120828211602     FEMALE   \n",
       "\n",
       "         age signup_method  signup_flow language affiliate_channel  \\\n",
       "152321  28.0         basic            0       en               seo   \n",
       "26866   18.0         basic            0       en            direct   \n",
       "7534    31.0         basic           25       en            direct   \n",
       "45111   30.0         basic            0       en            direct   \n",
       "22280   25.0      facebook            3       en     sem-non-brand   \n",
       "38485   37.0         basic            0       en         sem-brand   \n",
       "\n",
       "       affiliate_provider first_affiliate_tracked signup_app  \\\n",
       "152321             google               untracked        Web   \n",
       "26866              direct                     omg        Web   \n",
       "7534               direct                  linked        iOS   \n",
       "45111              direct                     omg        Web   \n",
       "22280                vast               untracked        Web   \n",
       "38485              google                  linked        Web   \n",
       "\n",
       "       first_device_type  first_browser country_destination  AccCreat_year  \\\n",
       "152321       Mac Desktop         Chrome                 NDF           2014   \n",
       "26866               iPad  Chrome Mobile                 NaN           2014   \n",
       "7534              iPhone  Mobile Safari                 NaN           2014   \n",
       "45111        Mac Desktop         Safari                 NDF           2012   \n",
       "22280      Other/Unknown      -unknown-                 NDF           2012   \n",
       "38485             iPhone  Mobile Safari                  IT           2012   \n",
       "\n",
       "        AccCreat_Month  AccCreat_Day  \n",
       "152321               2            13  \n",
       "26866                8             8  \n",
       "7534                 7            14  \n",
       "45111               10            17  \n",
       "22280                4            25  \n",
       "38485                8            28  "
      ]
     },
     "execution_count": 409,
     "metadata": {},
     "output_type": "execute_result"
    }
   ],
   "source": [
    "df_copy.sample(6)"
   ]
  },
  {
   "cell_type": "code",
   "execution_count": 410,
   "id": "classified-profile",
   "metadata": {},
   "outputs": [],
   "source": [
    "#df.country_destination"
   ]
  },
  {
   "cell_type": "markdown",
   "id": "prompt-sheriff",
   "metadata": {},
   "source": [
    "## Data Exploration"
   ]
  },
  {
   "cell_type": "code",
   "execution_count": 411,
   "id": "assigned-tribe",
   "metadata": {},
   "outputs": [
    {
     "data": {
      "image/png": "[encoded data removed]",
      "text/plain": [
       "<Figure size 576x360 with 1 Axes>"
      ]
     },
     "metadata": {
      "needs_background": "light"
     },
     "output_type": "display_data"
    }
   ],
   "source": [
    "plt.figure(figsize=(8, 5))\n",
    "df_copy.age.hist(color='g')\n",
    "plt.xlim(10, 100)\n",
    "plt.xlabel(\"Age\", size=10)\n",
    "#plt.title('Cancelled Reason Distribution by Carrier', size=15)\n",
    "plt.show(); #majority almost from 25 or late 20s till 45 using airbnb "
   ]
  },
  {
   "cell_type": "code",
   "execution_count": 412,
   "id": "whole-basin",
   "metadata": {},
   "outputs": [
    {
     "data": {
      "text/plain": [
       "Web        219918\n",
       "iOS         34593\n",
       "Android     10519\n",
       "Moweb       10517\n",
       "Name: signup_app, dtype: int64"
      ]
     },
     "execution_count": 412,
     "metadata": {},
     "output_type": "execute_result"
    }
   ],
   "source": [
    "df_copy.signup_app.value_counts()"
   ]
  },
  {
   "cell_type": "code",
   "execution_count": 413,
   "id": "confused-parent",
   "metadata": {},
   "outputs": [
    {
     "data": {
      "text/plain": [
       "NDF      124543\n",
       "US        62376\n",
       "other     10094\n",
       "FR         5023\n",
       "IT         2835\n",
       "GB         2324\n",
       "ES         2249\n",
       "CA         1428\n",
       "DE         1061\n",
       "NL          762\n",
       "AU          539\n",
       "PT          217\n",
       "Name: country_destination, dtype: int64"
      ]
     },
     "execution_count": 413,
     "metadata": {},
     "output_type": "execute_result"
    }
   ],
   "source": [
    "df_copy.country_destination.value_counts() #NDF: no destination found which is no booking is done"
   ]
  },
  {
   "cell_type": "code",
   "execution_count": 414,
   "id": "cooked-singer",
   "metadata": {},
   "outputs": [
    {
     "data": {
      "text/plain": [
       "Text(0.5, 1.0, 'Airbnb Gender Data')"
      ]
     },
     "execution_count": 414,
     "metadata": {},
     "output_type": "execute_result"
    },
    {
     "data": {
      "image/png": "[encoded data removed]",
      "text/plain": [
       "<Figure size 432x288 with 1 Axes>"
      ]
     },
     "metadata": {
      "needs_background": "light"
     },
     "output_type": "display_data"
    }
   ],
   "source": [
    "Age=df_copy.gender\n",
    "Age.hist()\n",
    "plt.title('Airbnb Gender Data', size=15)\n",
    "#the unknown is a majority here!, let's analyze to see what could we do about it."
   ]
  },
  {
   "cell_type": "code",
   "execution_count": 415,
   "id": "known-nature",
   "metadata": {},
   "outputs": [
    {
     "data": {
      "image/png": "[encoded data removed]",
      "text/plain": [
       "<Figure size 1296x720 with 1 Axes>"
      ]
     },
     "metadata": {
      "needs_background": "light"
     },
     "output_type": "display_data"
    }
   ],
   "source": [
    "#See gender bias with age:\n",
    "plt.figure(figsize=(18,10))\n",
    "plt.xticks(rotation=90)\n",
    "#Unknown= df_copy.query('gender==\"-unknown-\"')\n",
    "#Unknown\n",
    "plt.ylim(0, 50000)\n",
    "sns.countplot(x='age',data=df_copy,hue='gender').set_xlim(1,70);\n",
    "\n"
   ]
  },
  {
   "cell_type": "code",
   "execution_count": 416,
   "id": "killing-lightweight",
   "metadata": {
    "scrolled": false
   },
   "outputs": [
    {
     "data": {
      "text/plain": [
       "<AxesSubplot:xlabel='affiliate_channel', ylabel='count'>"
      ]
     },
     "execution_count": 416,
     "metadata": {},
     "output_type": "execute_result"
    },
    {
     "data": {
      "image/png": "[encoded data removed]",
      "text/plain": [
       "<Figure size 1728x1008 with 1 Axes>"
      ]
     },
     "metadata": {
      "needs_background": "light"
     },
     "output_type": "display_data"
    }
   ],
   "source": [
    "plt.figure(figsize=(24,14))\n",
    "plt.xticks(rotation=90)\n",
    "#Gender bias with country_distination:\n",
    "sns.countplot(x='affiliate_channel',data=df_copy,hue='country_destination')\n",
    "\n"
   ]
  },
  {
   "cell_type": "code",
   "execution_count": 417,
   "id": "nervous-citizen",
   "metadata": {},
   "outputs": [
    {
     "data": {
      "text/plain": [
       "<AxesSubplot:xlabel='affiliate_channel', ylabel='count'>"
      ]
     },
     "execution_count": 417,
     "metadata": {},
     "output_type": "execute_result"
    },
    {
     "data": {
      "image/png": "[encoded data removed]",
      "text/plain": [
       "<Figure size 1728x1008 with 1 Axes>"
      ]
     },
     "metadata": {
      "needs_background": "light"
     },
     "output_type": "display_data"
    }
   ],
   "source": [
    "plt.figure(figsize=(24,14))\n",
    "plt.xticks(rotation=90)\n",
    "#Gender bias with country_distination:\n",
    "sns.countplot(x='affiliate_channel',data=df_copy,hue='country_destination')"
   ]
  },
  {
   "cell_type": "code",
   "execution_count": 418,
   "id": "collaborative-hawaiian",
   "metadata": {},
   "outputs": [
    {
     "data": {
      "text/plain": [
       "<Figure size 1440x1872 with 0 Axes>"
      ]
     },
     "metadata": {},
     "output_type": "display_data"
    },
    {
     "data": {
      "image/png": "[encoded data removed]",
      "text/plain": [
       "<Figure size 432x288 with 1 Axes>"
      ]
     },
     "metadata": {
      "needs_background": "light"
     },
     "output_type": "display_data"
    }
   ],
   "source": [
    "plt.figure(figsize=(20,26))\n",
    "Country_order=['US','FR','IT','GB','ES','CA','DE','NL','AU','PT']\n",
    "ctab = pd.crosstab([df_copy['affiliate_provider']], df_copy.country_destination).apply(lambda x: x/x.sum(), axis=1) #precentage to get the small values for providers\n",
    "ctab[Country_order].plot(kind='bar', stacked=True)\n",
    "plt.legend(loc='lower right');"
   ]
  },
  {
   "cell_type": "code",
   "execution_count": 419,
   "id": "tutorial-philosophy",
   "metadata": {
    "scrolled": false
   },
   "outputs": [
    {
     "data": {
      "image/png": "[encoded data removed]",
      "text/plain": [
       "<Figure size 1728x1440 with 2 Axes>"
      ]
     },
     "metadata": {
      "needs_background": "light"
     },
     "output_type": "display_data"
    }
   ],
   "source": [
    "plt.figure(figsize=(24,20))\n",
    "#plt.figure(figsize=(12, 10))\n",
    "plt.subplot(2, 1, 1)\n",
    "plt.ylim(0, 50000)\n",
    "plt.xticks(rotation=90)\n",
    "sns.countplot(x='affiliate_provider',data=df_copy,hue='country_destination')\n",
    "plt.legend(loc='upper right')\n",
    "\n",
    "plt.subplot(2, 1, 2)\n",
    "plt.xticks(rotation=90)\n",
    "#Gender bias with country_distination:\n",
    "sns.countplot(x='affiliate_provider',data=df_copy,hue='country_destination')\n",
    "plt.legend(loc='upper right');"
   ]
  },
  {
   "cell_type": "markdown",
   "id": "female-insulation",
   "metadata": {},
   "source": [
    "\n",
    "The Direct Channel has the most number of conversions to bookings as well as leads to the most number of users have NDf.\n",
    "Direct and Google are the most popular affiliate providers.Also Craigslist has a good percentage of conversions. \n",
    "Facebook & Bing should be well tested why their channels has close numbers of NDF and real bookings.\n",
    "Also channels like gsp, baidu and others should be taken in consideration if they shouldn't contiue dealing with those affiliate providers based on the very few conversion rates.\n",
    "\n"
   ]
  },
  {
   "cell_type": "code",
   "execution_count": 420,
   "id": "sitting-rotation",
   "metadata": {},
   "outputs": [
    {
     "data": {
      "text/plain": [
       "<AxesSubplot:xlabel='gender', ylabel='count'>"
      ]
     },
     "execution_count": 420,
     "metadata": {},
     "output_type": "execute_result"
    },
    {
     "data": {
      "image/png": "[encoded data removed]",
      "text/plain": [
       "<Figure size 1728x1008 with 1 Axes>"
      ]
     },
     "metadata": {
      "needs_background": "light"
     },
     "output_type": "display_data"
    }
   ],
   "source": [
    "plt.figure(figsize=(24,14))\n",
    "plt.xticks(rotation=90)\n",
    "#Gender bias with country_distination:\n",
    "sns.countplot(x='gender',data=df_copy,hue='country_destination')"
   ]
  },
  {
   "cell_type": "markdown",
   "id": "beneficial-sharp",
   "metadata": {},
   "source": [
    "#### Here we see that most of NDF is chosen by unknown, which means that if we remove the unknown, it won't affect the booking destination at least now. \n",
    "After exploration some data, it turns out data needs to be less noissy which means I could clear more misleading values such as unknown in gender column and NDF \"no distination found\" since no booking will happen regarding this value. This will be useful at our model.\n",
    "number of NDF seems to be very large one, the reason why might be due to large number uses airbnb for browsing and exploration, another reason is that some of the marketing channels are not quite useful and get the wrong target audience."
   ]
  },
  {
   "cell_type": "code",
   "execution_count": 421,
   "id": "convenient-magnitude",
   "metadata": {},
   "outputs": [
    {
     "data": {
      "text/html": [
       "<div>\n",
       "<style scoped>\n",
       "    .dataframe tbody tr th:only-of-type {\n",
       "        vertical-align: middle;\n",
       "    }\n",
       "\n",
       "    .dataframe tbody tr th {\n",
       "        vertical-align: top;\n",
       "    }\n",
       "\n",
       "    .dataframe thead th {\n",
       "        text-align: right;\n",
       "    }\n",
       "</style>\n",
       "<table border=\"1\" class=\"dataframe\">\n",
       "  <thead>\n",
       "    <tr style=\"text-align: right;\">\n",
       "      <th></th>\n",
       "      <th>id</th>\n",
       "      <th>date_account_created</th>\n",
       "      <th>timestamp_first_active</th>\n",
       "      <th>gender</th>\n",
       "      <th>age</th>\n",
       "      <th>signup_method</th>\n",
       "      <th>signup_flow</th>\n",
       "      <th>language</th>\n",
       "      <th>affiliate_channel</th>\n",
       "      <th>affiliate_provider</th>\n",
       "      <th>first_affiliate_tracked</th>\n",
       "      <th>signup_app</th>\n",
       "      <th>first_device_type</th>\n",
       "      <th>first_browser</th>\n",
       "      <th>country_destination</th>\n",
       "      <th>AccCreat_year</th>\n",
       "      <th>AccCreat_Month</th>\n",
       "      <th>AccCreat_Day</th>\n",
       "    </tr>\n",
       "  </thead>\n",
       "  <tbody>\n",
       "    <tr>\n",
       "      <th>2</th>\n",
       "      <td>4ft3gnwmtx</td>\n",
       "      <td>2010-09-28</td>\n",
       "      <td>20090609231247</td>\n",
       "      <td>FEMALE</td>\n",
       "      <td>56.0</td>\n",
       "      <td>basic</td>\n",
       "      <td>3</td>\n",
       "      <td>en</td>\n",
       "      <td>direct</td>\n",
       "      <td>direct</td>\n",
       "      <td>untracked</td>\n",
       "      <td>Web</td>\n",
       "      <td>Windows Desktop</td>\n",
       "      <td>IE</td>\n",
       "      <td>US</td>\n",
       "      <td>2010</td>\n",
       "      <td>9</td>\n",
       "      <td>28</td>\n",
       "    </tr>\n",
       "    <tr>\n",
       "      <th>3</th>\n",
       "      <td>bjjt8pjhuk</td>\n",
       "      <td>2011-12-05</td>\n",
       "      <td>20091031060129</td>\n",
       "      <td>FEMALE</td>\n",
       "      <td>42.0</td>\n",
       "      <td>facebook</td>\n",
       "      <td>0</td>\n",
       "      <td>en</td>\n",
       "      <td>direct</td>\n",
       "      <td>direct</td>\n",
       "      <td>untracked</td>\n",
       "      <td>Web</td>\n",
       "      <td>Mac Desktop</td>\n",
       "      <td>Firefox</td>\n",
       "      <td>other</td>\n",
       "      <td>2011</td>\n",
       "      <td>12</td>\n",
       "      <td>5</td>\n",
       "    </tr>\n",
       "    <tr>\n",
       "      <th>6</th>\n",
       "      <td>lsw9q7uk0j</td>\n",
       "      <td>2010-01-02</td>\n",
       "      <td>20100102012558</td>\n",
       "      <td>FEMALE</td>\n",
       "      <td>46.0</td>\n",
       "      <td>basic</td>\n",
       "      <td>0</td>\n",
       "      <td>en</td>\n",
       "      <td>other</td>\n",
       "      <td>craigslist</td>\n",
       "      <td>untracked</td>\n",
       "      <td>Web</td>\n",
       "      <td>Mac Desktop</td>\n",
       "      <td>Safari</td>\n",
       "      <td>US</td>\n",
       "      <td>2010</td>\n",
       "      <td>1</td>\n",
       "      <td>2</td>\n",
       "    </tr>\n",
       "    <tr>\n",
       "      <th>7</th>\n",
       "      <td>0d01nltbrs</td>\n",
       "      <td>2010-01-03</td>\n",
       "      <td>20100103191905</td>\n",
       "      <td>FEMALE</td>\n",
       "      <td>47.0</td>\n",
       "      <td>basic</td>\n",
       "      <td>0</td>\n",
       "      <td>en</td>\n",
       "      <td>direct</td>\n",
       "      <td>direct</td>\n",
       "      <td>omg</td>\n",
       "      <td>Web</td>\n",
       "      <td>Mac Desktop</td>\n",
       "      <td>Safari</td>\n",
       "      <td>US</td>\n",
       "      <td>2010</td>\n",
       "      <td>1</td>\n",
       "      <td>3</td>\n",
       "    </tr>\n",
       "    <tr>\n",
       "      <th>8</th>\n",
       "      <td>a1vcnhxeij</td>\n",
       "      <td>2010-01-04</td>\n",
       "      <td>20100104004211</td>\n",
       "      <td>FEMALE</td>\n",
       "      <td>50.0</td>\n",
       "      <td>basic</td>\n",
       "      <td>0</td>\n",
       "      <td>en</td>\n",
       "      <td>other</td>\n",
       "      <td>craigslist</td>\n",
       "      <td>untracked</td>\n",
       "      <td>Web</td>\n",
       "      <td>Mac Desktop</td>\n",
       "      <td>Safari</td>\n",
       "      <td>US</td>\n",
       "      <td>2010</td>\n",
       "      <td>1</td>\n",
       "      <td>4</td>\n",
       "    </tr>\n",
       "  </tbody>\n",
       "</table>\n",
       "</div>"
      ],
      "text/plain": [
       "           id date_account_created  timestamp_first_active  gender   age  \\\n",
       "2  4ft3gnwmtx           2010-09-28          20090609231247  FEMALE  56.0   \n",
       "3  bjjt8pjhuk           2011-12-05          20091031060129  FEMALE  42.0   \n",
       "6  lsw9q7uk0j           2010-01-02          20100102012558  FEMALE  46.0   \n",
       "7  0d01nltbrs           2010-01-03          20100103191905  FEMALE  47.0   \n",
       "8  a1vcnhxeij           2010-01-04          20100104004211  FEMALE  50.0   \n",
       "\n",
       "  signup_method  signup_flow language affiliate_channel affiliate_provider  \\\n",
       "2         basic            3       en            direct             direct   \n",
       "3      facebook            0       en            direct             direct   \n",
       "6         basic            0       en             other         craigslist   \n",
       "7         basic            0       en            direct             direct   \n",
       "8         basic            0       en             other         craigslist   \n",
       "\n",
       "  first_affiliate_tracked signup_app first_device_type first_browser  \\\n",
       "2               untracked        Web   Windows Desktop            IE   \n",
       "3               untracked        Web       Mac Desktop       Firefox   \n",
       "6               untracked        Web       Mac Desktop        Safari   \n",
       "7                     omg        Web       Mac Desktop        Safari   \n",
       "8               untracked        Web       Mac Desktop        Safari   \n",
       "\n",
       "  country_destination  AccCreat_year  AccCreat_Month  AccCreat_Day  \n",
       "2                  US           2010               9            28  \n",
       "3               other           2011              12             5  \n",
       "6                  US           2010               1             2  \n",
       "7                  US           2010               1             3  \n",
       "8                  US           2010               1             4  "
      ]
     },
     "execution_count": 421,
     "metadata": {},
     "output_type": "execute_result"
    }
   ],
   "source": [
    "df_copy2 = df_copy[(df_copy['country_destination'] != 'NDF') & (df_copy['gender'] != '-unknown-')]\n",
    "#df_copy = df_copy[['id', 'gender', 'country_destination']]\n",
    "df_copy2.head()"
   ]
  },
  {
   "cell_type": "code",
   "execution_count": 422,
   "id": "coral-actor",
   "metadata": {},
   "outputs": [
    {
     "data": {
      "text/plain": [
       "id                             0\n",
       "date_account_created           0\n",
       "timestamp_first_active         0\n",
       "gender                         0\n",
       "age                            0\n",
       "signup_method                  0\n",
       "signup_flow                    0\n",
       "language                       0\n",
       "affiliate_channel              0\n",
       "affiliate_provider             0\n",
       "first_affiliate_tracked        0\n",
       "signup_app                     0\n",
       "first_device_type              0\n",
       "first_browser                  0\n",
       "country_destination        28304\n",
       "AccCreat_year                  0\n",
       "AccCreat_Month                 0\n",
       "AccCreat_Day                   0\n",
       "dtype: int64"
      ]
     },
     "execution_count": 422,
     "metadata": {},
     "output_type": "execute_result"
    }
   ],
   "source": [
    "df_copy2.isnull().sum()"
   ]
  },
  {
   "cell_type": "code",
   "execution_count": 423,
   "id": "banned-treatment",
   "metadata": {},
   "outputs": [
    {
     "name": "stdout",
     "output_type": "stream",
     "text": [
      "<class 'pandas.core.frame.DataFrame'>\n",
      "Int64Index: 88194 entries, 2 to 62095\n",
      "Data columns (total 18 columns):\n",
      " #   Column                   Non-Null Count  Dtype         \n",
      "---  ------                   --------------  -----         \n",
      " 0   id                       88194 non-null  object        \n",
      " 1   date_account_created     88194 non-null  datetime64[ns]\n",
      " 2   timestamp_first_active   88194 non-null  int64         \n",
      " 3   gender                   88194 non-null  object        \n",
      " 4   age                      88194 non-null  float64       \n",
      " 5   signup_method            88194 non-null  object        \n",
      " 6   signup_flow              88194 non-null  int64         \n",
      " 7   language                 88194 non-null  object        \n",
      " 8   affiliate_channel        88194 non-null  object        \n",
      " 9   affiliate_provider       88194 non-null  object        \n",
      " 10  first_affiliate_tracked  88194 non-null  object        \n",
      " 11  signup_app               88194 non-null  object        \n",
      " 12  first_device_type        88194 non-null  object        \n",
      " 13  first_browser            88194 non-null  object        \n",
      " 14  country_destination      59890 non-null  object        \n",
      " 15  AccCreat_year            88194 non-null  int64         \n",
      " 16  AccCreat_Month           88194 non-null  int64         \n",
      " 17  AccCreat_Day             88194 non-null  int64         \n",
      "dtypes: datetime64[ns](1), float64(1), int64(5), object(11)\n",
      "memory usage: 12.8+ MB\n"
     ]
    }
   ],
   "source": [
    "df_copy2.info()\n",
    "#Here test data starts 59891:"
   ]
  },
  {
   "cell_type": "code",
   "execution_count": 424,
   "id": "religious-matthew",
   "metadata": {},
   "outputs": [
    {
     "data": {
      "text/plain": [
       "FEMALE    46476\n",
       "MALE      41490\n",
       "OTHER       228\n",
       "Name: gender, dtype: int64"
      ]
     },
     "execution_count": 424,
     "metadata": {},
     "output_type": "execute_result"
    }
   ],
   "source": [
    "df_copy2.gender.value_counts()"
   ]
  },
  {
   "cell_type": "code",
   "execution_count": 425,
   "id": "proud-census",
   "metadata": {},
   "outputs": [
    {
     "data": {
      "text/plain": [
       "US       42267\n",
       "other     6625\n",
       "FR        3310\n",
       "IT        1795\n",
       "GB        1566\n",
       "ES        1534\n",
       "CA         937\n",
       "DE         777\n",
       "NL         535\n",
       "AU         396\n",
       "PT         148\n",
       "Name: country_destination, dtype: int64"
      ]
     },
     "execution_count": 425,
     "metadata": {},
     "output_type": "execute_result"
    }
   ],
   "source": [
    "df_copy2['country_destination'].value_counts()"
   ]
  },
  {
   "cell_type": "code",
   "execution_count": 426,
   "id": "minus-detection",
   "metadata": {
    "scrolled": true
   },
   "outputs": [
    {
     "data": {
      "text/plain": [
       "en    85200\n",
       "zh      765\n",
       "fr      486\n",
       "es      352\n",
       "ko      301\n",
       "de      290\n",
       "ru      163\n",
       "it      162\n",
       "ja      128\n",
       "pt      109\n",
       "sv       65\n",
       "nl       38\n",
       "tr       32\n",
       "da       23\n",
       "pl       20\n",
       "no       15\n",
       "cs       11\n",
       "fi       10\n",
       "el        9\n",
       "th        5\n",
       "hu        4\n",
       "ca        3\n",
       "is        2\n",
       "id        1\n",
       "Name: language, dtype: int64"
      ]
     },
     "execution_count": 426,
     "metadata": {},
     "output_type": "execute_result"
    }
   ],
   "source": [
    "df_copy2['language'].value_counts()\n"
   ]
  },
  {
   "cell_type": "markdown",
   "id": "public-configuration",
   "metadata": {},
   "source": [
    "### let's back again to the Data Exploration:"
   ]
  },
  {
   "cell_type": "code",
   "execution_count": 427,
   "id": "piano-timeline",
   "metadata": {},
   "outputs": [],
   "source": [
    "#seems we have number of females more than the number of males.\n",
    "#Most destination is in USA"
   ]
  },
  {
   "cell_type": "code",
   "execution_count": 428,
   "id": "accompanied-quantum",
   "metadata": {},
   "outputs": [
    {
     "data": {
      "image/png": "[encoded data removed]",
      "text/plain": [
       "<Figure size 1440x720 with 1 Axes>"
      ]
     },
     "metadata": {
      "needs_background": "light"
     },
     "output_type": "display_data"
    }
   ],
   "source": [
    "plt.figure(figsize=(20,10))\n",
    "plt.xticks(rotation=90)\n",
    "#Unknown= df_copy.query('gender==\"-unknown-\"')\n",
    "#Unknown\n",
    "sns.countplot(x='age',data=df_copy2,hue='gender').set_xlim(1,70);\n",
    "#to assure female are more than male numbers almost over the highest ages use airbnb "
   ]
  },
  {
   "cell_type": "code",
   "execution_count": 429,
   "id": "female-entrepreneur",
   "metadata": {
    "scrolled": false
   },
   "outputs": [
    {
     "name": "stderr",
     "output_type": "stream",
     "text": [
      "C:\\Users\\AbouElNasrA\\Anaconda3\\lib\\site-packages\\seaborn\\_decorators.py:36: FutureWarning: Pass the following variable as a keyword arg: x. From version 0.12, the only valid positional argument will be `data`, and passing other arguments without an explicit keyword will result in an error or misinterpretation.\n",
      "  warnings.warn(\n"
     ]
    },
    {
     "data": {
      "image/png": "[encoded data removed]",
      "text/plain": [
       "<Figure size 576x432 with 1 Axes>"
      ]
     },
     "metadata": {
      "needs_background": "light"
     },
     "output_type": "display_data"
    }
   ],
   "source": [
    "plt.figure(figsize=(8,6))\n",
    "sns.countplot('country_destination', order = df_copy2['country_destination'].value_counts().index, data=df_copy2 )\n",
    "plt.title('Most booking destination');"
   ]
  },
  {
   "cell_type": "code",
   "execution_count": 430,
   "id": "russian-legislature",
   "metadata": {},
   "outputs": [
    {
     "data": {
      "image/png": "[encoded data removed]",
      "text/plain": [
       "<Figure size 1152x1008 with 1 Axes>"
      ]
     },
     "metadata": {},
     "output_type": "display_data"
    }
   ],
   "source": [
    "sns.set_style(\"whitegrid\")\n",
    "plt.figure(figsize=(16, 14))\n",
    "Country_order=['US','FR','IT','GB','ES','CA','DE','NL','AU','PT']\n",
    "Gender=df_copy2[(df_copy2['gender'] != 'OTHER')]\n",
    "sns.boxplot(x='country_destination', y='age', hue='gender', data=Gender, order=Country_order)\n",
    "plt.ylim(16, 80)\n",
    "plt.legend(loc='lower right')\n",
    "plt.show()"
   ]
  },
  {
   "cell_type": "markdown",
   "id": "brave-broad",
   "metadata": {},
   "source": [
    "We could see here in USA gender age booking is almost close to each other, but the interesting insight that age range higher is when it come to Britin as a booking distination and on the contrary, span is attractive to the young people especially females.\n",
    "Also there's a gap between female and male age when it comes to Italy, older age of male users book in Italy on airbnb.\n",
    "Also, on interesting insight it seems like airbnb is used more often by almost 30th and 40th people, more than the younger ones!"
   ]
  },
  {
   "cell_type": "markdown",
   "id": "brief-memorial",
   "metadata": {},
   "source": [
    "#Lets make sure of the hypothsis above for male and female only if there is a country ditination bias by the gender as it's hard to tell the distenation is contingent upon or depends upon the gender from numbers alone:\n",
    "\n",
    "Null Hypothesis: There is no relationship between country preference and the gender of the customer.\n",
    "\n",
    "Alternate Hypothesis: There is a relationship between country preference and the gender of the customer.\n",
    "\n",
    "    alfa is 0.05\n",
    "    \n",
    "since we have a categorical variables, we need to test 1 variable with mutivariables, we'll use Chi-square test."
   ]
  },
  {
   "cell_type": "code",
   "execution_count": 431,
   "id": "antique-brick",
   "metadata": {},
   "outputs": [
    {
     "data": {
      "text/html": [
       "<div>\n",
       "<style scoped>\n",
       "    .dataframe tbody tr th:only-of-type {\n",
       "        vertical-align: middle;\n",
       "    }\n",
       "\n",
       "    .dataframe tbody tr th {\n",
       "        vertical-align: top;\n",
       "    }\n",
       "\n",
       "    .dataframe thead th {\n",
       "        text-align: right;\n",
       "    }\n",
       "</style>\n",
       "<table border=\"1\" class=\"dataframe\">\n",
       "  <thead>\n",
       "    <tr style=\"text-align: right;\">\n",
       "      <th>country_destination</th>\n",
       "      <th>AU</th>\n",
       "      <th>CA</th>\n",
       "      <th>DE</th>\n",
       "      <th>ES</th>\n",
       "      <th>FR</th>\n",
       "      <th>GB</th>\n",
       "      <th>IT</th>\n",
       "      <th>NL</th>\n",
       "      <th>PT</th>\n",
       "      <th>US</th>\n",
       "      <th>other</th>\n",
       "    </tr>\n",
       "    <tr>\n",
       "      <th>gender</th>\n",
       "      <th></th>\n",
       "      <th></th>\n",
       "      <th></th>\n",
       "      <th></th>\n",
       "      <th></th>\n",
       "      <th></th>\n",
       "      <th></th>\n",
       "      <th></th>\n",
       "      <th></th>\n",
       "      <th></th>\n",
       "      <th></th>\n",
       "    </tr>\n",
       "  </thead>\n",
       "  <tbody>\n",
       "    <tr>\n",
       "      <th>FEMALE</th>\n",
       "      <td>207</td>\n",
       "      <td>455</td>\n",
       "      <td>358</td>\n",
       "      <td>853</td>\n",
       "      <td>1962</td>\n",
       "      <td>881</td>\n",
       "      <td>1091</td>\n",
       "      <td>254</td>\n",
       "      <td>78</td>\n",
       "      <td>22694</td>\n",
       "      <td>3160</td>\n",
       "    </tr>\n",
       "    <tr>\n",
       "      <th>MALE</th>\n",
       "      <td>188</td>\n",
       "      <td>477</td>\n",
       "      <td>416</td>\n",
       "      <td>677</td>\n",
       "      <td>1335</td>\n",
       "      <td>682</td>\n",
       "      <td>699</td>\n",
       "      <td>278</td>\n",
       "      <td>69</td>\n",
       "      <td>19457</td>\n",
       "      <td>3443</td>\n",
       "    </tr>\n",
       "    <tr>\n",
       "      <th>OTHER</th>\n",
       "      <td>1</td>\n",
       "      <td>5</td>\n",
       "      <td>3</td>\n",
       "      <td>4</td>\n",
       "      <td>13</td>\n",
       "      <td>3</td>\n",
       "      <td>5</td>\n",
       "      <td>3</td>\n",
       "      <td>1</td>\n",
       "      <td>116</td>\n",
       "      <td>22</td>\n",
       "    </tr>\n",
       "  </tbody>\n",
       "</table>\n",
       "</div>"
      ],
      "text/plain": [
       "country_destination   AU   CA   DE   ES    FR   GB    IT   NL  PT     US  \\\n",
       "gender                                                                     \n",
       "FEMALE               207  455  358  853  1962  881  1091  254  78  22694   \n",
       "MALE                 188  477  416  677  1335  682   699  278  69  19457   \n",
       "OTHER                  1    5    3    4    13    3     5    3   1    116   \n",
       "\n",
       "country_destination  other  \n",
       "gender                      \n",
       "FEMALE                3160  \n",
       "MALE                  3443  \n",
       "OTHER                   22  "
      ]
     },
     "execution_count": 431,
     "metadata": {},
     "output_type": "execute_result"
    }
   ],
   "source": [
    "\n",
    "#pivot to get contingency table\n",
    "Table1 = df_copy2.pivot_table('id', ['gender'], 'country_destination', aggfunc='count').reset_index()\n",
    "#del observed.columns.name\n",
    "Table1 = Table1.set_index('gender')\n",
    "Table1"
   ]
  },
  {
   "cell_type": "code",
   "execution_count": 432,
   "id": "serial-stress",
   "metadata": {},
   "outputs": [],
   "source": [
    "chi2, p, dof, expected = stats.chi2_contingency(Table1)"
   ]
  },
  {
   "cell_type": "code",
   "execution_count": 433,
   "id": "representative-green",
   "metadata": {},
   "outputs": [
    {
     "name": "stdout",
     "output_type": "stream",
     "text": [
      "220.87966758097264\n",
      "20\n",
      "7.970832529945862e-36\n"
     ]
    }
   ],
   "source": [
    "print(chi2)\n",
    "print(dof)\n",
    "print(p)"
   ]
  },
  {
   "cell_type": "markdown",
   "id": "angry-leave",
   "metadata": {},
   "source": [
    "no significant result, reject null hypothesis (H0). This means There is a relationship between country preference and the sex of the customer."
   ]
  },
  {
   "cell_type": "code",
   "execution_count": 434,
   "id": "spare-edward",
   "metadata": {},
   "outputs": [],
   "source": [
    "#chi2, p, dof, ex = chi2_contingency(Table1, correction=False)\n",
    "#print(chi2, p)"
   ]
  },
  {
   "cell_type": "code",
   "execution_count": 435,
   "id": "competent-basement",
   "metadata": {},
   "outputs": [
    {
     "data": {
      "text/plain": [
       "2014    46988\n",
       "2013    22675\n",
       "2012    13819\n",
       "2011     3919\n",
       "2010      793\n",
       "Name: AccCreat_year, dtype: int64"
      ]
     },
     "execution_count": 435,
     "metadata": {},
     "output_type": "execute_result"
    }
   ],
   "source": [
    "df_copy2['AccCreat_year'].value_counts()"
   ]
  },
  {
   "cell_type": "code",
   "execution_count": 436,
   "id": "cleared-description",
   "metadata": {},
   "outputs": [
    {
     "name": "stderr",
     "output_type": "stream",
     "text": [
      "C:\\Users\\AbouElNasrA\\Anaconda3\\lib\\site-packages\\seaborn\\_decorators.py:36: FutureWarning: Pass the following variable as a keyword arg: x. From version 0.12, the only valid positional argument will be `data`, and passing other arguments without an explicit keyword will result in an error or misinterpretation.\n",
      "  warnings.warn(\n"
     ]
    },
    {
     "data": {
      "image/png": "[encoded data removed]",
      "text/plain": [
       "<Figure size 864x720 with 2 Axes>"
      ]
     },
     "metadata": {},
     "output_type": "display_data"
    }
   ],
   "source": [
    "#plt.figure(figsize=(20,10))\n",
    "plt.figure(figsize=(12, 10))\n",
    "plt.subplot(2, 1, 1)\n",
    "sns.countplot('AccCreat_year', order = df_copy2['AccCreat_year'].value_counts().index, data=df_copy2 )\n",
    "#plot_histogram(df_copy2['AccCreat_year'])\n",
    "plt.subplot(2, 1, 2)\n",
    "plt.xticks(rotation=90)\n",
    "#Unknown= df_copy.query('gender==\"-unknown-\"')\n",
    "#Unknown\n",
    "sns.countplot(x='AccCreat_year',data=df_copy2,hue='country_destination');\n",
    "plt.legend(bbox_to_anchor=(1.0, 1.0));\n",
    "#to assure female are more than male numbers almost over the highest ages use airbnb "
   ]
  },
  {
   "cell_type": "code",
   "execution_count": 437,
   "id": "accessory-occurrence",
   "metadata": {
    "scrolled": true
   },
   "outputs": [
    {
     "data": {
      "text/plain": [
       "<Figure size 864x432 with 0 Axes>"
      ]
     },
     "metadata": {},
     "output_type": "display_data"
    },
    {
     "data": {
      "image/png": "[encoded data removed]",
      "text/plain": [
       "<Figure size 432x288 with 1 Axes>"
      ]
     },
     "metadata": {},
     "output_type": "display_data"
    }
   ],
   "source": [
    "sns.set_style(\"whitegrid\")\n",
    "sns.set_context(\"poster\", font_scale=0.6)\n",
    "plt.figure(figsize=(12,6))\n",
    "#plt.xticks(rotation=90)\n",
    "df_copy2[['AccCreat_year','country_destination']].groupby(['AccCreat_year']).count().plot(kind='line', linewidth=5, color='blue');"
   ]
  },
  {
   "cell_type": "code",
   "execution_count": 438,
   "id": "uniform-probability",
   "metadata": {},
   "outputs": [],
   "source": [
    "#Most account creation year was in 2014, also the booking distination has the max effect on 2013 in US and FR."
   ]
  },
  {
   "cell_type": "code",
   "execution_count": 439,
   "id": "green-lighting",
   "metadata": {},
   "outputs": [
    {
     "data": {
      "image/png": "[encoded data removed]",
      "text/plain": [
       "<Figure size 720x576 with 1 Axes>"
      ]
     },
     "metadata": {},
     "output_type": "display_data"
    }
   ],
   "source": [
    "plt.figure(figsize=(10,8))\n",
    "#sns.countplot(x='AccCreat_Month',data=df_copy2,hue='country_destination').set_ylim(0,1000)\n",
    "sns.countplot(x='AccCreat_Month',data=df_copy2)\n",
    "sns.countplot(x='AccCreat_Month',data=df_copy2 ,hue='country_destination',palette='dark');\n",
    "plt.legend(bbox_to_anchor=(1.0, 1.0));"
   ]
  },
  {
   "cell_type": "code",
   "execution_count": 440,
   "id": "weighted-bracket",
   "metadata": {},
   "outputs": [
    {
     "name": "stderr",
     "output_type": "stream",
     "text": [
      "C:\\Users\\AbouElNasrA\\Anaconda3\\lib\\site-packages\\seaborn\\_decorators.py:36: FutureWarning: Pass the following variable as a keyword arg: x. From version 0.12, the only valid positional argument will be `data`, and passing other arguments without an explicit keyword will result in an error or misinterpretation.\n",
      "  warnings.warn(\n",
      "C:\\Users\\AbouElNasrA\\Anaconda3\\lib\\site-packages\\seaborn\\_decorators.py:36: FutureWarning: Pass the following variable as a keyword arg: x. From version 0.12, the only valid positional argument will be `data`, and passing other arguments without an explicit keyword will result in an error or misinterpretation.\n",
      "  warnings.warn(\n",
      "C:\\Users\\AbouElNasrA\\Anaconda3\\lib\\site-packages\\seaborn\\_decorators.py:36: FutureWarning: Pass the following variable as a keyword arg: x. From version 0.12, the only valid positional argument will be `data`, and passing other arguments without an explicit keyword will result in an error or misinterpretation.\n",
      "  warnings.warn(\n"
     ]
    },
    {
     "data": {
      "text/plain": [
       "<AxesSubplot:xlabel='first_affiliate_tracked', ylabel='count'>"
      ]
     },
     "execution_count": 440,
     "metadata": {},
     "output_type": "execute_result"
    },
    {
     "data": {
      "image/png": "[encoded data removed]",
      "text/plain": [
       "<Figure size 1296x1440 with 3 Axes>"
      ]
     },
     "metadata": {},
     "output_type": "display_data"
    }
   ],
   "source": [
    "#affiliate_channel effect\n",
    "plt.figure(figsize=(18,20))\n",
    "plt.subplot(3, 1, 1)\n",
    "#plt.xticks(rotation=90)\n",
    "sns.countplot('affiliate_channel', order = df_copy2['affiliate_channel'].value_counts().index, data=df_copy2 )\n",
    "\n",
    "plt.subplot(3, 1, 2)\n",
    "#plt.xticks(rotation=90)\n",
    "sns.countplot('affiliate_provider', order = df_copy2['affiliate_provider'].value_counts().index, data=df_copy2 )\n",
    "plt.subplot(3, 1, 3)\n",
    "#plt.xticks(rotation=90)\n",
    "sns.countplot('first_affiliate_tracked', order = df_copy2['first_affiliate_tracked'].value_counts().index, data=df_copy2 )"
   ]
  },
  {
   "cell_type": "code",
   "execution_count": null,
   "id": "integrated-spectacular",
   "metadata": {},
   "outputs": [],
   "source": []
  },
  {
   "cell_type": "code",
   "execution_count": 441,
   "id": "marine-chain",
   "metadata": {},
   "outputs": [],
   "source": [
    "#Aff.plot.bar(stacked=True ,figsize=(16, 8))\n",
    "#Aff = df_copy2.groupby('country_destination')['affiliate_provider','first_affiliate_tracked','signup_method'].sum()\n",
    "\n",
    "#plt.xlabel(\"Carrier\", size=10)\n",
    "#plt.ylabel(\"Delay\")\n",
    "#plt.title('Delay Distribution by Carrier', size=15)"
   ]
  },
  {
   "cell_type": "code",
   "execution_count": 442,
   "id": "designing-flight",
   "metadata": {},
   "outputs": [
    {
     "data": {
      "text/plain": [
       "basic       50004\n",
       "facebook    37861\n",
       "google        322\n",
       "weibo           7\n",
       "Name: signup_method, dtype: int64"
      ]
     },
     "execution_count": 442,
     "metadata": {},
     "output_type": "execute_result"
    }
   ],
   "source": [
    "df_copy2.signup_method.value_counts()"
   ]
  },
  {
   "cell_type": "code",
   "execution_count": 443,
   "id": "following-rolling",
   "metadata": {
    "scrolled": true
   },
   "outputs": [
    {
     "data": {
      "text/plain": [
       "<Figure size 1440x1872 with 0 Axes>"
      ]
     },
     "metadata": {},
     "output_type": "display_data"
    },
    {
     "data": {
      "image/png": "[encoded data removed]",
      "text/plain": [
       "<Figure size 432x288 with 1 Axes>"
      ]
     },
     "metadata": {},
     "output_type": "display_data"
    }
   ],
   "source": [
    "plt.figure(figsize=(20,26))\n",
    "ctab = pd.crosstab([df_copy2['affiliate_provider']], df_copy2.country_destination).apply(lambda x: x/x.sum(), axis=1) #precentage to get the small values for providers\n",
    "ctab[Country_order].plot(kind='bar', stacked=True)\n",
    "#plt.legend(loc='lower right');\n",
    "plt.legend(bbox_to_anchor=(1.0, 1.0));"
   ]
  },
  {
   "cell_type": "markdown",
   "id": "attended-failing",
   "metadata": {},
   "source": [
    "dfa mn anhy country aktr? elly fo2 dafor us w fr a nzmo"
   ]
  },
  {
   "cell_type": "code",
   "execution_count": 444,
   "id": "clean-russell",
   "metadata": {},
   "outputs": [
    {
     "data": {
      "text/plain": [
       "<AxesSubplot:xlabel='country_destination', ylabel='count'>"
      ]
     },
     "execution_count": 444,
     "metadata": {},
     "output_type": "execute_result"
    },
    {
     "data": {
      "image/png": "[encoded data removed]",
      "text/plain": [
       "<Figure size 432x288 with 1 Axes>"
      ]
     },
     "metadata": {},
     "output_type": "display_data"
    }
   ],
   "source": [
    "sns.countplot(x=df_copy[df_copy['language']=='en']['country_destination'])"
   ]
  },
  {
   "cell_type": "markdown",
   "id": "infrared-salem",
   "metadata": {},
   "source": [
    "df_copy2.affiliate_provider.value_counts()"
   ]
  },
  {
   "cell_type": "code",
   "execution_count": 445,
   "id": "appreciated-edition",
   "metadata": {
    "scrolled": false
   },
   "outputs": [
    {
     "data": {
      "text/plain": [
       "direct                 58661\n",
       "google                 20653\n",
       "other                   3934\n",
       "facebook                1951\n",
       "bing                    1112\n",
       "craigslist              1022\n",
       "padmapper                226\n",
       "yahoo                    175\n",
       "vast                     169\n",
       "facebook-open-graph      132\n",
       "email-marketing           66\n",
       "meetup                    35\n",
       "gsp                       28\n",
       "naver                     17\n",
       "baidu                      8\n",
       "yandex                     5\n",
       "Name: affiliate_provider, dtype: int64"
      ]
     },
     "execution_count": 445,
     "metadata": {},
     "output_type": "execute_result"
    }
   ],
   "source": [
    "df_copy2.affiliate_provider.value_counts()\n"
   ]
  },
  {
   "cell_type": "code",
   "execution_count": 446,
   "id": "noted-construction",
   "metadata": {},
   "outputs": [],
   "source": [
    "Final=df_copy2.copy()"
   ]
  },
  {
   "cell_type": "code",
   "execution_count": 447,
   "id": "present-silly",
   "metadata": {},
   "outputs": [
    {
     "name": "stdout",
     "output_type": "stream",
     "text": [
      "<class 'pandas.core.frame.DataFrame'>\n",
      "Int64Index: 88194 entries, 2 to 62095\n",
      "Data columns (total 18 columns):\n",
      " #   Column                   Non-Null Count  Dtype         \n",
      "---  ------                   --------------  -----         \n",
      " 0   id                       88194 non-null  object        \n",
      " 1   date_account_created     88194 non-null  datetime64[ns]\n",
      " 2   timestamp_first_active   88194 non-null  int64         \n",
      " 3   gender                   88194 non-null  object        \n",
      " 4   age                      88194 non-null  float64       \n",
      " 5   signup_method            88194 non-null  object        \n",
      " 6   signup_flow              88194 non-null  int64         \n",
      " 7   language                 88194 non-null  object        \n",
      " 8   affiliate_channel        88194 non-null  object        \n",
      " 9   affiliate_provider       88194 non-null  object        \n",
      " 10  first_affiliate_tracked  88194 non-null  object        \n",
      " 11  signup_app               88194 non-null  object        \n",
      " 12  first_device_type        88194 non-null  object        \n",
      " 13  first_browser            88194 non-null  object        \n",
      " 14  country_destination      59890 non-null  object        \n",
      " 15  AccCreat_year            88194 non-null  int64         \n",
      " 16  AccCreat_Month           88194 non-null  int64         \n",
      " 17  AccCreat_Day             88194 non-null  int64         \n",
      "dtypes: datetime64[ns](1), float64(1), int64(5), object(11)\n",
      "memory usage: 14.8+ MB\n"
     ]
    }
   ],
   "source": [
    "Final.info()"
   ]
  },
  {
   "cell_type": "markdown",
   "id": "statewide-catering",
   "metadata": {},
   "source": [
    "## Data Preprocessing and Modeling:\n",
    "#### Encoding:"
   ]
  },
  {
   "cell_type": "code",
   "execution_count": 448,
   "id": "velvet-cheat",
   "metadata": {},
   "outputs": [],
   "source": [
    "#Dropping unnecessary columns for moduling\n",
    "Final.drop(['timestamp_first_active','AccCreat_year','AccCreat_Day','signup_app','date_account_created','id','signup_method','signup_flow','first_affiliate_tracked','first_affiliate_tracked','first_device_type','first_browser'],axis=1,inplace=True)"
   ]
  },
  {
   "cell_type": "code",
   "execution_count": 449,
   "id": "ideal-interface",
   "metadata": {
    "scrolled": true
   },
   "outputs": [
    {
     "data": {
      "text/plain": [
       "(88194, 7)"
      ]
     },
     "execution_count": 449,
     "metadata": {},
     "output_type": "execute_result"
    }
   ],
   "source": [
    "Final.shape"
   ]
  },
  {
   "cell_type": "code",
   "execution_count": 450,
   "id": "victorian-spyware",
   "metadata": {},
   "outputs": [],
   "source": [
    "#Encoding categorical features\n",
    "catg_features= ['gender','affiliate_channel', 'affiliate_provider','AccCreat_Month','language']"
   ]
  },
  {
   "cell_type": "code",
   "execution_count": 451,
   "id": "impossible-albuquerque",
   "metadata": {},
   "outputs": [],
   "source": [
    "#I will use labelencoder for categorical data.\n",
    "\n",
    "Encoder= LabelEncoder()\n",
    "Encoded= Final[catg_features].apply(Encoder.fit_transform)"
   ]
  },
  {
   "cell_type": "code",
   "execution_count": 452,
   "id": "surprising-trance",
   "metadata": {},
   "outputs": [
    {
     "data": {
      "text/html": [
       "<div>\n",
       "<style scoped>\n",
       "    .dataframe tbody tr th:only-of-type {\n",
       "        vertical-align: middle;\n",
       "    }\n",
       "\n",
       "    .dataframe tbody tr th {\n",
       "        vertical-align: top;\n",
       "    }\n",
       "\n",
       "    .dataframe thead th {\n",
       "        text-align: right;\n",
       "    }\n",
       "</style>\n",
       "<table border=\"1\" class=\"dataframe\">\n",
       "  <thead>\n",
       "    <tr style=\"text-align: right;\">\n",
       "      <th></th>\n",
       "      <th>gender</th>\n",
       "      <th>affiliate_channel</th>\n",
       "      <th>affiliate_provider</th>\n",
       "      <th>AccCreat_Month</th>\n",
       "      <th>language</th>\n",
       "    </tr>\n",
       "  </thead>\n",
       "  <tbody>\n",
       "    <tr>\n",
       "      <th>35328</th>\n",
       "      <td>0</td>\n",
       "      <td>2</td>\n",
       "      <td>3</td>\n",
       "      <td>7</td>\n",
       "      <td>5</td>\n",
       "    </tr>\n",
       "    <tr>\n",
       "      <th>119673</th>\n",
       "      <td>1</td>\n",
       "      <td>5</td>\n",
       "      <td>7</td>\n",
       "      <td>9</td>\n",
       "      <td>5</td>\n",
       "    </tr>\n",
       "    <tr>\n",
       "      <th>126351</th>\n",
       "      <td>0</td>\n",
       "      <td>2</td>\n",
       "      <td>3</td>\n",
       "      <td>10</td>\n",
       "      <td>5</td>\n",
       "    </tr>\n",
       "    <tr>\n",
       "      <th>173691</th>\n",
       "      <td>1</td>\n",
       "      <td>2</td>\n",
       "      <td>3</td>\n",
       "      <td>3</td>\n",
       "      <td>5</td>\n",
       "    </tr>\n",
       "    <tr>\n",
       "      <th>11637</th>\n",
       "      <td>1</td>\n",
       "      <td>2</td>\n",
       "      <td>3</td>\n",
       "      <td>6</td>\n",
       "      <td>5</td>\n",
       "    </tr>\n",
       "  </tbody>\n",
       "</table>\n",
       "</div>"
      ],
      "text/plain": [
       "        gender  affiliate_channel  affiliate_provider  AccCreat_Month  \\\n",
       "35328        0                  2                   3               7   \n",
       "119673       1                  5                   7               9   \n",
       "126351       0                  2                   3              10   \n",
       "173691       1                  2                   3               3   \n",
       "11637        1                  2                   3               6   \n",
       "\n",
       "        language  \n",
       "35328          5  \n",
       "119673         5  \n",
       "126351         5  \n",
       "173691         5  \n",
       "11637          5  "
      ]
     },
     "execution_count": 452,
     "metadata": {},
     "output_type": "execute_result"
    }
   ],
   "source": [
    "Encoded.sample(5)\n",
    "#print(Encoded.shape)"
   ]
  },
  {
   "cell_type": "code",
   "execution_count": 453,
   "id": "negative-assistant",
   "metadata": {},
   "outputs": [],
   "source": [
    "temp=Final.drop(catg_features,axis=1)"
   ]
  },
  {
   "cell_type": "code",
   "execution_count": 454,
   "id": "acoustic-disorder",
   "metadata": {
    "scrolled": false
   },
   "outputs": [
    {
     "data": {
      "text/html": [
       "<div>\n",
       "<style scoped>\n",
       "    .dataframe tbody tr th:only-of-type {\n",
       "        vertical-align: middle;\n",
       "    }\n",
       "\n",
       "    .dataframe tbody tr th {\n",
       "        vertical-align: top;\n",
       "    }\n",
       "\n",
       "    .dataframe thead th {\n",
       "        text-align: right;\n",
       "    }\n",
       "</style>\n",
       "<table border=\"1\" class=\"dataframe\">\n",
       "  <thead>\n",
       "    <tr style=\"text-align: right;\">\n",
       "      <th></th>\n",
       "      <th>age</th>\n",
       "      <th>country_destination</th>\n",
       "      <th>gender</th>\n",
       "      <th>affiliate_channel</th>\n",
       "      <th>affiliate_provider</th>\n",
       "      <th>AccCreat_Month</th>\n",
       "      <th>language</th>\n",
       "    </tr>\n",
       "  </thead>\n",
       "  <tbody>\n",
       "    <tr>\n",
       "      <th>2</th>\n",
       "      <td>56.0</td>\n",
       "      <td>US</td>\n",
       "      <td>0</td>\n",
       "      <td>2</td>\n",
       "      <td>3</td>\n",
       "      <td>8</td>\n",
       "      <td>5</td>\n",
       "    </tr>\n",
       "    <tr>\n",
       "      <th>3</th>\n",
       "      <td>42.0</td>\n",
       "      <td>other</td>\n",
       "      <td>0</td>\n",
       "      <td>2</td>\n",
       "      <td>3</td>\n",
       "      <td>11</td>\n",
       "      <td>5</td>\n",
       "    </tr>\n",
       "    <tr>\n",
       "      <th>6</th>\n",
       "      <td>46.0</td>\n",
       "      <td>US</td>\n",
       "      <td>0</td>\n",
       "      <td>3</td>\n",
       "      <td>2</td>\n",
       "      <td>0</td>\n",
       "      <td>5</td>\n",
       "    </tr>\n",
       "    <tr>\n",
       "      <th>7</th>\n",
       "      <td>47.0</td>\n",
       "      <td>US</td>\n",
       "      <td>0</td>\n",
       "      <td>2</td>\n",
       "      <td>3</td>\n",
       "      <td>0</td>\n",
       "      <td>5</td>\n",
       "    </tr>\n",
       "    <tr>\n",
       "      <th>8</th>\n",
       "      <td>50.0</td>\n",
       "      <td>US</td>\n",
       "      <td>0</td>\n",
       "      <td>3</td>\n",
       "      <td>2</td>\n",
       "      <td>0</td>\n",
       "      <td>5</td>\n",
       "    </tr>\n",
       "  </tbody>\n",
       "</table>\n",
       "</div>"
      ],
      "text/plain": [
       "    age country_destination  gender  affiliate_channel  affiliate_provider  \\\n",
       "2  56.0                  US       0                  2                   3   \n",
       "3  42.0               other       0                  2                   3   \n",
       "6  46.0                  US       0                  3                   2   \n",
       "7  47.0                  US       0                  2                   3   \n",
       "8  50.0                  US       0                  3                   2   \n",
       "\n",
       "   AccCreat_Month  language  \n",
       "2               8         5  \n",
       "3              11         5  \n",
       "6               0         5  \n",
       "7               0         5  \n",
       "8               0         5  "
      ]
     },
     "execution_count": 454,
     "metadata": {},
     "output_type": "execute_result"
    }
   ],
   "source": [
    "df_Final= pd.concat([temp,Encoded],axis=1)\n",
    "df_Final.head()"
   ]
  },
  {
   "cell_type": "code",
   "execution_count": 455,
   "id": "residential-sussex",
   "metadata": {},
   "outputs": [
    {
     "data": {
      "text/plain": [
       "US       42267\n",
       "other     6625\n",
       "FR        3310\n",
       "IT        1795\n",
       "GB        1566\n",
       "ES        1534\n",
       "CA         937\n",
       "DE         777\n",
       "NL         535\n",
       "AU         396\n",
       "PT         148\n",
       "Name: country_destination, dtype: int64"
      ]
     },
     "execution_count": 455,
     "metadata": {},
     "output_type": "execute_result"
    }
   ],
   "source": [
    "df_Final.country_destination.value_counts()"
   ]
  },
  {
   "cell_type": "code",
   "execution_count": 456,
   "id": "plastic-darkness",
   "metadata": {},
   "outputs": [
    {
     "data": {
      "text/plain": [
       "(88194, 7)"
      ]
     },
     "execution_count": 456,
     "metadata": {},
     "output_type": "execute_result"
    }
   ],
   "source": [
    "df_Final.shape"
   ]
  },
  {
   "cell_type": "code",
   "execution_count": 457,
   "id": "desirable-glucose",
   "metadata": {},
   "outputs": [
    {
     "name": "stdout",
     "output_type": "stream",
     "text": [
      "<class 'pandas.core.frame.DataFrame'>\n",
      "Int64Index: 88194 entries, 2 to 62095\n",
      "Data columns (total 7 columns):\n",
      " #   Column               Non-Null Count  Dtype  \n",
      "---  ------               --------------  -----  \n",
      " 0   age                  88194 non-null  float64\n",
      " 1   country_destination  59890 non-null  object \n",
      " 2   gender               88194 non-null  int32  \n",
      " 3   affiliate_channel    88194 non-null  int32  \n",
      " 4   affiliate_provider   88194 non-null  int32  \n",
      " 5   AccCreat_Month       88194 non-null  int64  \n",
      " 6   language             88194 non-null  int32  \n",
      "dtypes: float64(1), int32(4), int64(1), object(1)\n",
      "memory usage: 6.1+ MB\n"
     ]
    }
   ],
   "source": [
    "df_Final.info()"
   ]
  },
  {
   "cell_type": "code",
   "execution_count": 458,
   "id": "pacific-decision",
   "metadata": {},
   "outputs": [],
   "source": [
    "#seperate train data & test one\n",
    "df_Final_train=df_Final[:59890]\n",
    "df_Final_test=df_Final[59890:]"
   ]
  },
  {
   "cell_type": "code",
   "execution_count": 459,
   "id": "cosmetic-casino",
   "metadata": {
    "scrolled": false
   },
   "outputs": [
    {
     "data": {
      "text/plain": [
       "0        NaN\n",
       "5        NaN\n",
       "6        NaN\n",
       "11       NaN\n",
       "12       NaN\n",
       "        ... \n",
       "62084    NaN\n",
       "62085    NaN\n",
       "62087    NaN\n",
       "62089    NaN\n",
       "62095    NaN\n",
       "Name: country_destination, Length: 28304, dtype: object"
      ]
     },
     "execution_count": 459,
     "metadata": {},
     "output_type": "execute_result"
    }
   ],
   "source": [
    "df_Final_test.country_destination"
   ]
  },
  {
   "cell_type": "code",
   "execution_count": 460,
   "id": "mobile-proceeding",
   "metadata": {},
   "outputs": [
    {
     "data": {
      "text/plain": [
       "Index([], dtype='object')"
      ]
     },
     "execution_count": 460,
     "metadata": {},
     "output_type": "execute_result"
    }
   ],
   "source": [
    "duplicate_columns = df_Final_train.columns[df_Final_train.columns.duplicated()]\n",
    "duplicate_columns"
   ]
  },
  {
   "cell_type": "code",
   "execution_count": 461,
   "id": "pretty-preparation",
   "metadata": {},
   "outputs": [],
   "source": [
    "X = df_Final_train.drop(columns=['country_destination'], axis=1).copy()\n",
    "y = df_Final_train['country_destination'].copy()\n",
    "#y_train = df_Final_train.iloc[:, df_Final_train.columns == 'country_destination']\n"
   ]
  },
  {
   "cell_type": "code",
   "execution_count": 462,
   "id": "australian-tackle",
   "metadata": {},
   "outputs": [],
   "source": [
    "label_encoder = LabelEncoder()\n",
    "encoded_y_train = label_encoder.fit_transform(y) #Transforming the target variable using labels"
   ]
  },
  {
   "cell_type": "code",
   "execution_count": 463,
   "id": "conscious-county",
   "metadata": {},
   "outputs": [
    {
     "data": {
      "text/plain": [
       "array([ 9, 10,  9, ...,  3,  9,  9])"
      ]
     },
     "execution_count": 463,
     "metadata": {},
     "output_type": "execute_result"
    }
   ],
   "source": [
    "#We see that the destination countries have been successfully encoded now\n",
    "encoded_y_train"
   ]
  },
  {
   "cell_type": "code",
   "execution_count": 464,
   "id": "incorporate-watts",
   "metadata": {},
   "outputs": [],
   "source": [
    "X_train, X_test, y_train, y_test = train_test_split(X, encoded_y_train, test_size=0.3, random_state=42)"
   ]
  },
  {
   "cell_type": "code",
   "execution_count": 465,
   "id": "gross-husband",
   "metadata": {},
   "outputs": [
    {
     "name": "stdout",
     "output_type": "stream",
     "text": [
      "(59890, 6) (41923, 6) (17967, 6)\n"
     ]
    }
   ],
   "source": [
    "print(X.shape, X_train.shape, X_test.shape)"
   ]
  },
  {
   "cell_type": "code",
   "execution_count": 466,
   "id": "great-morocco",
   "metadata": {},
   "outputs": [
    {
     "name": "stdout",
     "output_type": "stream",
     "text": [
      "(59890,) (41923,) (17967,)\n"
     ]
    }
   ],
   "source": [
    "print(encoded_y_train.shape, y_train.shape, y_test.shape)"
   ]
  },
  {
   "cell_type": "markdown",
   "id": "natural-seeker",
   "metadata": {},
   "source": [
    "### Applying Algorithms\n",
    "We will train our model using classifiers: KNN, Gradient Boosting, XGboost Regression since we have so many categorical fetures."
   ]
  },
  {
   "cell_type": "code",
   "execution_count": 467,
   "id": "identical-humidity",
   "metadata": {},
   "outputs": [],
   "source": [
    "KNN = KNeighborsClassifier(n_neighbors = 20)\n",
    "XGB = XGBClassifier(use_label_encoder=False)\n",
    "GB = GradientBoostingClassifier()"
   ]
  },
  {
   "cell_type": "code",
   "execution_count": 468,
   "id": "opponent-tanzania",
   "metadata": {},
   "outputs": [
    {
     "data": {
      "text/plain": [
       "KNeighborsClassifier(n_neighbors=20)"
      ]
     },
     "execution_count": 468,
     "metadata": {},
     "output_type": "execute_result"
    }
   ],
   "source": [
    "# KNN model\n",
    "KNN.fit(X_train,y_train)"
   ]
  },
  {
   "cell_type": "code",
   "execution_count": 469,
   "id": "ultimate-craps",
   "metadata": {},
   "outputs": [
    {
     "data": {
      "text/plain": [
       "0.7081872321478265"
      ]
     },
     "execution_count": 469,
     "metadata": {},
     "output_type": "execute_result"
    }
   ],
   "source": [
    "KNN.score(X_test, y_test)"
   ]
  },
  {
   "cell_type": "code",
   "execution_count": 207,
   "id": "falling-bidding",
   "metadata": {
    "scrolled": true
   },
   "outputs": [],
   "source": [
    "#k_range = range(1,50)\n",
    "#scores = []\n",
    "\n",
    "#for k in k_range:\n",
    "#    knn = KNeighborsClassifier(n_neighbors = k)\n",
    "#    knn.fit(X_train, y_train)\n",
    "#    scores.append(knn.score(X_test, y_test))\n",
    "\n",
    "#plt.figure()\n",
    "#plt.xlabel('k')\n",
    "#plt.ylabel('accuracy')\n",
    "#plt.scatter(k_range, scores)\n",
    "#plt.xticks([0,5,10,15,20]);"
   ]
  },
  {
   "cell_type": "code",
   "execution_count": 470,
   "id": "arranged-tonight",
   "metadata": {},
   "outputs": [
    {
     "data": {
      "text/plain": [
       "array([9, 9, 9, ..., 9, 9, 9])"
      ]
     },
     "execution_count": 470,
     "metadata": {},
     "output_type": "execute_result"
    }
   ],
   "source": [
    "pred_knn = KNN.predict(X_test)\n",
    "pred_knn"
   ]
  },
  {
   "cell_type": "code",
   "execution_count": 365,
   "id": "angry-convert",
   "metadata": {},
   "outputs": [],
   "source": [
    "#print(roc_auc_score(y_test,pred_knn))"
   ]
  },
  {
   "cell_type": "code",
   "execution_count": 471,
   "id": "broken-routine",
   "metadata": {},
   "outputs": [
    {
     "name": "stdout",
     "output_type": "stream",
     "text": [
      "              precision    recall  f1-score   support\n",
      "\n",
      "           0       0.00      0.00      0.00       125\n",
      "           1       0.00      0.00      0.00       278\n",
      "           2       0.00      0.00      0.00       241\n",
      "           3       0.00      0.00      0.00       445\n",
      "           4       0.00      0.00      0.00      1014\n",
      "           5       0.00      0.00      0.00       457\n",
      "           6       0.00      0.00      0.00       539\n",
      "           7       0.00      0.00      0.00       156\n",
      "           8       0.00      0.00      0.00        48\n",
      "           9       0.71      1.00      0.83     12729\n",
      "          10       0.11      0.00      0.00      1935\n",
      "\n",
      "    accuracy                           0.71     17967\n",
      "   macro avg       0.07      0.09      0.08     17967\n",
      "weighted avg       0.51      0.71      0.59     17967\n",
      "\n"
     ]
    },
    {
     "name": "stderr",
     "output_type": "stream",
     "text": [
      "C:\\Users\\AbouElNasrA\\Anaconda3\\lib\\site-packages\\sklearn\\metrics\\_classification.py:1245: UndefinedMetricWarning: Precision and F-score are ill-defined and being set to 0.0 in labels with no predicted samples. Use `zero_division` parameter to control this behavior.\n",
      "  _warn_prf(average, modifier, msg_start, len(result))\n",
      "C:\\Users\\AbouElNasrA\\Anaconda3\\lib\\site-packages\\sklearn\\metrics\\_classification.py:1245: UndefinedMetricWarning: Precision and F-score are ill-defined and being set to 0.0 in labels with no predicted samples. Use `zero_division` parameter to control this behavior.\n",
      "  _warn_prf(average, modifier, msg_start, len(result))\n",
      "C:\\Users\\AbouElNasrA\\Anaconda3\\lib\\site-packages\\sklearn\\metrics\\_classification.py:1245: UndefinedMetricWarning: Precision and F-score are ill-defined and being set to 0.0 in labels with no predicted samples. Use `zero_division` parameter to control this behavior.\n",
      "  _warn_prf(average, modifier, msg_start, len(result))\n"
     ]
    }
   ],
   "source": [
    "from sklearn.metrics import classification_report,confusion_matrix\n",
    "print(classification_report(y_test,pred_knn))\n"
   ]
  },
  {
   "cell_type": "code",
   "execution_count": 472,
   "id": "nuclear-multiple",
   "metadata": {},
   "outputs": [
    {
     "data": {
      "image/png": "[encoded data removed]",
      "text/plain": [
       "<Figure size 576x360 with 2 Axes>"
      ]
     },
     "metadata": {},
     "output_type": "display_data"
    }
   ],
   "source": [
    "cm=confusion_matrix(y_test,pred_knn)\n",
    "conf_matrix=pd.DataFrame(data=cm)\n",
    "plt.figure(figsize = (8,5))\n",
    "sns.heatmap(conf_matrix, annot=True,fmt='d',cmap=\"YlGnBu\");"
   ]
  },
  {
   "cell_type": "code",
   "execution_count": 473,
   "id": "forced-fireplace",
   "metadata": {},
   "outputs": [
    {
     "data": {
      "text/plain": [
       "GradientBoostingClassifier()"
      ]
     },
     "execution_count": 473,
     "metadata": {},
     "output_type": "execute_result"
    }
   ],
   "source": [
    "#GradientBoosting\n",
    "GB.fit(X_train,y_train)"
   ]
  },
  {
   "cell_type": "code",
   "execution_count": 474,
   "id": "western-scale",
   "metadata": {},
   "outputs": [
    {
     "data": {
      "text/plain": [
       "0.7074636834196026"
      ]
     },
     "execution_count": 474,
     "metadata": {},
     "output_type": "execute_result"
    }
   ],
   "source": [
    "GB.score(X_test, y_test)"
   ]
  },
  {
   "cell_type": "code",
   "execution_count": 475,
   "id": "buried-trader",
   "metadata": {},
   "outputs": [
    {
     "name": "stdout",
     "output_type": "stream",
     "text": [
      "[20:15:27] WARNING: C:/Users/Administrator/workspace/xgboost-win64_release_1.4.0/src/learner.cc:1095: Starting in XGBoost 1.3.0, the default evaluation metric used with the objective 'multi:softprob' was changed from 'merror' to 'mlogloss'. Explicitly set eval_metric if you'd like to restore the old behavior.\n"
     ]
    },
    {
     "data": {
      "text/plain": [
       "XGBClassifier(base_score=0.5, booster='gbtree', colsample_bylevel=1,\n",
       "              colsample_bynode=1, colsample_bytree=1, gamma=0, gpu_id=-1,\n",
       "              importance_type='gain', interaction_constraints='',\n",
       "              learning_rate=0.300000012, max_delta_step=0, max_depth=6,\n",
       "              min_child_weight=1, missing=nan, monotone_constraints='()',\n",
       "              n_estimators=100, n_jobs=8, num_parallel_tree=1,\n",
       "              objective='multi:softprob', random_state=0, reg_alpha=0,\n",
       "              reg_lambda=1, scale_pos_weight=None, subsample=1,\n",
       "              tree_method='exact', use_label_encoder=False,\n",
       "              validate_parameters=1, verbosity=None)"
      ]
     },
     "execution_count": 475,
     "metadata": {},
     "output_type": "execute_result"
    }
   ],
   "source": [
    "##Applying xgboost\n",
    "XGB.fit(X_train,y_train)"
   ]
  },
  {
   "cell_type": "code",
   "execution_count": 476,
   "id": "linear-sierra",
   "metadata": {},
   "outputs": [
    {
     "data": {
      "text/plain": [
       "array([9, 9, 9, ..., 9, 9, 9], dtype=int64)"
      ]
     },
     "execution_count": 476,
     "metadata": {},
     "output_type": "execute_result"
    }
   ],
   "source": [
    "pred_XGB=XGB.predict(X_test)\n",
    "pred_XGB"
   ]
  },
  {
   "cell_type": "code",
   "execution_count": 477,
   "id": "chinese-blast",
   "metadata": {},
   "outputs": [
    {
     "data": {
      "text/plain": [
       "0.7059052707741972"
      ]
     },
     "execution_count": 477,
     "metadata": {},
     "output_type": "execute_result"
    }
   ],
   "source": [
    "XGB.score(X_test, y_test)"
   ]
  },
  {
   "cell_type": "code",
   "execution_count": 478,
   "id": "genuine-masters",
   "metadata": {},
   "outputs": [
    {
     "name": "stdout",
     "output_type": "stream",
     "text": [
      "              precision    recall  f1-score   support\n",
      "\n",
      "           0       0.00      0.00      0.00       125\n",
      "           1       0.00      0.00      0.00       278\n",
      "           2       0.00      0.00      0.00       241\n",
      "           3       0.00      0.00      0.00       445\n",
      "           4       0.33      0.00      0.01      1014\n",
      "           5       0.20      0.00      0.00       457\n",
      "           6       0.00      0.00      0.00       539\n",
      "           7       0.00      0.00      0.00       156\n",
      "           8       0.00      0.00      0.00        48\n",
      "           9       0.71      1.00      0.83     12729\n",
      "          10       0.18      0.00      0.01      1935\n",
      "\n",
      "    accuracy                           0.71     17967\n",
      "   macro avg       0.13      0.09      0.08     17967\n",
      "weighted avg       0.55      0.71      0.59     17967\n",
      "\n"
     ]
    },
    {
     "name": "stderr",
     "output_type": "stream",
     "text": [
      "C:\\Users\\AbouElNasrA\\Anaconda3\\lib\\site-packages\\sklearn\\metrics\\_classification.py:1245: UndefinedMetricWarning: Precision and F-score are ill-defined and being set to 0.0 in labels with no predicted samples. Use `zero_division` parameter to control this behavior.\n",
      "  _warn_prf(average, modifier, msg_start, len(result))\n",
      "C:\\Users\\AbouElNasrA\\Anaconda3\\lib\\site-packages\\sklearn\\metrics\\_classification.py:1245: UndefinedMetricWarning: Precision and F-score are ill-defined and being set to 0.0 in labels with no predicted samples. Use `zero_division` parameter to control this behavior.\n",
      "  _warn_prf(average, modifier, msg_start, len(result))\n",
      "C:\\Users\\AbouElNasrA\\Anaconda3\\lib\\site-packages\\sklearn\\metrics\\_classification.py:1245: UndefinedMetricWarning: Precision and F-score are ill-defined and being set to 0.0 in labels with no predicted samples. Use `zero_division` parameter to control this behavior.\n",
      "  _warn_prf(average, modifier, msg_start, len(result))\n"
     ]
    }
   ],
   "source": [
    "print(classification_report(y_test,pred_XGB))"
   ]
  },
  {
   "cell_type": "code",
   "execution_count": 540,
   "id": "raising-husband",
   "metadata": {},
   "outputs": [
    {
     "name": "stderr",
     "output_type": "stream",
     "text": [
      "C:\\Users\\AbouElNasrA\\Anaconda3\\lib\\site-packages\\xgboost\\sklearn.py:1146: UserWarning: The use of label encoder in XGBClassifier is deprecated and will be removed in a future release. To remove this warning, do the following: 1) Pass option use_label_encoder=False when constructing XGBClassifier object; and 2) Encode your labels (y) as integers starting with 0, i.e. 0, 1, 2, ..., [num_class - 1].\n",
      "  warnings.warn(label_encoder_deprecation_msg, UserWarning)\n"
     ]
    },
    {
     "name": "stdout",
     "output_type": "stream",
     "text": [
      "[20:49:39] WARNING: C:/Users/Administrator/workspace/xgboost-win64_release_1.4.0/src/learner.cc:1095: Starting in XGBoost 1.3.0, the default evaluation metric used with the objective 'multi:softprob' was changed from 'merror' to 'mlogloss'. Explicitly set eval_metric if you'd like to restore the old behavior.\n"
     ]
    }
   ],
   "source": [
    "#Specifying the hyperparameters\n",
    "\n",
    "xgb = XGBClassifier(max_depth=6, learning_rate=0.02, n_estimators=43,\n",
    "                    objective='multi:softprob', subsample=0.6, colsample_bytree=0.5, seed=1)                  \n",
    "xgb.fit(X_train, y_train)\n",
    "y_pred_xgb = xgb.predict(X_test)"
   ]
  },
  {
   "cell_type": "code",
   "execution_count": 541,
   "id": "cathedral-transportation",
   "metadata": {},
   "outputs": [
    {
     "data": {
      "text/plain": [
       "0.7084655201202203"
      ]
     },
     "execution_count": 541,
     "metadata": {},
     "output_type": "execute_result"
    }
   ],
   "source": [
    "xgb.score(X_test, y_test)"
   ]
  },
  {
   "cell_type": "code",
   "execution_count": 542,
   "id": "modern-vitamin",
   "metadata": {
    "scrolled": true
   },
   "outputs": [
    {
     "name": "stdout",
     "output_type": "stream",
     "text": [
      "              precision    recall  f1-score   support\n",
      "\n",
      "           0       0.00      0.00      0.00       125\n",
      "           1       0.00      0.00      0.00       278\n",
      "           2       0.00      0.00      0.00       241\n",
      "           3       0.00      0.00      0.00       445\n",
      "           4       0.00      0.00      0.00      1014\n",
      "           5       0.00      0.00      0.00       457\n",
      "           6       0.00      0.00      0.00       539\n",
      "           7       0.00      0.00      0.00       156\n",
      "           8       0.00      0.00      0.00        48\n",
      "           9       0.71      1.00      0.83     12729\n",
      "          10       0.00      0.00      0.00      1935\n",
      "\n",
      "    accuracy                           0.71     17967\n",
      "   macro avg       0.06      0.09      0.08     17967\n",
      "weighted avg       0.50      0.71      0.59     17967\n",
      "\n"
     ]
    },
    {
     "name": "stderr",
     "output_type": "stream",
     "text": [
      "C:\\Users\\AbouElNasrA\\Anaconda3\\lib\\site-packages\\sklearn\\metrics\\_classification.py:1245: UndefinedMetricWarning: Precision and F-score are ill-defined and being set to 0.0 in labels with no predicted samples. Use `zero_division` parameter to control this behavior.\n",
      "  _warn_prf(average, modifier, msg_start, len(result))\n",
      "C:\\Users\\AbouElNasrA\\Anaconda3\\lib\\site-packages\\sklearn\\metrics\\_classification.py:1245: UndefinedMetricWarning: Precision and F-score are ill-defined and being set to 0.0 in labels with no predicted samples. Use `zero_division` parameter to control this behavior.\n",
      "  _warn_prf(average, modifier, msg_start, len(result))\n",
      "C:\\Users\\AbouElNasrA\\Anaconda3\\lib\\site-packages\\sklearn\\metrics\\_classification.py:1245: UndefinedMetricWarning: Precision and F-score are ill-defined and being set to 0.0 in labels with no predicted samples. Use `zero_division` parameter to control this behavior.\n",
      "  _warn_prf(average, modifier, msg_start, len(result))\n"
     ]
    }
   ],
   "source": [
    "print(classification_report(y_test,y_pred_xgb))"
   ]
  },
  {
   "cell_type": "code",
   "execution_count": 543,
   "id": "global-cancellation",
   "metadata": {},
   "outputs": [
    {
     "data": {
      "image/png": "[encoded data removed]",
      "text/plain": [
       "<Figure size 576x360 with 2 Axes>"
      ]
     },
     "metadata": {},
     "output_type": "display_data"
    }
   ],
   "source": [
    "cm_xgb=confusion_matrix(y_test,y_pred_xgb)\n",
    "conf_matrix_xgb=pd.DataFrame(data=cm_xgb)\n",
    "plt.figure(figsize = (8,5))\n",
    "sns.heatmap(conf_matrix_xgb, annot=True,fmt='d',cmap=\"YlGnBu\");"
   ]
  },
  {
   "cell_type": "markdown",
   "id": "written-monaco",
   "metadata": {},
   "source": [
    "Specifying more xgboost model parameter was a little helpful for model score"
   ]
  },
  {
   "cell_type": "code",
   "execution_count": 366,
   "id": "technical-mission",
   "metadata": {},
   "outputs": [
    {
     "data": {
      "text/plain": [
       "'\\nimport xgboost as xgb\\nxg_train = xgb.DMatrix(X, label=encoded_y_train) \\nparams = {\\'max_depth\\': 10,\\n    \\'learning_rate\\': 1,\\n    \\'n_estimators\\': 5,\\n    \\'objective\\': \\'multi:softprob\\',\\n    \\'num_class\\': 12,\\n    \\'gamma\\': 0,\\n    \\'min_child_weight\\': 1,\\n    \\'max_delta_step\\': 0,\\n    \\'subsample\\': 1,\\n    \\'colsample_bytree\\': 1,\\n    \\'colsample_bylevel\\': 1,\\n    \\'reg_alpha\\': 0,\\n    \\'reg_lambda\\': 1,\\n    \\'scale_pos_weight\\': 1,\\n    \\'base_score\\': 0.5,\\n    \\'missing\\': None,\\n    \\'nthread\\': 4,\\n    \\'seed\\': 42\\n          }\\n\\nnum_boost_round = 5\\n\\nprint(\"Train a XGBoost model\")\\ngbm = xgb.train(params, xg_train, num_boost_round)\\n'"
      ]
     },
     "execution_count": 366,
     "metadata": {},
     "output_type": "execute_result"
    }
   ],
   "source": [
    "#Specifying the hyperparameters\n",
    "'''\n",
    "import xgboost as xgb\n",
    "xg_train = xgb.DMatrix(X, label=encoded_y_train) \n",
    "params = {'max_depth': 10,\n",
    "    'learning_rate': 1,\n",
    "    'n_estimators': 5,\n",
    "    'objective': 'multi:softprob',\n",
    "    'num_class': 12,\n",
    "    'gamma': 0,\n",
    "    'min_child_weight': 1,\n",
    "    'max_delta_step': 0,\n",
    "    'subsample': 1,\n",
    "    'colsample_bytree': 1,\n",
    "    'colsample_bylevel': 1,\n",
    "    'reg_alpha': 0,\n",
    "    'reg_lambda': 1,\n",
    "    'scale_pos_weight': 1,\n",
    "    'base_score': 0.5,\n",
    "    'missing': None,\n",
    "    'nthread': 4,\n",
    "    'seed': 42\n",
    "          }\n",
    "\n",
    "num_boost_round = 5\n",
    "\n",
    "print(\"Train a XGBoost model\")\n",
    "gbm = xgb.train(params, xg_train, num_boost_round)\n",
    "'''"
   ]
  },
  {
   "cell_type": "markdown",
   "id": "convenient-invalid",
   "metadata": {},
   "source": [
    "#### let's see XGboost feature imporance"
   ]
  },
  {
   "cell_type": "code",
   "execution_count": 179,
   "id": "subject-relaxation",
   "metadata": {},
   "outputs": [
    {
     "data": {
      "text/plain": [
       "array([0.16253392, 0.1646479 , 0.16754737, 0.17745353, 0.1574156 ,\n",
       "       0.17040163], dtype=float32)"
      ]
     },
     "execution_count": 179,
     "metadata": {},
     "output_type": "execute_result"
    }
   ],
   "source": [
    "xgb.feature_importances_"
   ]
  },
  {
   "cell_type": "code",
   "execution_count": 180,
   "id": "thick-death",
   "metadata": {},
   "outputs": [],
   "source": [
    "def plot_feature_importance(feature_columns, importance_values,top_n_features=0):\n",
    "    feature_imp = [ col for col in zip(feature_columns, importance_values)]\n",
    "    feature_imp.sort(key=lambda x:x[1], reverse=True)\n",
    "\n",
    "    if top_n_features:\n",
    "        imp = pd.DataFrame(feature_imp[0:top_n_features], columns=['feature', 'importance'])\n",
    "    else:\n",
    "        imp = pd.DataFrame(feature_imp, columns=['feature', 'importance'])\n",
    "    plt.figure(figsize=(10, 8))\n",
    "    sns.barplot(y='feature', x='importance', data=imp, orient='h')\n",
    "    plt.title('Most Important Features', fontsize=16)\n",
    "    plt.ylabel(\"Feature\", fontsize=16)\n",
    "    plt.xlabel(\"\")\n",
    "    plt.show()"
   ]
  },
  {
   "cell_type": "code",
   "execution_count": 181,
   "id": "attempted-notebook",
   "metadata": {},
   "outputs": [
    {
     "data": {
      "image/png": "[encoded data removed]",
      "text/plain": [
       "<Figure size 720x576 with 1 Axes>"
      ]
     },
     "metadata": {},
     "output_type": "display_data"
    }
   ],
   "source": [
    "plot_feature_importance(['age','gender','affiliate_channel', 'affiliate_provider','signup_app','AccCreat_Month'], XGB.feature_importances_)"
   ]
  },
  {
   "cell_type": "markdown",
   "id": "studied-number",
   "metadata": {},
   "source": [
    "It seems like affiliate_provider and account creation month features are playing very good role at xgb modeling, age does too which was predicted."
   ]
  },
  {
   "cell_type": "code",
   "execution_count": 532,
   "id": "controlled-premiere",
   "metadata": {},
   "outputs": [
    {
     "name": "stderr",
     "output_type": "stream",
     "text": [
      "[Parallel(n_jobs=1)]: Using backend SequentialBackend with 1 concurrent workers.\n",
      "[Parallel(n_jobs=1)]: Done 100 out of 100 | elapsed:    6.1s finished\n"
     ]
    },
    {
     "data": {
      "text/plain": [
       "RandomForestClassifier(verbose=1)"
      ]
     },
     "execution_count": 532,
     "metadata": {},
     "output_type": "execute_result"
    }
   ],
   "source": [
    "from sklearn.ensemble import RandomForestClassifier\n",
    "RF= RandomForestClassifier(verbose=1)\n",
    "RF.fit(X_train,y_train)"
   ]
  },
  {
   "cell_type": "code",
   "execution_count": 533,
   "id": "chemical-brighton",
   "metadata": {
    "scrolled": true
   },
   "outputs": [
    {
     "name": "stderr",
     "output_type": "stream",
     "text": [
      "[Parallel(n_jobs=1)]: Using backend SequentialBackend with 1 concurrent workers.\n",
      "[Parallel(n_jobs=1)]: Done 100 out of 100 | elapsed:    1.0s finished\n"
     ]
    },
    {
     "data": {
      "text/plain": [
       "0.6780764735348138"
      ]
     },
     "execution_count": 533,
     "metadata": {},
     "output_type": "execute_result"
    }
   ],
   "source": [
    "RF.score(X_test, y_test) "
   ]
  },
  {
   "cell_type": "code",
   "execution_count": 534,
   "id": "legitimate-officer",
   "metadata": {
    "scrolled": false
   },
   "outputs": [
    {
     "name": "stderr",
     "output_type": "stream",
     "text": [
      "[Parallel(n_jobs=1)]: Using backend SequentialBackend with 1 concurrent workers.\n"
     ]
    },
    {
     "name": "stdout",
     "output_type": "stream",
     "text": [
      "              precision    recall  f1-score   support\n",
      "\n",
      "           0       0.00      0.00      0.00       125\n",
      "           1       0.00      0.00      0.00       278\n",
      "           2       0.08      0.01      0.02       241\n",
      "           3       0.06      0.01      0.02       445\n",
      "           4       0.08      0.01      0.02      1014\n",
      "           5       0.06      0.01      0.02       457\n",
      "           6       0.06      0.01      0.02       539\n",
      "           7       0.00      0.00      0.00       156\n",
      "           8       0.00      0.00      0.00        48\n",
      "           9       0.71      0.95      0.81     12729\n",
      "          10       0.11      0.02      0.04      1935\n",
      "\n",
      "    accuracy                           0.68     17967\n",
      "   macro avg       0.11      0.09      0.09     17967\n",
      "weighted avg       0.53      0.68      0.58     17967\n",
      "\n"
     ]
    },
    {
     "name": "stderr",
     "output_type": "stream",
     "text": [
      "[Parallel(n_jobs=1)]: Done 100 out of 100 | elapsed:    0.9s finished\n"
     ]
    }
   ],
   "source": [
    "y_pred_RF= RF.predict(X_test)\n",
    "print(classification_report(y_test,y_pred_RF))"
   ]
  },
  {
   "cell_type": "code",
   "execution_count": 535,
   "id": "vocational-librarian",
   "metadata": {},
   "outputs": [
    {
     "data": {
      "image/png": "[encoded data removed]",
      "text/plain": [
       "<Figure size 576x360 with 2 Axes>"
      ]
     },
     "metadata": {},
     "output_type": "display_data"
    }
   ],
   "source": [
    "cm_RF=confusion_matrix(y_test,y_pred_RF)\n",
    "conf_matrix_RF=pd.DataFrame(data=cm_RF)\n",
    "plt.figure(figsize = (8,5))\n",
    "sns.heatmap(conf_matrix_RF, annot=True,fmt='d',cmap=\"YlGnBu\");"
   ]
  },
  {
   "cell_type": "markdown",
   "id": "conceptual-costs",
   "metadata": {},
   "source": [
    "Random Forest model shows yet less accuracy but consistant behaivior over all country destinations."
   ]
  },
  {
   "cell_type": "markdown",
   "id": "imperial-memorabilia",
   "metadata": {},
   "source": [
    "#### another question of mine, what would happen using same model if I didn't apply much cleaning like leaving many NDF included into the data, would it affect positively on the accuracy score?"
   ]
  },
  {
   "cell_type": "code",
   "execution_count": 489,
   "id": "sitting-furniture",
   "metadata": {},
   "outputs": [],
   "source": [
    "df_train_1= df_Final_train.copy()"
   ]
  },
  {
   "cell_type": "code",
   "execution_count": 492,
   "id": "valuable-detail",
   "metadata": {},
   "outputs": [
    {
     "data": {
      "text/plain": [
       "(59890, 7)"
      ]
     },
     "execution_count": 492,
     "metadata": {},
     "output_type": "execute_result"
    }
   ],
   "source": [
    "#df_train_1.drop(['id','signup_method','signup_app','signup_flow','first_affiliate_tracked','first_affiliate_tracked','first_device_type','first_browser'],axis=1,inplace=True)\n",
    "cat_features= ['gender','affiliate_channel', 'affiliate_provider','language','AccCreat_Month']\n",
    "df_train_1.shape"
   ]
  },
  {
   "cell_type": "code",
   "execution_count": 493,
   "id": "generic-snowboard",
   "metadata": {},
   "outputs": [
    {
     "data": {
      "text/plain": [
       "(59890, 7)"
      ]
     },
     "execution_count": 493,
     "metadata": {},
     "output_type": "execute_result"
    }
   ],
   "source": [
    "df_train_1.shape"
   ]
  },
  {
   "cell_type": "code",
   "execution_count": 494,
   "id": "latin-creativity",
   "metadata": {},
   "outputs": [],
   "source": [
    "encoder= LabelEncoder()\n",
    "encoded= df_train_1[cat_features].apply(encoder.fit_transform)"
   ]
  },
  {
   "cell_type": "code",
   "execution_count": 495,
   "id": "solar-settle",
   "metadata": {},
   "outputs": [],
   "source": [
    "temp1=df_train_1.drop(cat_features,axis=1)"
   ]
  },
  {
   "cell_type": "code",
   "execution_count": 496,
   "id": "collaborative-knowing",
   "metadata": {},
   "outputs": [
    {
     "data": {
      "text/html": [
       "<div>\n",
       "<style scoped>\n",
       "    .dataframe tbody tr th:only-of-type {\n",
       "        vertical-align: middle;\n",
       "    }\n",
       "\n",
       "    .dataframe tbody tr th {\n",
       "        vertical-align: top;\n",
       "    }\n",
       "\n",
       "    .dataframe thead th {\n",
       "        text-align: right;\n",
       "    }\n",
       "</style>\n",
       "<table border=\"1\" class=\"dataframe\">\n",
       "  <thead>\n",
       "    <tr style=\"text-align: right;\">\n",
       "      <th></th>\n",
       "      <th>age</th>\n",
       "      <th>country_destination</th>\n",
       "      <th>gender</th>\n",
       "      <th>affiliate_channel</th>\n",
       "      <th>affiliate_provider</th>\n",
       "      <th>language</th>\n",
       "      <th>AccCreat_Month</th>\n",
       "    </tr>\n",
       "  </thead>\n",
       "  <tbody>\n",
       "    <tr>\n",
       "      <th>2</th>\n",
       "      <td>56.0</td>\n",
       "      <td>US</td>\n",
       "      <td>0</td>\n",
       "      <td>2</td>\n",
       "      <td>3</td>\n",
       "      <td>5</td>\n",
       "      <td>8</td>\n",
       "    </tr>\n",
       "    <tr>\n",
       "      <th>3</th>\n",
       "      <td>42.0</td>\n",
       "      <td>other</td>\n",
       "      <td>0</td>\n",
       "      <td>2</td>\n",
       "      <td>3</td>\n",
       "      <td>5</td>\n",
       "      <td>11</td>\n",
       "    </tr>\n",
       "    <tr>\n",
       "      <th>6</th>\n",
       "      <td>46.0</td>\n",
       "      <td>US</td>\n",
       "      <td>0</td>\n",
       "      <td>3</td>\n",
       "      <td>2</td>\n",
       "      <td>5</td>\n",
       "      <td>0</td>\n",
       "    </tr>\n",
       "    <tr>\n",
       "      <th>7</th>\n",
       "      <td>47.0</td>\n",
       "      <td>US</td>\n",
       "      <td>0</td>\n",
       "      <td>2</td>\n",
       "      <td>3</td>\n",
       "      <td>5</td>\n",
       "      <td>0</td>\n",
       "    </tr>\n",
       "    <tr>\n",
       "      <th>8</th>\n",
       "      <td>50.0</td>\n",
       "      <td>US</td>\n",
       "      <td>0</td>\n",
       "      <td>3</td>\n",
       "      <td>2</td>\n",
       "      <td>5</td>\n",
       "      <td>0</td>\n",
       "    </tr>\n",
       "  </tbody>\n",
       "</table>\n",
       "</div>"
      ],
      "text/plain": [
       "    age country_destination  gender  affiliate_channel  affiliate_provider  \\\n",
       "2  56.0                  US       0                  2                   3   \n",
       "3  42.0               other       0                  2                   3   \n",
       "6  46.0                  US       0                  3                   2   \n",
       "7  47.0                  US       0                  2                   3   \n",
       "8  50.0                  US       0                  3                   2   \n",
       "\n",
       "   language  AccCreat_Month  \n",
       "2         5               8  \n",
       "3         5              11  \n",
       "6         5               0  \n",
       "7         5               0  \n",
       "8         5               0  "
      ]
     },
     "execution_count": 496,
     "metadata": {},
     "output_type": "execute_result"
    }
   ],
   "source": [
    "df_1= pd.concat([temp1,encoded],axis=1)\n",
    "df_1.head()"
   ]
  },
  {
   "cell_type": "code",
   "execution_count": 498,
   "id": "strong-person",
   "metadata": {
    "scrolled": true
   },
   "outputs": [],
   "source": [
    "#df_1.drop(['date_first_booking'],axis=1,inplace=True)\n",
    "#df_1.head()"
   ]
  },
  {
   "cell_type": "code",
   "execution_count": 499,
   "id": "visible-cambodia",
   "metadata": {},
   "outputs": [],
   "source": [
    "df_1.age.fillna(value = Value,inplace=True)"
   ]
  },
  {
   "cell_type": "code",
   "execution_count": 500,
   "id": "driving-electricity",
   "metadata": {},
   "outputs": [
    {
     "data": {
      "text/plain": [
       "age                    0\n",
       "country_destination    0\n",
       "gender                 0\n",
       "affiliate_channel      0\n",
       "affiliate_provider     0\n",
       "language               0\n",
       "AccCreat_Month         0\n",
       "dtype: int64"
      ]
     },
     "execution_count": 500,
     "metadata": {},
     "output_type": "execute_result"
    }
   ],
   "source": [
    "df_1.isna().sum()"
   ]
  },
  {
   "cell_type": "code",
   "execution_count": 501,
   "id": "funky-living",
   "metadata": {},
   "outputs": [
    {
     "data": {
      "text/plain": [
       "(59890, 6)"
      ]
     },
     "execution_count": 501,
     "metadata": {},
     "output_type": "execute_result"
    }
   ],
   "source": [
    "x1 = df_1.drop(columns=['country_destination'], axis=1).copy()\n",
    "y1 = df_1['country_destination'].copy()\n",
    "\n",
    "x1.shape"
   ]
  },
  {
   "cell_type": "code",
   "execution_count": 502,
   "id": "eastern-chorus",
   "metadata": {},
   "outputs": [
    {
     "data": {
      "text/plain": [
       "(59890,)"
      ]
     },
     "execution_count": 502,
     "metadata": {},
     "output_type": "execute_result"
    }
   ],
   "source": [
    "y1.shape"
   ]
  },
  {
   "cell_type": "code",
   "execution_count": 503,
   "id": "direct-socket",
   "metadata": {},
   "outputs": [],
   "source": [
    "x1_train, x1_test, y1_train, y1_test = train_test_split(x1, y1, test_size=0.3, random_state=42)"
   ]
  },
  {
   "cell_type": "code",
   "execution_count": 504,
   "id": "american-september",
   "metadata": {},
   "outputs": [
    {
     "name": "stderr",
     "output_type": "stream",
     "text": [
      "C:\\Users\\AbouElNasrA\\Anaconda3\\lib\\site-packages\\xgboost\\sklearn.py:1146: UserWarning: The use of label encoder in XGBClassifier is deprecated and will be removed in a future release. To remove this warning, do the following: 1) Pass option use_label_encoder=False when constructing XGBClassifier object; and 2) Encode your labels (y) as integers starting with 0, i.e. 0, 1, 2, ..., [num_class - 1].\n",
      "  warnings.warn(label_encoder_deprecation_msg, UserWarning)\n"
     ]
    },
    {
     "name": "stdout",
     "output_type": "stream",
     "text": [
      "[20:29:28] WARNING: C:/Users/Administrator/workspace/xgboost-win64_release_1.4.0/src/learner.cc:1095: Starting in XGBoost 1.3.0, the default evaluation metric used with the objective 'multi:softprob' was changed from 'merror' to 'mlogloss'. Explicitly set eval_metric if you'd like to restore the old behavior.\n"
     ]
    },
    {
     "data": {
      "text/plain": [
       "XGBClassifier(base_score=0.5, booster='gbtree', colsample_bylevel=1,\n",
       "              colsample_bynode=1, colsample_bytree=0.5, gamma=0, gpu_id=-1,\n",
       "              importance_type='gain', interaction_constraints='',\n",
       "              learning_rate=0.02, max_delta_step=0, max_depth=6,\n",
       "              min_child_weight=1, missing=nan, monotone_constraints='()',\n",
       "              n_estimators=43, n_jobs=8, num_parallel_tree=1,\n",
       "              objective='multi:softprob', random_state=1, reg_alpha=0,\n",
       "              reg_lambda=1, scale_pos_weight=None, seed=1, subsample=0.6,\n",
       "              tree_method='exact', validate_parameters=1, verbosity=None)"
      ]
     },
     "execution_count": 504,
     "metadata": {},
     "output_type": "execute_result"
    }
   ],
   "source": [
    "xgb.fit(x1_train,y1_train)"
   ]
  },
  {
   "cell_type": "code",
   "execution_count": 505,
   "id": "august-controversy",
   "metadata": {},
   "outputs": [
    {
     "data": {
      "text/plain": [
       "0.7084655201202203"
      ]
     },
     "execution_count": 505,
     "metadata": {},
     "output_type": "execute_result"
    }
   ],
   "source": [
    "xgb.score(x1_test, y1_test)"
   ]
  },
  {
   "cell_type": "code",
   "execution_count": 506,
   "id": "unusual-helping",
   "metadata": {},
   "outputs": [],
   "source": [
    "y1_pred = xgb.predict(x1_test)"
   ]
  },
  {
   "cell_type": "code",
   "execution_count": 507,
   "id": "young-cigarette",
   "metadata": {},
   "outputs": [
    {
     "name": "stderr",
     "output_type": "stream",
     "text": [
      "C:\\Users\\AbouElNasrA\\Anaconda3\\lib\\site-packages\\sklearn\\metrics\\_classification.py:1245: UndefinedMetricWarning: Precision and F-score are ill-defined and being set to 0.0 in labels with no predicted samples. Use `zero_division` parameter to control this behavior.\n",
      "  _warn_prf(average, modifier, msg_start, len(result))\n",
      "C:\\Users\\AbouElNasrA\\Anaconda3\\lib\\site-packages\\sklearn\\metrics\\_classification.py:1245: UndefinedMetricWarning: Precision and F-score are ill-defined and being set to 0.0 in labels with no predicted samples. Use `zero_division` parameter to control this behavior.\n",
      "  _warn_prf(average, modifier, msg_start, len(result))\n",
      "C:\\Users\\AbouElNasrA\\Anaconda3\\lib\\site-packages\\sklearn\\metrics\\_classification.py:1245: UndefinedMetricWarning: Precision and F-score are ill-defined and being set to 0.0 in labels with no predicted samples. Use `zero_division` parameter to control this behavior.\n",
      "  _warn_prf(average, modifier, msg_start, len(result))\n"
     ]
    },
    {
     "name": "stdout",
     "output_type": "stream",
     "text": [
      "              precision    recall  f1-score   support\n",
      "\n",
      "          AU       0.00      0.00      0.00       125\n",
      "          CA       0.00      0.00      0.00       278\n",
      "          DE       0.00      0.00      0.00       241\n",
      "          ES       0.00      0.00      0.00       445\n",
      "          FR       0.00      0.00      0.00      1014\n",
      "          GB       0.00      0.00      0.00       457\n",
      "          IT       0.00      0.00      0.00       539\n",
      "          NL       0.00      0.00      0.00       156\n",
      "          PT       0.00      0.00      0.00        48\n",
      "          US       0.71      1.00      0.83     12729\n",
      "       other       0.00      0.00      0.00      1935\n",
      "\n",
      "    accuracy                           0.71     17967\n",
      "   macro avg       0.06      0.09      0.08     17967\n",
      "weighted avg       0.50      0.71      0.59     17967\n",
      "\n"
     ]
    }
   ],
   "source": [
    "print(classification_report(y1_test,y1_pred))"
   ]
  },
  {
   "cell_type": "code",
   "execution_count": 510,
   "id": "freelance-revelation",
   "metadata": {},
   "outputs": [],
   "source": [
    "#not showing big difference"
   ]
  },
  {
   "cell_type": "code",
   "execution_count": 509,
   "id": "korean-consumption",
   "metadata": {
    "scrolled": true
   },
   "outputs": [],
   "source": [
    "#RF.fit(x1_train,y1_train)"
   ]
  },
  {
   "cell_type": "code",
   "execution_count": 508,
   "id": "refined-evening",
   "metadata": {
    "scrolled": false
   },
   "outputs": [],
   "source": [
    "#RF.score(x1_test,y1_test)"
   ]
  },
  {
   "cell_type": "code",
   "execution_count": 363,
   "id": "designing-planner",
   "metadata": {},
   "outputs": [],
   "source": [
    "#df_Final_test.drop(['country_destination'], axis = 1, inplace= True)"
   ]
  },
  {
   "cell_type": "markdown",
   "id": "modular-lesson",
   "metadata": {},
   "source": [
    "## Predicting on the test set"
   ]
  },
  {
   "cell_type": "code",
   "execution_count": 521,
   "id": "designing-hindu",
   "metadata": {
    "scrolled": false
   },
   "outputs": [
    {
     "data": {
      "text/html": [
       "<div>\n",
       "<style scoped>\n",
       "    .dataframe tbody tr th:only-of-type {\n",
       "        vertical-align: middle;\n",
       "    }\n",
       "\n",
       "    .dataframe tbody tr th {\n",
       "        vertical-align: top;\n",
       "    }\n",
       "\n",
       "    .dataframe thead th {\n",
       "        text-align: right;\n",
       "    }\n",
       "</style>\n",
       "<table border=\"1\" class=\"dataframe\">\n",
       "  <thead>\n",
       "    <tr style=\"text-align: right;\">\n",
       "      <th></th>\n",
       "      <th>age</th>\n",
       "      <th>gender</th>\n",
       "      <th>affiliate_channel</th>\n",
       "      <th>affiliate_provider</th>\n",
       "      <th>AccCreat_Month</th>\n",
       "      <th>language</th>\n",
       "    </tr>\n",
       "  </thead>\n",
       "  <tbody>\n",
       "    <tr>\n",
       "      <th>0</th>\n",
       "      <td>35.0</td>\n",
       "      <td>0</td>\n",
       "      <td>2</td>\n",
       "      <td>3</td>\n",
       "      <td>6</td>\n",
       "      <td>5</td>\n",
       "    </tr>\n",
       "    <tr>\n",
       "      <th>5</th>\n",
       "      <td>28.0</td>\n",
       "      <td>0</td>\n",
       "      <td>5</td>\n",
       "      <td>7</td>\n",
       "      <td>6</td>\n",
       "      <td>5</td>\n",
       "    </tr>\n",
       "    <tr>\n",
       "      <th>6</th>\n",
       "      <td>48.0</td>\n",
       "      <td>1</td>\n",
       "      <td>2</td>\n",
       "      <td>3</td>\n",
       "      <td>6</td>\n",
       "      <td>5</td>\n",
       "    </tr>\n",
       "    <tr>\n",
       "      <th>11</th>\n",
       "      <td>30.0</td>\n",
       "      <td>0</td>\n",
       "      <td>2</td>\n",
       "      <td>3</td>\n",
       "      <td>6</td>\n",
       "      <td>5</td>\n",
       "    </tr>\n",
       "    <tr>\n",
       "      <th>12</th>\n",
       "      <td>24.0</td>\n",
       "      <td>1</td>\n",
       "      <td>2</td>\n",
       "      <td>3</td>\n",
       "      <td>6</td>\n",
       "      <td>5</td>\n",
       "    </tr>\n",
       "  </tbody>\n",
       "</table>\n",
       "</div>"
      ],
      "text/plain": [
       "     age  gender  affiliate_channel  affiliate_provider  AccCreat_Month  \\\n",
       "0   35.0       0                  2                   3               6   \n",
       "5   28.0       0                  5                   7               6   \n",
       "6   48.0       1                  2                   3               6   \n",
       "11  30.0       0                  2                   3               6   \n",
       "12  24.0       1                  2                   3               6   \n",
       "\n",
       "    language  \n",
       "0          5  \n",
       "5          5  \n",
       "6          5  \n",
       "11         5  \n",
       "12         5  "
      ]
     },
     "execution_count": 521,
     "metadata": {},
     "output_type": "execute_result"
    }
   ],
   "source": [
    "df_Final_test.head()"
   ]
  },
  {
   "cell_type": "code",
   "execution_count": 516,
   "id": "round-hughes",
   "metadata": {},
   "outputs": [
    {
     "name": "stderr",
     "output_type": "stream",
     "text": [
      "C:\\Users\\AbouElNasrA\\Anaconda3\\lib\\site-packages\\pandas\\core\\frame.py:4308: SettingWithCopyWarning: \n",
      "A value is trying to be set on a copy of a slice from a DataFrame\n",
      "\n",
      "See the caveats in the documentation: https://pandas.pydata.org/pandas-docs/stable/user_guide/indexing.html#returning-a-view-versus-a-copy\n",
      "  return super().drop(\n"
     ]
    }
   ],
   "source": [
    "df_Final_test.drop('country_destination', axis = 1,inplace= True)"
   ]
  },
  {
   "cell_type": "code",
   "execution_count": 524,
   "id": "prompt-transportation",
   "metadata": {
    "scrolled": true
   },
   "outputs": [
    {
     "name": "stderr",
     "output_type": "stream",
     "text": [
      "[Parallel(n_jobs=1)]: Using backend SequentialBackend with 1 concurrent workers.\n",
      "[Parallel(n_jobs=1)]: Done 100 out of 100 | elapsed:    1.4s finished\n"
     ]
    }
   ],
   "source": [
    "y_pred_test = RF.predict(df_Final_test)"
   ]
  },
  {
   "cell_type": "code",
   "execution_count": 525,
   "id": "rural-filling",
   "metadata": {
    "scrolled": false
   },
   "outputs": [
    {
     "data": {
      "text/plain": [
       "9     27056\n",
       "10      522\n",
       "6       178\n",
       "4       156\n",
       "5       129\n",
       "3       101\n",
       "1        80\n",
       "2        60\n",
       "7        17\n",
       "8         3\n",
       "0         2\n",
       "dtype: int64"
      ]
     },
     "execution_count": 525,
     "metadata": {},
     "output_type": "execute_result"
    }
   ],
   "source": [
    "y_pred_df = pd.DataFrame(y_pred_test)\n",
    "y_pred_df.value_counts()"
   ]
  },
  {
   "cell_type": "code",
   "execution_count": 544,
   "id": "romance-designation",
   "metadata": {},
   "outputs": [],
   "source": [
    "#y_pred_df_gb = pd.DataFrame(y_pred_test_gb)\n",
    "#y_pred_df_gb.value_counts()"
   ]
  },
  {
   "cell_type": "code",
   "execution_count": null,
   "id": "ruled-garlic",
   "metadata": {},
   "outputs": [],
   "source": [
    "y_series=pd.Series(y_pred)"
   ]
  },
  {
   "cell_type": "code",
   "execution_count": 530,
   "id": "respiratory-whale",
   "metadata": {},
   "outputs": [],
   "source": [
    "#y_pred_test_XGB = XGB.predict(df_Final_test)"
   ]
  },
  {
   "cell_type": "code",
   "execution_count": null,
   "id": "parallel-analysis",
   "metadata": {},
   "outputs": [],
   "source": [
    "#df[\"col1\"].replace(di, inplace=True)"
   ]
  },
  {
   "cell_type": "code",
   "execution_count": 298,
   "id": "dramatic-haven",
   "metadata": {},
   "outputs": [],
   "source": [
    "'''\n",
    "class_dict = {\n",
    "    'NDF': 0,\n",
    "    'US': 1,\n",
    "    'other': 2,\n",
    "    'FR': 3,\n",
    "    'CA': 4,\n",
    "    'GB': 5,\n",
    "    'ES': 6,\n",
    "    'IT': 7,\n",
    "    'PT': 8,\n",
    "    'NL': 9,\n",
    "    'DE': 10,\n",
    "    'AU': 11\n",
    "}\n",
    "'''"
   ]
  },
  {
   "cell_type": "code",
   "execution_count": 355,
   "id": "conceptual-visitor",
   "metadata": {},
   "outputs": [],
   "source": [
    "#pd.get_dummies(y_pred_df)"
   ]
  },
  {
   "cell_type": "code",
   "execution_count": 361,
   "id": "transsexual-consequence",
   "metadata": {},
   "outputs": [],
   "source": [
    "#y_pred_df.apply(lambda x: class_dict[x])\n",
    "#y_pred_df = y_pred_df.mask(axis=0, class_dict)\n",
    "#y_pred_df.replace({\"0\": class_dict})\n",
    "#y_seri.map(class_dict)"
   ]
  },
  {
   "cell_type": "code",
   "execution_count": 358,
   "id": "abstract-somewhere",
   "metadata": {
    "scrolled": true
   },
   "outputs": [],
   "source": [
    "\n",
    "#for i in y_pred_df.shape[0]:\n",
    "    #if i in class_dict.keys:\n",
    "#    print(i)"
   ]
  },
  {
   "cell_type": "code",
   "execution_count": 359,
   "id": "painted-reduction",
   "metadata": {},
   "outputs": [],
   "source": [
    "#y1_test.shape"
   ]
  },
  {
   "cell_type": "code",
   "execution_count": 360,
   "id": "fuzzy-profile",
   "metadata": {},
   "outputs": [],
   "source": [
    "#y_seri.shape"
   ]
  },
  {
   "cell_type": "code",
   "execution_count": null,
   "id": "antique-belarus",
   "metadata": {},
   "outputs": [],
   "source": []
  }
 ],
 "metadata": {
  "kernelspec": {
   "display_name": "Python 3",
   "language": "python",
   "name": "python3"
  },
  "language_info": {
   "codemirror_mode": {
    "name": "ipython",
    "version": 3
   },
   "file_extension": ".py",
   "mimetype": "text/x-python",
   "name": "python",
   "nbconvert_exporter": "python",
   "pygments_lexer": "ipython3",
   "version": "3.8.8"
  }
 },
 "nbformat": 4,
 "nbformat_minor": 5
}
