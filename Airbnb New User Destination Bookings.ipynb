{
 "cells": [
  {
   "cell_type": "markdown",
   "id": "educated-conspiracy",
   "metadata": {},
   "source": [
    "### Objective : \n",
    "We will analyze some Airbnb data about its customers and users’ behavior over Airbnb platform and the main goal is to predict the new user’s booking destination.\n"
   ]
  },
  {
   "cell_type": "code",
   "execution_count": 400,
   "id": "worse-remark",
   "metadata": {},
   "outputs": [],
   "source": [
    "#from sklearn.preprocessing import LabelEncoder\n",
    "#from xgboost.sklearn import XGBClassifier\n",
    "from sklearn.model_selection import train_test_split\n",
    "#from sklearn.metrics import mean_absolute_error\n",
    "#from datetime import datetime\n",
    "#from sklearn.preprocessing import LabelEncoder\n",
    "from datetime import timedelta\n",
    "from sklearn.compose import ColumnTransformer\n",
    "from sklearn.pipeline import Pipeline\n",
    "from sklearn.impute import SimpleImputer\n",
    "from sklearn.preprocessing import LabelEncoder\n",
    "from sklearn.preprocessing import OneHotEncoder\n",
    "from sklearn.base import TransformerMixin, BaseEstimator\n",
    "from sklearn.model_selection import cross_val_score\n",
    "from sklearn.metrics import accuracy_score\n",
    "import statistics\n",
    "import operator\n",
    "from xgboost import XGBClassifier\n",
    "from sklearn.metrics import ndcg_score\n",
    "from sklearn.model_selection import GridSearchCV, KFold, cross_val_score\n",
    "from catboost import CatBoostClassifier"
   ]
  },
  {
   "cell_type": "markdown",
   "id": "received-taxation",
   "metadata": {},
   "source": [
    "## Data Wrangling"
   ]
  },
  {
   "cell_type": "code",
   "execution_count": 564,
   "id": "least-serum",
   "metadata": {},
   "outputs": [],
   "source": [
    "import numpy as np\n",
    "import pandas as pd\n",
    "import matplotlib.pyplot as plt\n",
    "%matplotlib inline\n",
    "import seaborn as sns\n",
    "import datetime\n",
    "from sklearn.preprocessing import LabelEncoder\n",
    "from sklearn.model_selection import train_test_split\n",
    "from scipy import stats\n",
    "from scipy.stats import chi2_contingency\n",
    "from xgboost import XGBClassifier\n",
    "from sklearn.preprocessing import LabelEncoder\n",
    "from sklearn.preprocessing import OneHotEncoder\n",
    "from sklearn.compose import ColumnTransformer\n"
   ]
  },
  {
   "cell_type": "code",
   "execution_count": 565,
   "id": "about-mission",
   "metadata": {},
   "outputs": [
    {
     "data": {
      "text/html": [
       "<div>\n",
       "<style scoped>\n",
       "    .dataframe tbody tr th:only-of-type {\n",
       "        vertical-align: middle;\n",
       "    }\n",
       "\n",
       "    .dataframe tbody tr th {\n",
       "        vertical-align: top;\n",
       "    }\n",
       "\n",
       "    .dataframe thead th {\n",
       "        text-align: right;\n",
       "    }\n",
       "</style>\n",
       "<table border=\"1\" class=\"dataframe\">\n",
       "  <thead>\n",
       "    <tr style=\"text-align: right;\">\n",
       "      <th></th>\n",
       "      <th>age_bucket</th>\n",
       "      <th>country_destination</th>\n",
       "      <th>gender</th>\n",
       "      <th>population_in_thousands</th>\n",
       "      <th>year</th>\n",
       "    </tr>\n",
       "  </thead>\n",
       "  <tbody>\n",
       "    <tr>\n",
       "      <th>115</th>\n",
       "      <td>5-9</td>\n",
       "      <td>DE</td>\n",
       "      <td>male</td>\n",
       "      <td>1781.0</td>\n",
       "      <td>2015.0</td>\n",
       "    </tr>\n",
       "    <tr>\n",
       "      <th>82</th>\n",
       "      <td>15-19</td>\n",
       "      <td>CA</td>\n",
       "      <td>female</td>\n",
       "      <td>1009.0</td>\n",
       "      <td>2015.0</td>\n",
       "    </tr>\n",
       "    <tr>\n",
       "      <th>85</th>\n",
       "      <td>80-84</td>\n",
       "      <td>DE</td>\n",
       "      <td>female</td>\n",
       "      <td>1486.0</td>\n",
       "      <td>2015.0</td>\n",
       "    </tr>\n",
       "    <tr>\n",
       "      <th>136</th>\n",
       "      <td>70-74</td>\n",
       "      <td>ES</td>\n",
       "      <td>female</td>\n",
       "      <td>1040.0</td>\n",
       "      <td>2015.0</td>\n",
       "    </tr>\n",
       "    <tr>\n",
       "      <th>37</th>\n",
       "      <td>20-24</td>\n",
       "      <td>AU</td>\n",
       "      <td>female</td>\n",
       "      <td>787.0</td>\n",
       "      <td>2015.0</td>\n",
       "    </tr>\n",
       "    <tr>\n",
       "      <th>318</th>\n",
       "      <td>75-79</td>\n",
       "      <td>NL</td>\n",
       "      <td>male</td>\n",
       "      <td>246.0</td>\n",
       "      <td>2015.0</td>\n",
       "    </tr>\n",
       "  </tbody>\n",
       "</table>\n",
       "</div>"
      ],
      "text/plain": [
       "    age_bucket country_destination  gender  population_in_thousands    year\n",
       "115        5-9                  DE    male                   1781.0  2015.0\n",
       "82       15-19                  CA  female                   1009.0  2015.0\n",
       "85       80-84                  DE  female                   1486.0  2015.0\n",
       "136      70-74                  ES  female                   1040.0  2015.0\n",
       "37       20-24                  AU  female                    787.0  2015.0\n",
       "318      75-79                  NL    male                    246.0  2015.0"
      ]
     },
     "execution_count": 565,
     "metadata": {},
     "output_type": "execute_result"
    }
   ],
   "source": [
    "df_gender= pd.read_csv('age_gender_bkts.csv')\n",
    "df_gender.sample(6)"
   ]
  },
  {
   "cell_type": "code",
   "execution_count": 566,
   "id": "described-criterion",
   "metadata": {},
   "outputs": [
    {
     "data": {
      "text/plain": [
       "age_bucket                  21\n",
       "country_destination         10\n",
       "gender                       2\n",
       "population_in_thousands    381\n",
       "year                         1\n",
       "dtype: int64"
      ]
     },
     "execution_count": 566,
     "metadata": {},
     "output_type": "execute_result"
    }
   ],
   "source": [
    "df_gender.nunique()"
   ]
  },
  {
   "cell_type": "code",
   "execution_count": 567,
   "id": "thick-award",
   "metadata": {},
   "outputs": [
    {
     "name": "stdout",
     "output_type": "stream",
     "text": [
      "<class 'pandas.core.frame.DataFrame'>\n",
      "RangeIndex: 420 entries, 0 to 419\n",
      "Data columns (total 5 columns):\n",
      " #   Column                   Non-Null Count  Dtype  \n",
      "---  ------                   --------------  -----  \n",
      " 0   age_bucket               420 non-null    object \n",
      " 1   country_destination      420 non-null    object \n",
      " 2   gender                   420 non-null    object \n",
      " 3   population_in_thousands  420 non-null    float64\n",
      " 4   year                     420 non-null    float64\n",
      "dtypes: float64(2), object(3)\n",
      "memory usage: 16.5+ KB\n",
      "(420, 5)\n"
     ]
    }
   ],
   "source": [
    "df_gender.info()\n",
    "print(df_gender.shape)"
   ]
  },
  {
   "cell_type": "code",
   "execution_count": 568,
   "id": "binding-material",
   "metadata": {},
   "outputs": [
    {
     "data": {
      "text/plain": [
       "age_bucket  country_destination  gender  population_in_thousands  year \n",
       "False       False                False   False                    False    420\n",
       "dtype: int64"
      ]
     },
     "execution_count": 568,
     "metadata": {},
     "output_type": "execute_result"
    }
   ],
   "source": [
    "df_gender.isnull().value_counts()"
   ]
  },
  {
   "cell_type": "code",
   "execution_count": 569,
   "id": "progressive-attendance",
   "metadata": {},
   "outputs": [
    {
     "data": {
      "text/plain": [
       "0-4      20\n",
       "10-14    20\n",
       "100+     20\n",
       "15-19    20\n",
       "20-24    20\n",
       "25-29    20\n",
       "30-34    20\n",
       "35-39    20\n",
       "40-44    20\n",
       "45-49    20\n",
       "5-9      20\n",
       "50-54    20\n",
       "55-59    20\n",
       "60-64    20\n",
       "65-69    20\n",
       "70-74    20\n",
       "75-79    20\n",
       "80-84    20\n",
       "85-89    20\n",
       "90-94    20\n",
       "95-99    20\n",
       "Name: age_bucket, dtype: int64"
      ]
     },
     "execution_count": 569,
     "metadata": {},
     "output_type": "execute_result"
    }
   ],
   "source": [
    "df_gender.age_bucket.value_counts().sort_index()"
   ]
  },
  {
   "cell_type": "code",
   "execution_count": 570,
   "id": "neither-weekend",
   "metadata": {},
   "outputs": [
    {
     "data": {
      "text/plain": [
       "PT    42\n",
       "NL    42\n",
       "AU    42\n",
       "ES    42\n",
       "GB    42\n",
       "IT    42\n",
       "FR    42\n",
       "CA    42\n",
       "DE    42\n",
       "US    42\n",
       "Name: country_destination, dtype: int64"
      ]
     },
     "execution_count": 570,
     "metadata": {},
     "output_type": "execute_result"
    }
   ],
   "source": [
    "df_gender.country_destination.value_counts()"
   ]
  },
  {
   "cell_type": "code",
   "execution_count": 571,
   "id": "commercial-instrumentation",
   "metadata": {},
   "outputs": [
    {
     "data": {
      "text/html": [
       "<div>\n",
       "<style scoped>\n",
       "    .dataframe tbody tr th:only-of-type {\n",
       "        vertical-align: middle;\n",
       "    }\n",
       "\n",
       "    .dataframe tbody tr th {\n",
       "        vertical-align: top;\n",
       "    }\n",
       "\n",
       "    .dataframe thead th {\n",
       "        text-align: right;\n",
       "    }\n",
       "</style>\n",
       "<table border=\"1\" class=\"dataframe\">\n",
       "  <thead>\n",
       "    <tr style=\"text-align: right;\">\n",
       "      <th></th>\n",
       "      <th>user_id</th>\n",
       "      <th>action</th>\n",
       "      <th>action_type</th>\n",
       "      <th>action_detail</th>\n",
       "      <th>device_type</th>\n",
       "      <th>secs_elapsed</th>\n",
       "    </tr>\n",
       "  </thead>\n",
       "  <tbody>\n",
       "    <tr>\n",
       "      <th>3816067</th>\n",
       "      <td>myxnn1rt0e</td>\n",
       "      <td>similar_listings</td>\n",
       "      <td>data</td>\n",
       "      <td>similar_listings</td>\n",
       "      <td>Windows Desktop</td>\n",
       "      <td>175.0</td>\n",
       "    </tr>\n",
       "    <tr>\n",
       "      <th>855117</th>\n",
       "      <td>ablibz5ltz</td>\n",
       "      <td>index</td>\n",
       "      <td>view</td>\n",
       "      <td>view_search_results</td>\n",
       "      <td>Mac Desktop</td>\n",
       "      <td>8975.0</td>\n",
       "    </tr>\n",
       "    <tr>\n",
       "      <th>9155780</th>\n",
       "      <td>mlqkuuecjj</td>\n",
       "      <td>show</td>\n",
       "      <td>view</td>\n",
       "      <td>p3</td>\n",
       "      <td>Android Phone</td>\n",
       "      <td>972.0</td>\n",
       "    </tr>\n",
       "    <tr>\n",
       "      <th>5696008</th>\n",
       "      <td>t585o3xkm6</td>\n",
       "      <td>index</td>\n",
       "      <td>-unknown-</td>\n",
       "      <td>-unknown-</td>\n",
       "      <td>Tablet</td>\n",
       "      <td>57.0</td>\n",
       "    </tr>\n",
       "    <tr>\n",
       "      <th>4489916</th>\n",
       "      <td>si9mbm6khe</td>\n",
       "      <td>personalize</td>\n",
       "      <td>data</td>\n",
       "      <td>wishlist_content_update</td>\n",
       "      <td>Windows Desktop</td>\n",
       "      <td>1351.0</td>\n",
       "    </tr>\n",
       "    <tr>\n",
       "      <th>6168638</th>\n",
       "      <td>aiffur042c</td>\n",
       "      <td>create</td>\n",
       "      <td>submit</td>\n",
       "      <td>create_user</td>\n",
       "      <td>Windows Desktop</td>\n",
       "      <td>NaN</td>\n",
       "    </tr>\n",
       "  </tbody>\n",
       "</table>\n",
       "</div>"
      ],
      "text/plain": [
       "            user_id            action action_type            action_detail  \\\n",
       "3816067  myxnn1rt0e  similar_listings        data         similar_listings   \n",
       "855117   ablibz5ltz             index        view      view_search_results   \n",
       "9155780  mlqkuuecjj              show        view                       p3   \n",
       "5696008  t585o3xkm6             index   -unknown-                -unknown-   \n",
       "4489916  si9mbm6khe       personalize        data  wishlist_content_update   \n",
       "6168638  aiffur042c            create      submit              create_user   \n",
       "\n",
       "             device_type  secs_elapsed  \n",
       "3816067  Windows Desktop         175.0  \n",
       "855117       Mac Desktop        8975.0  \n",
       "9155780    Android Phone         972.0  \n",
       "5696008           Tablet          57.0  \n",
       "4489916  Windows Desktop        1351.0  \n",
       "6168638  Windows Desktop           NaN  "
      ]
     },
     "execution_count": 571,
     "metadata": {},
     "output_type": "execute_result"
    }
   ],
   "source": [
    "df_session = pd.read_csv('sessions.csv')\n",
    "df_session.sample(6)"
   ]
  },
  {
   "cell_type": "code",
   "execution_count": 572,
   "id": "variable-benchmark",
   "metadata": {
    "scrolled": true
   },
   "outputs": [
    {
     "data": {
      "text/html": [
       "<div>\n",
       "<style scoped>\n",
       "    .dataframe tbody tr th:only-of-type {\n",
       "        vertical-align: middle;\n",
       "    }\n",
       "\n",
       "    .dataframe tbody tr th {\n",
       "        vertical-align: top;\n",
       "    }\n",
       "\n",
       "    .dataframe thead th {\n",
       "        text-align: right;\n",
       "    }\n",
       "</style>\n",
       "<table border=\"1\" class=\"dataframe\">\n",
       "  <thead>\n",
       "    <tr style=\"text-align: right;\">\n",
       "      <th></th>\n",
       "      <th>country_destination</th>\n",
       "      <th>lat_destination</th>\n",
       "      <th>lng_destination</th>\n",
       "      <th>distance_km</th>\n",
       "      <th>destination_km2</th>\n",
       "      <th>destination_language</th>\n",
       "      <th>language_levenshtein_distance</th>\n",
       "    </tr>\n",
       "  </thead>\n",
       "  <tbody>\n",
       "    <tr>\n",
       "      <th>1</th>\n",
       "      <td>CA</td>\n",
       "      <td>62.393303</td>\n",
       "      <td>-96.818146</td>\n",
       "      <td>2828.1333</td>\n",
       "      <td>9984670.0</td>\n",
       "      <td>eng</td>\n",
       "      <td>0.00</td>\n",
       "    </tr>\n",
       "    <tr>\n",
       "      <th>5</th>\n",
       "      <td>GB</td>\n",
       "      <td>54.633220</td>\n",
       "      <td>-3.432277</td>\n",
       "      <td>6883.6590</td>\n",
       "      <td>243610.0</td>\n",
       "      <td>eng</td>\n",
       "      <td>0.00</td>\n",
       "    </tr>\n",
       "    <tr>\n",
       "      <th>8</th>\n",
       "      <td>PT</td>\n",
       "      <td>39.553444</td>\n",
       "      <td>-7.839319</td>\n",
       "      <td>7355.2534</td>\n",
       "      <td>92090.0</td>\n",
       "      <td>por</td>\n",
       "      <td>95.45</td>\n",
       "    </tr>\n",
       "    <tr>\n",
       "      <th>3</th>\n",
       "      <td>ES</td>\n",
       "      <td>39.896027</td>\n",
       "      <td>-2.487694</td>\n",
       "      <td>7730.7240</td>\n",
       "      <td>505370.0</td>\n",
       "      <td>spa</td>\n",
       "      <td>92.25</td>\n",
       "    </tr>\n",
       "    <tr>\n",
       "      <th>0</th>\n",
       "      <td>AU</td>\n",
       "      <td>-26.853388</td>\n",
       "      <td>133.275160</td>\n",
       "      <td>15297.7440</td>\n",
       "      <td>7741220.0</td>\n",
       "      <td>eng</td>\n",
       "      <td>0.00</td>\n",
       "    </tr>\n",
       "    <tr>\n",
       "      <th>6</th>\n",
       "      <td>IT</td>\n",
       "      <td>41.873990</td>\n",
       "      <td>12.564167</td>\n",
       "      <td>8636.6310</td>\n",
       "      <td>301340.0</td>\n",
       "      <td>ita</td>\n",
       "      <td>89.40</td>\n",
       "    </tr>\n",
       "  </tbody>\n",
       "</table>\n",
       "</div>"
      ],
      "text/plain": [
       "  country_destination  lat_destination  lng_destination  distance_km  \\\n",
       "1                  CA        62.393303       -96.818146    2828.1333   \n",
       "5                  GB        54.633220        -3.432277    6883.6590   \n",
       "8                  PT        39.553444        -7.839319    7355.2534   \n",
       "3                  ES        39.896027        -2.487694    7730.7240   \n",
       "0                  AU       -26.853388       133.275160   15297.7440   \n",
       "6                  IT        41.873990        12.564167    8636.6310   \n",
       "\n",
       "   destination_km2 destination_language   language_levenshtein_distance  \n",
       "1        9984670.0                   eng                           0.00  \n",
       "5         243610.0                   eng                           0.00  \n",
       "8          92090.0                   por                          95.45  \n",
       "3         505370.0                   spa                          92.25  \n",
       "0        7741220.0                   eng                           0.00  \n",
       "6         301340.0                   ita                          89.40  "
      ]
     },
     "execution_count": 572,
     "metadata": {},
     "output_type": "execute_result"
    }
   ],
   "source": [
    "df_country = pd.read_csv('countries.csv')\n",
    "df_country.sample(6)"
   ]
  },
  {
   "cell_type": "code",
   "execution_count": 573,
   "id": "sexual-ontario",
   "metadata": {},
   "outputs": [
    {
     "data": {
      "text/html": [
       "<div>\n",
       "<style scoped>\n",
       "    .dataframe tbody tr th:only-of-type {\n",
       "        vertical-align: middle;\n",
       "    }\n",
       "\n",
       "    .dataframe tbody tr th {\n",
       "        vertical-align: top;\n",
       "    }\n",
       "\n",
       "    .dataframe thead th {\n",
       "        text-align: right;\n",
       "    }\n",
       "</style>\n",
       "<table border=\"1\" class=\"dataframe\">\n",
       "  <thead>\n",
       "    <tr style=\"text-align: right;\">\n",
       "      <th></th>\n",
       "      <th>id</th>\n",
       "      <th>date_account_created</th>\n",
       "      <th>timestamp_first_active</th>\n",
       "      <th>date_first_booking</th>\n",
       "      <th>gender</th>\n",
       "      <th>age</th>\n",
       "      <th>signup_method</th>\n",
       "      <th>signup_flow</th>\n",
       "      <th>language</th>\n",
       "      <th>affiliate_channel</th>\n",
       "      <th>affiliate_provider</th>\n",
       "      <th>first_affiliate_tracked</th>\n",
       "      <th>signup_app</th>\n",
       "      <th>first_device_type</th>\n",
       "      <th>first_browser</th>\n",
       "      <th>country_destination</th>\n",
       "    </tr>\n",
       "  </thead>\n",
       "  <tbody>\n",
       "    <tr>\n",
       "      <th>133154</th>\n",
       "      <td>kzh7rcbjw7</td>\n",
       "      <td>2013-12-17</td>\n",
       "      <td>20131217080413</td>\n",
       "      <td>2013-12-19</td>\n",
       "      <td>-unknown-</td>\n",
       "      <td>29.0</td>\n",
       "      <td>basic</td>\n",
       "      <td>25</td>\n",
       "      <td>en</td>\n",
       "      <td>direct</td>\n",
       "      <td>direct</td>\n",
       "      <td>omg</td>\n",
       "      <td>iOS</td>\n",
       "      <td>Windows Desktop</td>\n",
       "      <td>IE</td>\n",
       "      <td>US</td>\n",
       "    </tr>\n",
       "    <tr>\n",
       "      <th>80073</th>\n",
       "      <td>0y2pj124oa</td>\n",
       "      <td>2013-05-28</td>\n",
       "      <td>20130528194256</td>\n",
       "      <td>NaN</td>\n",
       "      <td>-unknown-</td>\n",
       "      <td>NaN</td>\n",
       "      <td>basic</td>\n",
       "      <td>0</td>\n",
       "      <td>en</td>\n",
       "      <td>sem-brand</td>\n",
       "      <td>google</td>\n",
       "      <td>omg</td>\n",
       "      <td>Web</td>\n",
       "      <td>Mac Desktop</td>\n",
       "      <td>Firefox</td>\n",
       "      <td>NDF</td>\n",
       "    </tr>\n",
       "    <tr>\n",
       "      <th>11865</th>\n",
       "      <td>oaeooxv079</td>\n",
       "      <td>2011-10-30</td>\n",
       "      <td>20111030195918</td>\n",
       "      <td>NaN</td>\n",
       "      <td>FEMALE</td>\n",
       "      <td>26.0</td>\n",
       "      <td>facebook</td>\n",
       "      <td>0</td>\n",
       "      <td>en</td>\n",
       "      <td>sem-brand</td>\n",
       "      <td>google</td>\n",
       "      <td>NaN</td>\n",
       "      <td>Web</td>\n",
       "      <td>Other/Unknown</td>\n",
       "      <td>-unknown-</td>\n",
       "      <td>NDF</td>\n",
       "    </tr>\n",
       "    <tr>\n",
       "      <th>201472</th>\n",
       "      <td>piz3es725m</td>\n",
       "      <td>2014-06-08</td>\n",
       "      <td>20140608193636</td>\n",
       "      <td>2014-06-13</td>\n",
       "      <td>MALE</td>\n",
       "      <td>34.0</td>\n",
       "      <td>facebook</td>\n",
       "      <td>0</td>\n",
       "      <td>en</td>\n",
       "      <td>seo</td>\n",
       "      <td>google</td>\n",
       "      <td>linked</td>\n",
       "      <td>Web</td>\n",
       "      <td>Mac Desktop</td>\n",
       "      <td>Chrome</td>\n",
       "      <td>US</td>\n",
       "    </tr>\n",
       "    <tr>\n",
       "      <th>33386</th>\n",
       "      <td>mf006ykz5s</td>\n",
       "      <td>2012-07-24</td>\n",
       "      <td>20120724010550</td>\n",
       "      <td>NaN</td>\n",
       "      <td>FEMALE</td>\n",
       "      <td>NaN</td>\n",
       "      <td>basic</td>\n",
       "      <td>0</td>\n",
       "      <td>en</td>\n",
       "      <td>sem-non-brand</td>\n",
       "      <td>google</td>\n",
       "      <td>omg</td>\n",
       "      <td>Web</td>\n",
       "      <td>Windows Desktop</td>\n",
       "      <td>Chrome</td>\n",
       "      <td>NDF</td>\n",
       "    </tr>\n",
       "    <tr>\n",
       "      <th>60745</th>\n",
       "      <td>37uk6ozs7i</td>\n",
       "      <td>2013-02-16</td>\n",
       "      <td>20130216161412</td>\n",
       "      <td>NaN</td>\n",
       "      <td>-unknown-</td>\n",
       "      <td>NaN</td>\n",
       "      <td>basic</td>\n",
       "      <td>25</td>\n",
       "      <td>en</td>\n",
       "      <td>direct</td>\n",
       "      <td>direct</td>\n",
       "      <td>untracked</td>\n",
       "      <td>iOS</td>\n",
       "      <td>iPhone</td>\n",
       "      <td>-unknown-</td>\n",
       "      <td>NDF</td>\n",
       "    </tr>\n",
       "  </tbody>\n",
       "</table>\n",
       "</div>"
      ],
      "text/plain": [
       "                id date_account_created  timestamp_first_active  \\\n",
       "133154  kzh7rcbjw7           2013-12-17          20131217080413   \n",
       "80073   0y2pj124oa           2013-05-28          20130528194256   \n",
       "11865   oaeooxv079           2011-10-30          20111030195918   \n",
       "201472  piz3es725m           2014-06-08          20140608193636   \n",
       "33386   mf006ykz5s           2012-07-24          20120724010550   \n",
       "60745   37uk6ozs7i           2013-02-16          20130216161412   \n",
       "\n",
       "       date_first_booking     gender   age signup_method  signup_flow  \\\n",
       "133154         2013-12-19  -unknown-  29.0         basic           25   \n",
       "80073                 NaN  -unknown-   NaN         basic            0   \n",
       "11865                 NaN     FEMALE  26.0      facebook            0   \n",
       "201472         2014-06-13       MALE  34.0      facebook            0   \n",
       "33386                 NaN     FEMALE   NaN         basic            0   \n",
       "60745                 NaN  -unknown-   NaN         basic           25   \n",
       "\n",
       "       language affiliate_channel affiliate_provider first_affiliate_tracked  \\\n",
       "133154       en            direct             direct                     omg   \n",
       "80073        en         sem-brand             google                     omg   \n",
       "11865        en         sem-brand             google                     NaN   \n",
       "201472       en               seo             google                  linked   \n",
       "33386        en     sem-non-brand             google                     omg   \n",
       "60745        en            direct             direct               untracked   \n",
       "\n",
       "       signup_app first_device_type first_browser country_destination  \n",
       "133154        iOS   Windows Desktop            IE                  US  \n",
       "80073         Web       Mac Desktop       Firefox                 NDF  \n",
       "11865         Web     Other/Unknown     -unknown-                 NDF  \n",
       "201472        Web       Mac Desktop        Chrome                  US  \n",
       "33386         Web   Windows Desktop        Chrome                 NDF  \n",
       "60745         iOS            iPhone     -unknown-                 NDF  "
      ]
     },
     "execution_count": 573,
     "metadata": {},
     "output_type": "execute_result"
    }
   ],
   "source": [
    "df_train = pd.read_csv('train_users_2.csv')\n",
    "df_train.sample(6)"
   ]
  },
  {
   "cell_type": "code",
   "execution_count": 574,
   "id": "improved-stress",
   "metadata": {},
   "outputs": [
    {
     "name": "stdout",
     "output_type": "stream",
     "text": [
      "<class 'pandas.core.frame.DataFrame'>\n",
      "RangeIndex: 213451 entries, 0 to 213450\n",
      "Data columns (total 16 columns):\n",
      " #   Column                   Non-Null Count   Dtype  \n",
      "---  ------                   --------------   -----  \n",
      " 0   id                       213451 non-null  object \n",
      " 1   date_account_created     213451 non-null  object \n",
      " 2   timestamp_first_active   213451 non-null  int64  \n",
      " 3   date_first_booking       88908 non-null   object \n",
      " 4   gender                   213451 non-null  object \n",
      " 5   age                      125461 non-null  float64\n",
      " 6   signup_method            213451 non-null  object \n",
      " 7   signup_flow              213451 non-null  int64  \n",
      " 8   language                 213451 non-null  object \n",
      " 9   affiliate_channel        213451 non-null  object \n",
      " 10  affiliate_provider       213451 non-null  object \n",
      " 11  first_affiliate_tracked  207386 non-null  object \n",
      " 12  signup_app               213451 non-null  object \n",
      " 13  first_device_type        213451 non-null  object \n",
      " 14  first_browser            213451 non-null  object \n",
      " 15  country_destination      213451 non-null  object \n",
      "dtypes: float64(1), int64(2), object(13)\n",
      "memory usage: 26.1+ MB\n"
     ]
    }
   ],
   "source": [
    "df_train.info()"
   ]
  },
  {
   "cell_type": "code",
   "execution_count": 575,
   "id": "canadian-indianapolis",
   "metadata": {
    "scrolled": true
   },
   "outputs": [
    {
     "data": {
      "text/plain": [
       "Chrome                  63845\n",
       "Safari                  45169\n",
       "Firefox                 33655\n",
       "-unknown-               27266\n",
       "IE                      21068\n",
       "Mobile Safari           19274\n",
       "Chrome Mobile            1270\n",
       "Android Browser           851\n",
       "AOL Explorer              245\n",
       "Opera                     188\n",
       "Silk                      124\n",
       "Chromium                   73\n",
       "BlackBerry Browser         53\n",
       "Maxthon                    46\n",
       "Apple Mail                 36\n",
       "IE Mobile                  36\n",
       "Sogou Explorer             33\n",
       "Mobile Firefox             30\n",
       "RockMelt                   24\n",
       "SiteKiosk                  24\n",
       "Iron                       17\n",
       "IceWeasel                  13\n",
       "Pale Moon                  12\n",
       "SeaMonkey                  11\n",
       "CometBird                  11\n",
       "Yandex.Browser             11\n",
       "Camino                      9\n",
       "TenFourFox                  8\n",
       "wOSBrowser                  6\n",
       "CoolNovo                    6\n",
       "Opera Mini                  4\n",
       "Avant Browser               4\n",
       "Mozilla                     3\n",
       "Flock                       2\n",
       "TheWorld Browser            2\n",
       "Comodo Dragon               2\n",
       "Crazy Browser               2\n",
       "OmniWeb                     2\n",
       "Opera Mobile                2\n",
       "SlimBrowser                 2\n",
       "Palm Pre web browser        1\n",
       "IceDragon                   1\n",
       "Epic                        1\n",
       "Arora                       1\n",
       "Stainless                   1\n",
       "PS Vita browser             1\n",
       "Googlebot                   1\n",
       "Conkeror                    1\n",
       "Google Earth                1\n",
       "Kindle Browser              1\n",
       "Outlook 2007                1\n",
       "NetNewsWire                 1\n",
       "Name: first_browser, dtype: int64"
      ]
     },
     "execution_count": 575,
     "metadata": {},
     "output_type": "execute_result"
    }
   ],
   "source": [
    "df_train.first_browser.value_counts()"
   ]
  },
  {
   "cell_type": "code",
   "execution_count": 576,
   "id": "restricted-frederick",
   "metadata": {},
   "outputs": [
    {
     "data": {
      "text/plain": [
       "-unknown-    95688\n",
       "FEMALE       63041\n",
       "MALE         54440\n",
       "OTHER          282\n",
       "Name: gender, dtype: int64"
      ]
     },
     "execution_count": 576,
     "metadata": {},
     "output_type": "execute_result"
    }
   ],
   "source": [
    "df_train.gender.value_counts()"
   ]
  },
  {
   "cell_type": "code",
   "execution_count": 577,
   "id": "jewish-miniature",
   "metadata": {},
   "outputs": [
    {
     "data": {
      "text/plain": [
       "count    125461.000000\n",
       "mean         49.668335\n",
       "std         155.666612\n",
       "min           1.000000\n",
       "25%          28.000000\n",
       "50%          34.000000\n",
       "75%          43.000000\n",
       "max        2014.000000\n",
       "Name: age, dtype: float64"
      ]
     },
     "execution_count": 577,
     "metadata": {},
     "output_type": "execute_result"
    }
   ],
   "source": [
    "df_train.age.describe() #age has many outliers"
   ]
  },
  {
   "cell_type": "code",
   "execution_count": 578,
   "id": "incomplete-semiconductor",
   "metadata": {},
   "outputs": [
    {
     "data": {
      "text/plain": [
       "(213451, 16)"
      ]
     },
     "execution_count": 578,
     "metadata": {},
     "output_type": "execute_result"
    }
   ],
   "source": [
    "df_train.shape"
   ]
  },
  {
   "cell_type": "code",
   "execution_count": 579,
   "id": "gothic-clinton",
   "metadata": {},
   "outputs": [
    {
     "data": {
      "text/plain": [
       "id                         801\n",
       "date_account_created       801\n",
       "timestamp_first_active     801\n",
       "date_first_booking         382\n",
       "gender                     801\n",
       "age                        801\n",
       "signup_method              801\n",
       "signup_flow                801\n",
       "language                   801\n",
       "affiliate_channel          801\n",
       "affiliate_provider         801\n",
       "first_affiliate_tracked    766\n",
       "signup_app                 801\n",
       "first_device_type          801\n",
       "first_browser              801\n",
       "country_destination        801\n",
       "dtype: int64"
      ]
     },
     "execution_count": 579,
     "metadata": {},
     "output_type": "execute_result"
    }
   ],
   "source": [
    "df_train[df_train.age>110].count()"
   ]
  },
  {
   "cell_type": "code",
   "execution_count": 580,
   "id": "bored-rochester",
   "metadata": {},
   "outputs": [
    {
     "data": {
      "text/plain": [
       "id                         65\n",
       "date_account_created       65\n",
       "timestamp_first_active     65\n",
       "date_first_booking         17\n",
       "gender                     65\n",
       "age                        65\n",
       "signup_method              65\n",
       "signup_flow                65\n",
       "language                   65\n",
       "affiliate_channel          65\n",
       "affiliate_provider         65\n",
       "first_affiliate_tracked    46\n",
       "signup_app                 65\n",
       "first_device_type          65\n",
       "first_browser              65\n",
       "country_destination        65\n",
       "dtype: int64"
      ]
     },
     "execution_count": 580,
     "metadata": {},
     "output_type": "execute_result"
    }
   ],
   "source": [
    "df_train[df_train.age<16].count()"
   ]
  },
  {
   "cell_type": "code",
   "execution_count": 581,
   "id": "defensive-albania",
   "metadata": {},
   "outputs": [
    {
     "data": {
      "text/html": [
       "<div>\n",
       "<style scoped>\n",
       "    .dataframe tbody tr th:only-of-type {\n",
       "        vertical-align: middle;\n",
       "    }\n",
       "\n",
       "    .dataframe tbody tr th {\n",
       "        vertical-align: top;\n",
       "    }\n",
       "\n",
       "    .dataframe thead th {\n",
       "        text-align: right;\n",
       "    }\n",
       "</style>\n",
       "<table border=\"1\" class=\"dataframe\">\n",
       "  <thead>\n",
       "    <tr style=\"text-align: right;\">\n",
       "      <th></th>\n",
       "      <th>timestamp_first_active</th>\n",
       "      <th>age</th>\n",
       "      <th>signup_flow</th>\n",
       "    </tr>\n",
       "  </thead>\n",
       "  <tbody>\n",
       "    <tr>\n",
       "      <th>count</th>\n",
       "      <td>2.134510e+05</td>\n",
       "      <td>125461.000000</td>\n",
       "      <td>213451.000000</td>\n",
       "    </tr>\n",
       "    <tr>\n",
       "      <th>mean</th>\n",
       "      <td>2.013085e+13</td>\n",
       "      <td>49.668335</td>\n",
       "      <td>3.267387</td>\n",
       "    </tr>\n",
       "    <tr>\n",
       "      <th>std</th>\n",
       "      <td>9.253717e+09</td>\n",
       "      <td>155.666612</td>\n",
       "      <td>7.637707</td>\n",
       "    </tr>\n",
       "    <tr>\n",
       "      <th>min</th>\n",
       "      <td>2.009032e+13</td>\n",
       "      <td>1.000000</td>\n",
       "      <td>0.000000</td>\n",
       "    </tr>\n",
       "    <tr>\n",
       "      <th>25%</th>\n",
       "      <td>2.012123e+13</td>\n",
       "      <td>28.000000</td>\n",
       "      <td>0.000000</td>\n",
       "    </tr>\n",
       "    <tr>\n",
       "      <th>50%</th>\n",
       "      <td>2.013091e+13</td>\n",
       "      <td>34.000000</td>\n",
       "      <td>0.000000</td>\n",
       "    </tr>\n",
       "    <tr>\n",
       "      <th>75%</th>\n",
       "      <td>2.014031e+13</td>\n",
       "      <td>43.000000</td>\n",
       "      <td>0.000000</td>\n",
       "    </tr>\n",
       "    <tr>\n",
       "      <th>max</th>\n",
       "      <td>2.014063e+13</td>\n",
       "      <td>2014.000000</td>\n",
       "      <td>25.000000</td>\n",
       "    </tr>\n",
       "  </tbody>\n",
       "</table>\n",
       "</div>"
      ],
      "text/plain": [
       "       timestamp_first_active            age    signup_flow\n",
       "count            2.134510e+05  125461.000000  213451.000000\n",
       "mean             2.013085e+13      49.668335       3.267387\n",
       "std              9.253717e+09     155.666612       7.637707\n",
       "min              2.009032e+13       1.000000       0.000000\n",
       "25%              2.012123e+13      28.000000       0.000000\n",
       "50%              2.013091e+13      34.000000       0.000000\n",
       "75%              2.014031e+13      43.000000       0.000000\n",
       "max              2.014063e+13    2014.000000      25.000000"
      ]
     },
     "execution_count": 581,
     "metadata": {},
     "output_type": "execute_result"
    }
   ],
   "source": [
    "df_train.describe()"
   ]
  },
  {
   "cell_type": "code",
   "execution_count": 582,
   "id": "colonial-dealer",
   "metadata": {
    "scrolled": true
   },
   "outputs": [
    {
     "data": {
      "text/plain": [
       "2010-01-02    1\n",
       "2010-01-04    1\n",
       "2010-01-05    1\n",
       "2010-01-06    1\n",
       "2010-01-08    1\n",
       "             ..\n",
       "2015-06-23    1\n",
       "2015-06-25    1\n",
       "2015-06-26    1\n",
       "2015-06-28    1\n",
       "2015-06-29    1\n",
       "Name: date_first_booking, Length: 1976, dtype: int64"
      ]
     },
     "execution_count": 582,
     "metadata": {},
     "output_type": "execute_result"
    }
   ],
   "source": [
    "df_train.date_first_booking.value_counts().sort_index()"
   ]
  },
  {
   "cell_type": "code",
   "execution_count": 583,
   "id": "surgical-sculpture",
   "metadata": {},
   "outputs": [
    {
     "data": {
      "text/plain": [
       "id                              0\n",
       "date_account_created            0\n",
       "timestamp_first_active          0\n",
       "date_first_booking         124543\n",
       "gender                          0\n",
       "age                         87990\n",
       "signup_method                   0\n",
       "signup_flow                     0\n",
       "language                        0\n",
       "affiliate_channel               0\n",
       "affiliate_provider              0\n",
       "first_affiliate_tracked      6065\n",
       "signup_app                      0\n",
       "first_device_type               0\n",
       "first_browser                   0\n",
       "country_destination             0\n",
       "dtype: int64"
      ]
     },
     "execution_count": 583,
     "metadata": {},
     "output_type": "execute_result"
    }
   ],
   "source": [
    "df_train.isnull().sum()"
   ]
  },
  {
   "cell_type": "code",
   "execution_count": 584,
   "id": "superb-citizenship",
   "metadata": {},
   "outputs": [
    {
     "data": {
      "text/html": [
       "<div>\n",
       "<style scoped>\n",
       "    .dataframe tbody tr th:only-of-type {\n",
       "        vertical-align: middle;\n",
       "    }\n",
       "\n",
       "    .dataframe tbody tr th {\n",
       "        vertical-align: top;\n",
       "    }\n",
       "\n",
       "    .dataframe thead th {\n",
       "        text-align: right;\n",
       "    }\n",
       "</style>\n",
       "<table border=\"1\" class=\"dataframe\">\n",
       "  <thead>\n",
       "    <tr style=\"text-align: right;\">\n",
       "      <th></th>\n",
       "      <th>id</th>\n",
       "      <th>date_account_created</th>\n",
       "      <th>timestamp_first_active</th>\n",
       "      <th>date_first_booking</th>\n",
       "      <th>gender</th>\n",
       "      <th>age</th>\n",
       "      <th>signup_method</th>\n",
       "      <th>signup_flow</th>\n",
       "      <th>language</th>\n",
       "      <th>affiliate_channel</th>\n",
       "      <th>affiliate_provider</th>\n",
       "      <th>first_affiliate_tracked</th>\n",
       "      <th>signup_app</th>\n",
       "      <th>first_device_type</th>\n",
       "      <th>first_browser</th>\n",
       "    </tr>\n",
       "  </thead>\n",
       "  <tbody>\n",
       "    <tr>\n",
       "      <th>32205</th>\n",
       "      <td>8xvuo9n45a</td>\n",
       "      <td>2014-08-15</td>\n",
       "      <td>20140815210625</td>\n",
       "      <td>NaN</td>\n",
       "      <td>-unknown-</td>\n",
       "      <td>31.0</td>\n",
       "      <td>basic</td>\n",
       "      <td>0</td>\n",
       "      <td>en</td>\n",
       "      <td>direct</td>\n",
       "      <td>direct</td>\n",
       "      <td>linked</td>\n",
       "      <td>Web</td>\n",
       "      <td>Windows Desktop</td>\n",
       "      <td>Chrome</td>\n",
       "    </tr>\n",
       "    <tr>\n",
       "      <th>28476</th>\n",
       "      <td>3e1ts0y7p5</td>\n",
       "      <td>2014-08-10</td>\n",
       "      <td>20140810193549</td>\n",
       "      <td>NaN</td>\n",
       "      <td>MALE</td>\n",
       "      <td>44.0</td>\n",
       "      <td>facebook</td>\n",
       "      <td>25</td>\n",
       "      <td>en</td>\n",
       "      <td>direct</td>\n",
       "      <td>direct</td>\n",
       "      <td>untracked</td>\n",
       "      <td>iOS</td>\n",
       "      <td>iPhone</td>\n",
       "      <td>Mobile Safari</td>\n",
       "    </tr>\n",
       "    <tr>\n",
       "      <th>7843</th>\n",
       "      <td>y7qlrz3bxc</td>\n",
       "      <td>2014-07-15</td>\n",
       "      <td>20140715025531</td>\n",
       "      <td>NaN</td>\n",
       "      <td>-unknown-</td>\n",
       "      <td>NaN</td>\n",
       "      <td>basic</td>\n",
       "      <td>25</td>\n",
       "      <td>en</td>\n",
       "      <td>direct</td>\n",
       "      <td>direct</td>\n",
       "      <td>linked</td>\n",
       "      <td>iOS</td>\n",
       "      <td>Mac Desktop</td>\n",
       "      <td>Chrome</td>\n",
       "    </tr>\n",
       "    <tr>\n",
       "      <th>27069</th>\n",
       "      <td>r4mg432z4z</td>\n",
       "      <td>2014-08-08</td>\n",
       "      <td>20140808170433</td>\n",
       "      <td>NaN</td>\n",
       "      <td>MALE</td>\n",
       "      <td>56.0</td>\n",
       "      <td>basic</td>\n",
       "      <td>0</td>\n",
       "      <td>en</td>\n",
       "      <td>sem-brand</td>\n",
       "      <td>google</td>\n",
       "      <td>omg</td>\n",
       "      <td>Web</td>\n",
       "      <td>Windows Desktop</td>\n",
       "      <td>Chrome</td>\n",
       "    </tr>\n",
       "    <tr>\n",
       "      <th>15515</th>\n",
       "      <td>f9kia97wjs</td>\n",
       "      <td>2014-07-23</td>\n",
       "      <td>20140723235749</td>\n",
       "      <td>NaN</td>\n",
       "      <td>FEMALE</td>\n",
       "      <td>30.0</td>\n",
       "      <td>facebook</td>\n",
       "      <td>0</td>\n",
       "      <td>en</td>\n",
       "      <td>direct</td>\n",
       "      <td>direct</td>\n",
       "      <td>linked</td>\n",
       "      <td>Moweb</td>\n",
       "      <td>iPhone</td>\n",
       "      <td>Mobile Safari</td>\n",
       "    </tr>\n",
       "    <tr>\n",
       "      <th>50706</th>\n",
       "      <td>vcllhjg2re</td>\n",
       "      <td>2014-09-12</td>\n",
       "      <td>20140912094802</td>\n",
       "      <td>NaN</td>\n",
       "      <td>MALE</td>\n",
       "      <td>18.0</td>\n",
       "      <td>basic</td>\n",
       "      <td>0</td>\n",
       "      <td>en</td>\n",
       "      <td>direct</td>\n",
       "      <td>direct</td>\n",
       "      <td>untracked</td>\n",
       "      <td>Moweb</td>\n",
       "      <td>iPhone</td>\n",
       "      <td>Mobile Safari</td>\n",
       "    </tr>\n",
       "  </tbody>\n",
       "</table>\n",
       "</div>"
      ],
      "text/plain": [
       "               id date_account_created  timestamp_first_active  \\\n",
       "32205  8xvuo9n45a           2014-08-15          20140815210625   \n",
       "28476  3e1ts0y7p5           2014-08-10          20140810193549   \n",
       "7843   y7qlrz3bxc           2014-07-15          20140715025531   \n",
       "27069  r4mg432z4z           2014-08-08          20140808170433   \n",
       "15515  f9kia97wjs           2014-07-23          20140723235749   \n",
       "50706  vcllhjg2re           2014-09-12          20140912094802   \n",
       "\n",
       "       date_first_booking     gender   age signup_method  signup_flow  \\\n",
       "32205                 NaN  -unknown-  31.0         basic            0   \n",
       "28476                 NaN       MALE  44.0      facebook           25   \n",
       "7843                  NaN  -unknown-   NaN         basic           25   \n",
       "27069                 NaN       MALE  56.0         basic            0   \n",
       "15515                 NaN     FEMALE  30.0      facebook            0   \n",
       "50706                 NaN       MALE  18.0         basic            0   \n",
       "\n",
       "      language affiliate_channel affiliate_provider first_affiliate_tracked  \\\n",
       "32205       en            direct             direct                  linked   \n",
       "28476       en            direct             direct               untracked   \n",
       "7843        en            direct             direct                  linked   \n",
       "27069       en         sem-brand             google                     omg   \n",
       "15515       en            direct             direct                  linked   \n",
       "50706       en            direct             direct               untracked   \n",
       "\n",
       "      signup_app first_device_type  first_browser  \n",
       "32205        Web   Windows Desktop         Chrome  \n",
       "28476        iOS            iPhone  Mobile Safari  \n",
       "7843         iOS       Mac Desktop         Chrome  \n",
       "27069        Web   Windows Desktop         Chrome  \n",
       "15515      Moweb            iPhone  Mobile Safari  \n",
       "50706      Moweb            iPhone  Mobile Safari  "
      ]
     },
     "execution_count": 584,
     "metadata": {},
     "output_type": "execute_result"
    }
   ],
   "source": [
    "df_test = pd.read_csv('test_users.csv')\n",
    "df_test.sample(6)"
   ]
  },
  {
   "cell_type": "code",
   "execution_count": 585,
   "id": "meaning-seating",
   "metadata": {},
   "outputs": [
    {
     "data": {
      "text/plain": [
       "id                             0\n",
       "date_account_created           0\n",
       "timestamp_first_active         0\n",
       "date_first_booking         62096\n",
       "gender                         0\n",
       "age                        28876\n",
       "signup_method                  0\n",
       "signup_flow                    0\n",
       "language                       0\n",
       "affiliate_channel              0\n",
       "affiliate_provider             0\n",
       "first_affiliate_tracked       20\n",
       "signup_app                     0\n",
       "first_device_type              0\n",
       "first_browser                  0\n",
       "dtype: int64"
      ]
     },
     "execution_count": 585,
     "metadata": {},
     "output_type": "execute_result"
    }
   ],
   "source": [
    "df_test.isnull().sum()"
   ]
  },
  {
   "cell_type": "code",
   "execution_count": 586,
   "id": "sapphire-canal",
   "metadata": {},
   "outputs": [
    {
     "data": {
      "text/plain": [
       "(62096, 15)"
      ]
     },
     "execution_count": 586,
     "metadata": {},
     "output_type": "execute_result"
    }
   ],
   "source": [
    "df_test.shape"
   ]
  },
  {
   "cell_type": "code",
   "execution_count": 587,
   "id": "skilled-worthy",
   "metadata": {},
   "outputs": [
    {
     "data": {
      "text/plain": [
       "(275547, 16)"
      ]
     },
     "execution_count": 587,
     "metadata": {},
     "output_type": "execute_result"
    }
   ],
   "source": [
    "#Concate train & test\n",
    "df_final= pd.concat([df_train,df_test],axis=0)\n",
    "df_final.shape"
   ]
  },
  {
   "cell_type": "markdown",
   "id": "alien-conference",
   "metadata": {},
   "source": [
    "## Data Cleaning"
   ]
  },
  {
   "cell_type": "code",
   "execution_count": 588,
   "id": "cognitive-eclipse",
   "metadata": {},
   "outputs": [],
   "source": [
    "df_copy = df_final.copy()"
   ]
  },
  {
   "cell_type": "code",
   "execution_count": 589,
   "id": "prescribed-butter",
   "metadata": {},
   "outputs": [
    {
     "name": "stdout",
     "output_type": "stream",
     "text": [
      "<class 'pandas.core.frame.DataFrame'>\n",
      "Int64Index: 275547 entries, 0 to 62095\n",
      "Data columns (total 16 columns):\n",
      " #   Column                   Non-Null Count   Dtype  \n",
      "---  ------                   --------------   -----  \n",
      " 0   id                       275547 non-null  object \n",
      " 1   date_account_created     275547 non-null  object \n",
      " 2   timestamp_first_active   275547 non-null  int64  \n",
      " 3   date_first_booking       88908 non-null   object \n",
      " 4   gender                   275547 non-null  object \n",
      " 5   age                      158681 non-null  float64\n",
      " 6   signup_method            275547 non-null  object \n",
      " 7   signup_flow              275547 non-null  int64  \n",
      " 8   language                 275547 non-null  object \n",
      " 9   affiliate_channel        275547 non-null  object \n",
      " 10  affiliate_provider       275547 non-null  object \n",
      " 11  first_affiliate_tracked  269462 non-null  object \n",
      " 12  signup_app               275547 non-null  object \n",
      " 13  first_device_type        275547 non-null  object \n",
      " 14  first_browser            275547 non-null  object \n",
      " 15  country_destination      213451 non-null  object \n",
      "dtypes: float64(1), int64(2), object(13)\n",
      "memory usage: 35.7+ MB\n"
     ]
    }
   ],
   "source": [
    "#For train data we will fill the age nan and outliers \"<110 & >16\" with the mean \n",
    "df_copy.info()"
   ]
  },
  {
   "cell_type": "code",
   "execution_count": 590,
   "id": "rising-buying",
   "metadata": {},
   "outputs": [],
   "source": [
    "df_copy[(df_copy.age<110)&(df_copy.age>16)].age.mean() #mean of normal age is 37\n",
    "Value=37.0"
   ]
  },
  {
   "cell_type": "code",
   "execution_count": 591,
   "id": "cubic-documentary",
   "metadata": {},
   "outputs": [],
   "source": [
    "df_copy.loc[df_copy.age>110,'age']=37.0\n",
    "df_copy.loc[df_copy.age<16,'age']=37.0"
   ]
  },
  {
   "cell_type": "code",
   "execution_count": 592,
   "id": "twenty-annex",
   "metadata": {},
   "outputs": [],
   "source": [
    "#df_copy['age'] = df_copy['age'].apply(lambda x: '37' if x == 'NaN' else x)"
   ]
  },
  {
   "cell_type": "code",
   "execution_count": 593,
   "id": "noble-livestock",
   "metadata": {},
   "outputs": [
    {
     "data": {
      "text/html": [
       "<div>\n",
       "<style scoped>\n",
       "    .dataframe tbody tr th:only-of-type {\n",
       "        vertical-align: middle;\n",
       "    }\n",
       "\n",
       "    .dataframe tbody tr th {\n",
       "        vertical-align: top;\n",
       "    }\n",
       "\n",
       "    .dataframe thead th {\n",
       "        text-align: right;\n",
       "    }\n",
       "</style>\n",
       "<table border=\"1\" class=\"dataframe\">\n",
       "  <thead>\n",
       "    <tr style=\"text-align: right;\">\n",
       "      <th></th>\n",
       "      <th>id</th>\n",
       "      <th>date_account_created</th>\n",
       "      <th>timestamp_first_active</th>\n",
       "      <th>date_first_booking</th>\n",
       "      <th>gender</th>\n",
       "      <th>age</th>\n",
       "      <th>signup_method</th>\n",
       "      <th>signup_flow</th>\n",
       "      <th>language</th>\n",
       "      <th>affiliate_channel</th>\n",
       "      <th>affiliate_provider</th>\n",
       "      <th>first_affiliate_tracked</th>\n",
       "      <th>signup_app</th>\n",
       "      <th>first_device_type</th>\n",
       "      <th>first_browser</th>\n",
       "      <th>country_destination</th>\n",
       "    </tr>\n",
       "  </thead>\n",
       "  <tbody>\n",
       "    <tr>\n",
       "      <th>151013</th>\n",
       "      <td>0s7aihiz1m</td>\n",
       "      <td>2014-02-09</td>\n",
       "      <td>20140209185527</td>\n",
       "      <td>2014-02-09</td>\n",
       "      <td>MALE</td>\n",
       "      <td>61.0</td>\n",
       "      <td>basic</td>\n",
       "      <td>0</td>\n",
       "      <td>en</td>\n",
       "      <td>sem-brand</td>\n",
       "      <td>google</td>\n",
       "      <td>omg</td>\n",
       "      <td>Web</td>\n",
       "      <td>Windows Desktop</td>\n",
       "      <td>Chrome</td>\n",
       "      <td>US</td>\n",
       "    </tr>\n",
       "    <tr>\n",
       "      <th>37352</th>\n",
       "      <td>wvsqgwseln</td>\n",
       "      <td>2012-08-21</td>\n",
       "      <td>20120821000631</td>\n",
       "      <td>NaN</td>\n",
       "      <td>MALE</td>\n",
       "      <td>37.0</td>\n",
       "      <td>basic</td>\n",
       "      <td>0</td>\n",
       "      <td>en</td>\n",
       "      <td>direct</td>\n",
       "      <td>direct</td>\n",
       "      <td>linked</td>\n",
       "      <td>Web</td>\n",
       "      <td>Mac Desktop</td>\n",
       "      <td>Chrome</td>\n",
       "      <td>NDF</td>\n",
       "    </tr>\n",
       "    <tr>\n",
       "      <th>86394</th>\n",
       "      <td>ycrvcdang2</td>\n",
       "      <td>2013-06-25</td>\n",
       "      <td>20130625161615</td>\n",
       "      <td>NaN</td>\n",
       "      <td>-unknown-</td>\n",
       "      <td>37.0</td>\n",
       "      <td>basic</td>\n",
       "      <td>0</td>\n",
       "      <td>en</td>\n",
       "      <td>direct</td>\n",
       "      <td>direct</td>\n",
       "      <td>untracked</td>\n",
       "      <td>Web</td>\n",
       "      <td>Windows Desktop</td>\n",
       "      <td>IE</td>\n",
       "      <td>NDF</td>\n",
       "    </tr>\n",
       "    <tr>\n",
       "      <th>172844</th>\n",
       "      <td>eparygdk4u</td>\n",
       "      <td>2014-04-07</td>\n",
       "      <td>20140407200930</td>\n",
       "      <td>2015-03-21</td>\n",
       "      <td>FEMALE</td>\n",
       "      <td>46.0</td>\n",
       "      <td>facebook</td>\n",
       "      <td>0</td>\n",
       "      <td>en</td>\n",
       "      <td>sem-non-brand</td>\n",
       "      <td>google</td>\n",
       "      <td>omg</td>\n",
       "      <td>Web</td>\n",
       "      <td>Mac Desktop</td>\n",
       "      <td>Chrome</td>\n",
       "      <td>US</td>\n",
       "    </tr>\n",
       "    <tr>\n",
       "      <th>112428</th>\n",
       "      <td>mvpdlptvsp</td>\n",
       "      <td>2013-09-29</td>\n",
       "      <td>20130929105133</td>\n",
       "      <td>NaN</td>\n",
       "      <td>FEMALE</td>\n",
       "      <td>26.0</td>\n",
       "      <td>basic</td>\n",
       "      <td>0</td>\n",
       "      <td>en</td>\n",
       "      <td>direct</td>\n",
       "      <td>direct</td>\n",
       "      <td>untracked</td>\n",
       "      <td>Web</td>\n",
       "      <td>Mac Desktop</td>\n",
       "      <td>Safari</td>\n",
       "      <td>NDF</td>\n",
       "    </tr>\n",
       "    <tr>\n",
       "      <th>59081</th>\n",
       "      <td>jgrrusa4ks</td>\n",
       "      <td>2013-02-05</td>\n",
       "      <td>20130205161812</td>\n",
       "      <td>2013-03-06</td>\n",
       "      <td>MALE</td>\n",
       "      <td>54.0</td>\n",
       "      <td>facebook</td>\n",
       "      <td>0</td>\n",
       "      <td>en</td>\n",
       "      <td>sem-brand</td>\n",
       "      <td>google</td>\n",
       "      <td>linked</td>\n",
       "      <td>Web</td>\n",
       "      <td>Mac Desktop</td>\n",
       "      <td>Safari</td>\n",
       "      <td>US</td>\n",
       "    </tr>\n",
       "    <tr>\n",
       "      <th>162127</th>\n",
       "      <td>qes0xymocc</td>\n",
       "      <td>2014-03-11</td>\n",
       "      <td>20140311231240</td>\n",
       "      <td>2014-06-07</td>\n",
       "      <td>FEMALE</td>\n",
       "      <td>27.0</td>\n",
       "      <td>basic</td>\n",
       "      <td>0</td>\n",
       "      <td>en</td>\n",
       "      <td>direct</td>\n",
       "      <td>direct</td>\n",
       "      <td>untracked</td>\n",
       "      <td>Web</td>\n",
       "      <td>Mac Desktop</td>\n",
       "      <td>Safari</td>\n",
       "      <td>US</td>\n",
       "    </tr>\n",
       "    <tr>\n",
       "      <th>47555</th>\n",
       "      <td>odm465b4e7</td>\n",
       "      <td>2014-09-07</td>\n",
       "      <td>20140907193543</td>\n",
       "      <td>NaN</td>\n",
       "      <td>FEMALE</td>\n",
       "      <td>40.0</td>\n",
       "      <td>basic</td>\n",
       "      <td>0</td>\n",
       "      <td>en</td>\n",
       "      <td>sem-brand</td>\n",
       "      <td>google</td>\n",
       "      <td>omg</td>\n",
       "      <td>Web</td>\n",
       "      <td>Mac Desktop</td>\n",
       "      <td>Safari</td>\n",
       "      <td>NaN</td>\n",
       "    </tr>\n",
       "    <tr>\n",
       "      <th>73439</th>\n",
       "      <td>qicnv3nt5u</td>\n",
       "      <td>2013-04-27</td>\n",
       "      <td>20130427175702</td>\n",
       "      <td>NaN</td>\n",
       "      <td>-unknown-</td>\n",
       "      <td>37.0</td>\n",
       "      <td>basic</td>\n",
       "      <td>0</td>\n",
       "      <td>en</td>\n",
       "      <td>direct</td>\n",
       "      <td>direct</td>\n",
       "      <td>untracked</td>\n",
       "      <td>Web</td>\n",
       "      <td>Mac Desktop</td>\n",
       "      <td>Safari</td>\n",
       "      <td>NDF</td>\n",
       "    </tr>\n",
       "    <tr>\n",
       "      <th>106457</th>\n",
       "      <td>rc09f8it20</td>\n",
       "      <td>2013-09-10</td>\n",
       "      <td>20130910151958</td>\n",
       "      <td>NaN</td>\n",
       "      <td>-unknown-</td>\n",
       "      <td>37.0</td>\n",
       "      <td>basic</td>\n",
       "      <td>24</td>\n",
       "      <td>en</td>\n",
       "      <td>direct</td>\n",
       "      <td>direct</td>\n",
       "      <td>untracked</td>\n",
       "      <td>Moweb</td>\n",
       "      <td>iPhone</td>\n",
       "      <td>Mobile Safari</td>\n",
       "      <td>NDF</td>\n",
       "    </tr>\n",
       "    <tr>\n",
       "      <th>144664</th>\n",
       "      <td>6j2h5szjdt</td>\n",
       "      <td>2014-01-22</td>\n",
       "      <td>20140122054325</td>\n",
       "      <td>NaN</td>\n",
       "      <td>-unknown-</td>\n",
       "      <td>37.0</td>\n",
       "      <td>basic</td>\n",
       "      <td>0</td>\n",
       "      <td>en</td>\n",
       "      <td>direct</td>\n",
       "      <td>direct</td>\n",
       "      <td>untracked</td>\n",
       "      <td>Web</td>\n",
       "      <td>Mac Desktop</td>\n",
       "      <td>Safari</td>\n",
       "      <td>NDF</td>\n",
       "    </tr>\n",
       "    <tr>\n",
       "      <th>4659</th>\n",
       "      <td>nqqt93h6lf</td>\n",
       "      <td>2011-05-05</td>\n",
       "      <td>20110505153503</td>\n",
       "      <td>2011-07-29</td>\n",
       "      <td>-unknown-</td>\n",
       "      <td>37.0</td>\n",
       "      <td>basic</td>\n",
       "      <td>0</td>\n",
       "      <td>en</td>\n",
       "      <td>other</td>\n",
       "      <td>other</td>\n",
       "      <td>NaN</td>\n",
       "      <td>Web</td>\n",
       "      <td>Other/Unknown</td>\n",
       "      <td>-unknown-</td>\n",
       "      <td>DE</td>\n",
       "    </tr>\n",
       "    <tr>\n",
       "      <th>84664</th>\n",
       "      <td>pp9pjzhqnl</td>\n",
       "      <td>2013-06-18</td>\n",
       "      <td>20130618021929</td>\n",
       "      <td>2013-06-24</td>\n",
       "      <td>MALE</td>\n",
       "      <td>29.0</td>\n",
       "      <td>facebook</td>\n",
       "      <td>12</td>\n",
       "      <td>en</td>\n",
       "      <td>api</td>\n",
       "      <td>other</td>\n",
       "      <td>untracked</td>\n",
       "      <td>iOS</td>\n",
       "      <td>iPhone</td>\n",
       "      <td>-unknown-</td>\n",
       "      <td>US</td>\n",
       "    </tr>\n",
       "    <tr>\n",
       "      <th>46928</th>\n",
       "      <td>zufxikv1q7</td>\n",
       "      <td>2014-09-06</td>\n",
       "      <td>20140906161451</td>\n",
       "      <td>NaN</td>\n",
       "      <td>-unknown-</td>\n",
       "      <td>37.0</td>\n",
       "      <td>basic</td>\n",
       "      <td>0</td>\n",
       "      <td>en</td>\n",
       "      <td>sem-brand</td>\n",
       "      <td>google</td>\n",
       "      <td>omg</td>\n",
       "      <td>Web</td>\n",
       "      <td>Mac Desktop</td>\n",
       "      <td>Safari</td>\n",
       "      <td>NaN</td>\n",
       "    </tr>\n",
       "    <tr>\n",
       "      <th>102168</th>\n",
       "      <td>ykfkwelvz7</td>\n",
       "      <td>2013-08-25</td>\n",
       "      <td>20130825053620</td>\n",
       "      <td>2013-08-26</td>\n",
       "      <td>FEMALE</td>\n",
       "      <td>57.0</td>\n",
       "      <td>basic</td>\n",
       "      <td>0</td>\n",
       "      <td>en</td>\n",
       "      <td>sem-non-brand</td>\n",
       "      <td>google</td>\n",
       "      <td>omg</td>\n",
       "      <td>Web</td>\n",
       "      <td>Mac Desktop</td>\n",
       "      <td>Safari</td>\n",
       "      <td>US</td>\n",
       "    </tr>\n",
       "    <tr>\n",
       "      <th>77418</th>\n",
       "      <td>bisk9innyd</td>\n",
       "      <td>2013-05-16</td>\n",
       "      <td>20130516051316</td>\n",
       "      <td>NaN</td>\n",
       "      <td>FEMALE</td>\n",
       "      <td>34.0</td>\n",
       "      <td>basic</td>\n",
       "      <td>0</td>\n",
       "      <td>en</td>\n",
       "      <td>sem-brand</td>\n",
       "      <td>google</td>\n",
       "      <td>untracked</td>\n",
       "      <td>Web</td>\n",
       "      <td>Mac Desktop</td>\n",
       "      <td>Safari</td>\n",
       "      <td>NDF</td>\n",
       "    </tr>\n",
       "    <tr>\n",
       "      <th>62323</th>\n",
       "      <td>d6buf51gnd</td>\n",
       "      <td>2013-02-26</td>\n",
       "      <td>20130226065250</td>\n",
       "      <td>NaN</td>\n",
       "      <td>MALE</td>\n",
       "      <td>34.0</td>\n",
       "      <td>facebook</td>\n",
       "      <td>0</td>\n",
       "      <td>en</td>\n",
       "      <td>direct</td>\n",
       "      <td>direct</td>\n",
       "      <td>linked</td>\n",
       "      <td>Web</td>\n",
       "      <td>Windows Desktop</td>\n",
       "      <td>IE</td>\n",
       "      <td>NDF</td>\n",
       "    </tr>\n",
       "    <tr>\n",
       "      <th>125286</th>\n",
       "      <td>u8qcntgbpb</td>\n",
       "      <td>2013-11-17</td>\n",
       "      <td>20131117181128</td>\n",
       "      <td>NaN</td>\n",
       "      <td>-unknown-</td>\n",
       "      <td>36.0</td>\n",
       "      <td>basic</td>\n",
       "      <td>0</td>\n",
       "      <td>en</td>\n",
       "      <td>sem-brand</td>\n",
       "      <td>google</td>\n",
       "      <td>omg</td>\n",
       "      <td>Web</td>\n",
       "      <td>Windows Desktop</td>\n",
       "      <td>IE</td>\n",
       "      <td>NDF</td>\n",
       "    </tr>\n",
       "    <tr>\n",
       "      <th>144700</th>\n",
       "      <td>v1menxbz4d</td>\n",
       "      <td>2014-01-22</td>\n",
       "      <td>20140122070111</td>\n",
       "      <td>2014-08-06</td>\n",
       "      <td>-unknown-</td>\n",
       "      <td>69.0</td>\n",
       "      <td>basic</td>\n",
       "      <td>12</td>\n",
       "      <td>en</td>\n",
       "      <td>api</td>\n",
       "      <td>other</td>\n",
       "      <td>untracked</td>\n",
       "      <td>Android</td>\n",
       "      <td>Other/Unknown</td>\n",
       "      <td>-unknown-</td>\n",
       "      <td>US</td>\n",
       "    </tr>\n",
       "    <tr>\n",
       "      <th>156681</th>\n",
       "      <td>ewb4obeoe1</td>\n",
       "      <td>2014-02-25</td>\n",
       "      <td>20140225062917</td>\n",
       "      <td>NaN</td>\n",
       "      <td>-unknown-</td>\n",
       "      <td>37.0</td>\n",
       "      <td>basic</td>\n",
       "      <td>0</td>\n",
       "      <td>en</td>\n",
       "      <td>sem-brand</td>\n",
       "      <td>google</td>\n",
       "      <td>linked</td>\n",
       "      <td>Web</td>\n",
       "      <td>Mac Desktop</td>\n",
       "      <td>Safari</td>\n",
       "      <td>NDF</td>\n",
       "    </tr>\n",
       "  </tbody>\n",
       "</table>\n",
       "</div>"
      ],
      "text/plain": [
       "                id date_account_created  timestamp_first_active  \\\n",
       "151013  0s7aihiz1m           2014-02-09          20140209185527   \n",
       "37352   wvsqgwseln           2012-08-21          20120821000631   \n",
       "86394   ycrvcdang2           2013-06-25          20130625161615   \n",
       "172844  eparygdk4u           2014-04-07          20140407200930   \n",
       "112428  mvpdlptvsp           2013-09-29          20130929105133   \n",
       "59081   jgrrusa4ks           2013-02-05          20130205161812   \n",
       "162127  qes0xymocc           2014-03-11          20140311231240   \n",
       "47555   odm465b4e7           2014-09-07          20140907193543   \n",
       "73439   qicnv3nt5u           2013-04-27          20130427175702   \n",
       "106457  rc09f8it20           2013-09-10          20130910151958   \n",
       "144664  6j2h5szjdt           2014-01-22          20140122054325   \n",
       "4659    nqqt93h6lf           2011-05-05          20110505153503   \n",
       "84664   pp9pjzhqnl           2013-06-18          20130618021929   \n",
       "46928   zufxikv1q7           2014-09-06          20140906161451   \n",
       "102168  ykfkwelvz7           2013-08-25          20130825053620   \n",
       "77418   bisk9innyd           2013-05-16          20130516051316   \n",
       "62323   d6buf51gnd           2013-02-26          20130226065250   \n",
       "125286  u8qcntgbpb           2013-11-17          20131117181128   \n",
       "144700  v1menxbz4d           2014-01-22          20140122070111   \n",
       "156681  ewb4obeoe1           2014-02-25          20140225062917   \n",
       "\n",
       "       date_first_booking     gender   age signup_method  signup_flow  \\\n",
       "151013         2014-02-09       MALE  61.0         basic            0   \n",
       "37352                 NaN       MALE  37.0         basic            0   \n",
       "86394                 NaN  -unknown-  37.0         basic            0   \n",
       "172844         2015-03-21     FEMALE  46.0      facebook            0   \n",
       "112428                NaN     FEMALE  26.0         basic            0   \n",
       "59081          2013-03-06       MALE  54.0      facebook            0   \n",
       "162127         2014-06-07     FEMALE  27.0         basic            0   \n",
       "47555                 NaN     FEMALE  40.0         basic            0   \n",
       "73439                 NaN  -unknown-  37.0         basic            0   \n",
       "106457                NaN  -unknown-  37.0         basic           24   \n",
       "144664                NaN  -unknown-  37.0         basic            0   \n",
       "4659           2011-07-29  -unknown-  37.0         basic            0   \n",
       "84664          2013-06-24       MALE  29.0      facebook           12   \n",
       "46928                 NaN  -unknown-  37.0         basic            0   \n",
       "102168         2013-08-26     FEMALE  57.0         basic            0   \n",
       "77418                 NaN     FEMALE  34.0         basic            0   \n",
       "62323                 NaN       MALE  34.0      facebook            0   \n",
       "125286                NaN  -unknown-  36.0         basic            0   \n",
       "144700         2014-08-06  -unknown-  69.0         basic           12   \n",
       "156681                NaN  -unknown-  37.0         basic            0   \n",
       "\n",
       "       language affiliate_channel affiliate_provider first_affiliate_tracked  \\\n",
       "151013       en         sem-brand             google                     omg   \n",
       "37352        en            direct             direct                  linked   \n",
       "86394        en            direct             direct               untracked   \n",
       "172844       en     sem-non-brand             google                     omg   \n",
       "112428       en            direct             direct               untracked   \n",
       "59081        en         sem-brand             google                  linked   \n",
       "162127       en            direct             direct               untracked   \n",
       "47555        en         sem-brand             google                     omg   \n",
       "73439        en            direct             direct               untracked   \n",
       "106457       en            direct             direct               untracked   \n",
       "144664       en            direct             direct               untracked   \n",
       "4659         en             other              other                     NaN   \n",
       "84664        en               api              other               untracked   \n",
       "46928        en         sem-brand             google                     omg   \n",
       "102168       en     sem-non-brand             google                     omg   \n",
       "77418        en         sem-brand             google               untracked   \n",
       "62323        en            direct             direct                  linked   \n",
       "125286       en         sem-brand             google                     omg   \n",
       "144700       en               api              other               untracked   \n",
       "156681       en         sem-brand             google                  linked   \n",
       "\n",
       "       signup_app first_device_type  first_browser country_destination  \n",
       "151013        Web   Windows Desktop         Chrome                  US  \n",
       "37352         Web       Mac Desktop         Chrome                 NDF  \n",
       "86394         Web   Windows Desktop             IE                 NDF  \n",
       "172844        Web       Mac Desktop         Chrome                  US  \n",
       "112428        Web       Mac Desktop         Safari                 NDF  \n",
       "59081         Web       Mac Desktop         Safari                  US  \n",
       "162127        Web       Mac Desktop         Safari                  US  \n",
       "47555         Web       Mac Desktop         Safari                 NaN  \n",
       "73439         Web       Mac Desktop         Safari                 NDF  \n",
       "106457      Moweb            iPhone  Mobile Safari                 NDF  \n",
       "144664        Web       Mac Desktop         Safari                 NDF  \n",
       "4659          Web     Other/Unknown      -unknown-                  DE  \n",
       "84664         iOS            iPhone      -unknown-                  US  \n",
       "46928         Web       Mac Desktop         Safari                 NaN  \n",
       "102168        Web       Mac Desktop         Safari                  US  \n",
       "77418         Web       Mac Desktop         Safari                 NDF  \n",
       "62323         Web   Windows Desktop             IE                 NDF  \n",
       "125286        Web   Windows Desktop             IE                 NDF  \n",
       "144700    Android     Other/Unknown      -unknown-                  US  \n",
       "156681        Web       Mac Desktop         Safari                 NDF  "
      ]
     },
     "execution_count": 593,
     "metadata": {},
     "output_type": "execute_result"
    }
   ],
   "source": [
    "df_copy.age.fillna(value = Value,inplace=True)\n",
    "df_copy.sample(20)"
   ]
  },
  {
   "cell_type": "code",
   "execution_count": 594,
   "id": "romantic-executive",
   "metadata": {
    "scrolled": true
   },
   "outputs": [
    {
     "data": {
      "text/plain": [
       "id                              0\n",
       "date_account_created            0\n",
       "timestamp_first_active          0\n",
       "date_first_booking         186639\n",
       "gender                          0\n",
       "age                             0\n",
       "signup_method                   0\n",
       "signup_flow                     0\n",
       "language                        0\n",
       "affiliate_channel               0\n",
       "affiliate_provider              0\n",
       "first_affiliate_tracked      6085\n",
       "signup_app                      0\n",
       "first_device_type               0\n",
       "first_browser                   0\n",
       "country_destination         62096\n",
       "dtype: int64"
      ]
     },
     "execution_count": 594,
     "metadata": {},
     "output_type": "execute_result"
    }
   ],
   "source": [
    "df_copy.isna().sum()"
   ]
  },
  {
   "cell_type": "code",
   "execution_count": 595,
   "id": "athletic-given",
   "metadata": {},
   "outputs": [
    {
     "data": {
      "text/plain": [
       "62096"
      ]
     },
     "execution_count": 595,
     "metadata": {},
     "output_type": "execute_result"
    }
   ],
   "source": [
    "df_copy[df_copy['country_destination']!='NDF']['date_first_booking'].isna().sum()"
   ]
  },
  {
   "cell_type": "code",
   "execution_count": 596,
   "id": "acknowledged-boxing",
   "metadata": {},
   "outputs": [],
   "source": [
    "#there's no missing value for first booking date column when there is booking done"
   ]
  },
  {
   "cell_type": "code",
   "execution_count": 597,
   "id": "strong-marks",
   "metadata": {},
   "outputs": [
    {
     "data": {
      "text/plain": [
       "count        269462\n",
       "unique            7\n",
       "top       untracked\n",
       "freq         143181\n",
       "Name: first_affiliate_tracked, dtype: object"
      ]
     },
     "execution_count": 597,
     "metadata": {},
     "output_type": "execute_result"
    }
   ],
   "source": [
    "df_copy.first_affiliate_tracked.describe() #untracked is the most frequent, we could fill with mode "
   ]
  },
  {
   "cell_type": "code",
   "execution_count": 598,
   "id": "contemporary-jefferson",
   "metadata": {
    "scrolled": true
   },
   "outputs": [
    {
     "data": {
      "text/plain": [
       "<AxesSubplot:>"
      ]
     },
     "execution_count": 598,
     "metadata": {},
     "output_type": "execute_result"
    },
    {
     "data": {
      "image/png": "[encoded data removed]",
      "text/plain": [
       "<Figure size 432x288 with 1 Axes>"
      ]
     },
     "metadata": {
      "needs_background": "light"
     },
     "output_type": "display_data"
    }
   ],
   "source": [
    "df_copy.first_affiliate_tracked.hist()"
   ]
  },
  {
   "cell_type": "code",
   "execution_count": 599,
   "id": "greenhouse-adrian",
   "metadata": {},
   "outputs": [],
   "source": [
    "df_copy['first_affiliate_tracked'] = df_copy['first_affiliate_tracked'].fillna(df_copy['first_affiliate_tracked'].mode().values[0])"
   ]
  },
  {
   "cell_type": "code",
   "execution_count": 600,
   "id": "latest-repeat",
   "metadata": {},
   "outputs": [
    {
     "data": {
      "text/plain": [
       "untracked        149266\n",
       "linked            62064\n",
       "omg               54859\n",
       "tracked-other      6655\n",
       "product            2353\n",
       "marketing           281\n",
       "local ops            69\n",
       "Name: first_affiliate_tracked, dtype: int64"
      ]
     },
     "execution_count": 600,
     "metadata": {},
     "output_type": "execute_result"
    }
   ],
   "source": [
    "df_copy.first_affiliate_tracked.value_counts()"
   ]
  },
  {
   "cell_type": "code",
   "execution_count": 601,
   "id": "demographic-twins",
   "metadata": {},
   "outputs": [
    {
     "name": "stdout",
     "output_type": "stream",
     "text": [
      "<class 'pandas.core.frame.DataFrame'>\n",
      "Int64Index: 275547 entries, 0 to 62095\n",
      "Data columns (total 16 columns):\n",
      " #   Column                   Non-Null Count   Dtype  \n",
      "---  ------                   --------------   -----  \n",
      " 0   id                       275547 non-null  object \n",
      " 1   date_account_created     275547 non-null  object \n",
      " 2   timestamp_first_active   275547 non-null  int64  \n",
      " 3   date_first_booking       88908 non-null   object \n",
      " 4   gender                   275547 non-null  object \n",
      " 5   age                      275547 non-null  float64\n",
      " 6   signup_method            275547 non-null  object \n",
      " 7   signup_flow              275547 non-null  int64  \n",
      " 8   language                 275547 non-null  object \n",
      " 9   affiliate_channel        275547 non-null  object \n",
      " 10  affiliate_provider       275547 non-null  object \n",
      " 11  first_affiliate_tracked  275547 non-null  object \n",
      " 12  signup_app               275547 non-null  object \n",
      " 13  first_device_type        275547 non-null  object \n",
      " 14  first_browser            275547 non-null  object \n",
      " 15  country_destination      213451 non-null  object \n",
      "dtypes: float64(1), int64(2), object(13)\n",
      "memory usage: 35.7+ MB\n"
     ]
    }
   ],
   "source": [
    "df_copy.info()"
   ]
  },
  {
   "cell_type": "code",
   "execution_count": 602,
   "id": "funny-friday",
   "metadata": {},
   "outputs": [
    {
     "name": "stdout",
     "output_type": "stream",
     "text": [
      "<class 'pandas.core.frame.DataFrame'>\n",
      "Int64Index: 275547 entries, 0 to 62095\n",
      "Data columns (total 16 columns):\n",
      " #   Column                   Non-Null Count   Dtype         \n",
      "---  ------                   --------------   -----         \n",
      " 0   id                       275547 non-null  object        \n",
      " 1   date_account_created     275547 non-null  datetime64[ns]\n",
      " 2   timestamp_first_active   275547 non-null  int64         \n",
      " 3   date_first_booking       88908 non-null   object        \n",
      " 4   gender                   275547 non-null  object        \n",
      " 5   age                      275547 non-null  float64       \n",
      " 6   signup_method            275547 non-null  object        \n",
      " 7   signup_flow              275547 non-null  int64         \n",
      " 8   language                 275547 non-null  object        \n",
      " 9   affiliate_channel        275547 non-null  object        \n",
      " 10  affiliate_provider       275547 non-null  object        \n",
      " 11  first_affiliate_tracked  275547 non-null  object        \n",
      " 12  signup_app               275547 non-null  object        \n",
      " 13  first_device_type        275547 non-null  object        \n",
      " 14  first_browser            275547 non-null  object        \n",
      " 15  country_destination      213451 non-null  object        \n",
      "dtypes: datetime64[ns](1), float64(1), int64(2), object(12)\n",
      "memory usage: 35.7+ MB\n"
     ]
    }
   ],
   "source": [
    "#Changing the format of date_account_created to datetime\n",
    "df_copy.date_account_created=pd.to_datetime(df_copy.date_account_created)\n",
    "df_copy.info()"
   ]
  },
  {
   "cell_type": "code",
   "execution_count": 603,
   "id": "brave-envelope",
   "metadata": {},
   "outputs": [],
   "source": [
    "df_copy['AccCreat_year']=df_copy.date_account_created.dt.year\n",
    "df_copy['AccCreat_Month']=df_copy.date_account_created.dt.month\n",
    "df_copy['AccCreat_Day']=df_copy.date_account_created.dt.day"
   ]
  },
  {
   "cell_type": "code",
   "execution_count": 604,
   "id": "excess-latin",
   "metadata": {},
   "outputs": [],
   "source": [
    "df_copy.drop(['date_first_booking'],axis=1,inplace=True)"
   ]
  },
  {
   "cell_type": "code",
   "execution_count": 605,
   "id": "important-implementation",
   "metadata": {
    "scrolled": false
   },
   "outputs": [
    {
     "data": {
      "text/html": [
       "<div>\n",
       "<style scoped>\n",
       "    .dataframe tbody tr th:only-of-type {\n",
       "        vertical-align: middle;\n",
       "    }\n",
       "\n",
       "    .dataframe tbody tr th {\n",
       "        vertical-align: top;\n",
       "    }\n",
       "\n",
       "    .dataframe thead th {\n",
       "        text-align: right;\n",
       "    }\n",
       "</style>\n",
       "<table border=\"1\" class=\"dataframe\">\n",
       "  <thead>\n",
       "    <tr style=\"text-align: right;\">\n",
       "      <th></th>\n",
       "      <th>id</th>\n",
       "      <th>date_account_created</th>\n",
       "      <th>timestamp_first_active</th>\n",
       "      <th>gender</th>\n",
       "      <th>age</th>\n",
       "      <th>signup_method</th>\n",
       "      <th>signup_flow</th>\n",
       "      <th>language</th>\n",
       "      <th>affiliate_channel</th>\n",
       "      <th>affiliate_provider</th>\n",
       "      <th>first_affiliate_tracked</th>\n",
       "      <th>signup_app</th>\n",
       "      <th>first_device_type</th>\n",
       "      <th>first_browser</th>\n",
       "      <th>country_destination</th>\n",
       "      <th>AccCreat_year</th>\n",
       "      <th>AccCreat_Month</th>\n",
       "      <th>AccCreat_Day</th>\n",
       "    </tr>\n",
       "  </thead>\n",
       "  <tbody>\n",
       "    <tr>\n",
       "      <th>59639</th>\n",
       "      <td>45k891yr9c</td>\n",
       "      <td>2013-02-08</td>\n",
       "      <td>20130208190724</td>\n",
       "      <td>MALE</td>\n",
       "      <td>41.0</td>\n",
       "      <td>facebook</td>\n",
       "      <td>0</td>\n",
       "      <td>en</td>\n",
       "      <td>direct</td>\n",
       "      <td>direct</td>\n",
       "      <td>linked</td>\n",
       "      <td>Web</td>\n",
       "      <td>Windows Desktop</td>\n",
       "      <td>Chrome</td>\n",
       "      <td>NDF</td>\n",
       "      <td>2013</td>\n",
       "      <td>2</td>\n",
       "      <td>8</td>\n",
       "    </tr>\n",
       "    <tr>\n",
       "      <th>26135</th>\n",
       "      <td>ltf5glcwog</td>\n",
       "      <td>2012-06-01</td>\n",
       "      <td>20120601063259</td>\n",
       "      <td>FEMALE</td>\n",
       "      <td>26.0</td>\n",
       "      <td>facebook</td>\n",
       "      <td>0</td>\n",
       "      <td>en</td>\n",
       "      <td>sem-non-brand</td>\n",
       "      <td>google</td>\n",
       "      <td>omg</td>\n",
       "      <td>Web</td>\n",
       "      <td>Mac Desktop</td>\n",
       "      <td>Chrome</td>\n",
       "      <td>other</td>\n",
       "      <td>2012</td>\n",
       "      <td>6</td>\n",
       "      <td>1</td>\n",
       "    </tr>\n",
       "    <tr>\n",
       "      <th>36940</th>\n",
       "      <td>vrtpj5xhlk</td>\n",
       "      <td>2012-08-17</td>\n",
       "      <td>20120817205717</td>\n",
       "      <td>FEMALE</td>\n",
       "      <td>54.0</td>\n",
       "      <td>facebook</td>\n",
       "      <td>0</td>\n",
       "      <td>en</td>\n",
       "      <td>sem-non-brand</td>\n",
       "      <td>google</td>\n",
       "      <td>omg</td>\n",
       "      <td>Web</td>\n",
       "      <td>Windows Desktop</td>\n",
       "      <td>Firefox</td>\n",
       "      <td>US</td>\n",
       "      <td>2012</td>\n",
       "      <td>8</td>\n",
       "      <td>17</td>\n",
       "    </tr>\n",
       "    <tr>\n",
       "      <th>148102</th>\n",
       "      <td>0dwtsmbzqq</td>\n",
       "      <td>2014-01-31</td>\n",
       "      <td>20140131224844</td>\n",
       "      <td>FEMALE</td>\n",
       "      <td>25.0</td>\n",
       "      <td>facebook</td>\n",
       "      <td>0</td>\n",
       "      <td>en</td>\n",
       "      <td>seo</td>\n",
       "      <td>google</td>\n",
       "      <td>linked</td>\n",
       "      <td>Web</td>\n",
       "      <td>Windows Desktop</td>\n",
       "      <td>Chrome</td>\n",
       "      <td>NDF</td>\n",
       "      <td>2014</td>\n",
       "      <td>1</td>\n",
       "      <td>31</td>\n",
       "    </tr>\n",
       "    <tr>\n",
       "      <th>136423</th>\n",
       "      <td>36v2e4j0b9</td>\n",
       "      <td>2013-12-30</td>\n",
       "      <td>20131230020958</td>\n",
       "      <td>FEMALE</td>\n",
       "      <td>45.0</td>\n",
       "      <td>facebook</td>\n",
       "      <td>0</td>\n",
       "      <td>en</td>\n",
       "      <td>direct</td>\n",
       "      <td>direct</td>\n",
       "      <td>linked</td>\n",
       "      <td>Web</td>\n",
       "      <td>Windows Desktop</td>\n",
       "      <td>Firefox</td>\n",
       "      <td>NDF</td>\n",
       "      <td>2013</td>\n",
       "      <td>12</td>\n",
       "      <td>30</td>\n",
       "    </tr>\n",
       "    <tr>\n",
       "      <th>56659</th>\n",
       "      <td>yzqari6aqx</td>\n",
       "      <td>2013-01-19</td>\n",
       "      <td>20130119183538</td>\n",
       "      <td>FEMALE</td>\n",
       "      <td>26.0</td>\n",
       "      <td>basic</td>\n",
       "      <td>0</td>\n",
       "      <td>en</td>\n",
       "      <td>direct</td>\n",
       "      <td>direct</td>\n",
       "      <td>linked</td>\n",
       "      <td>Web</td>\n",
       "      <td>Mac Desktop</td>\n",
       "      <td>Safari</td>\n",
       "      <td>US</td>\n",
       "      <td>2013</td>\n",
       "      <td>1</td>\n",
       "      <td>19</td>\n",
       "    </tr>\n",
       "  </tbody>\n",
       "</table>\n",
       "</div>"
      ],
      "text/plain": [
       "                id date_account_created  timestamp_first_active  gender   age  \\\n",
       "59639   45k891yr9c           2013-02-08          20130208190724    MALE  41.0   \n",
       "26135   ltf5glcwog           2012-06-01          20120601063259  FEMALE  26.0   \n",
       "36940   vrtpj5xhlk           2012-08-17          20120817205717  FEMALE  54.0   \n",
       "148102  0dwtsmbzqq           2014-01-31          20140131224844  FEMALE  25.0   \n",
       "136423  36v2e4j0b9           2013-12-30          20131230020958  FEMALE  45.0   \n",
       "56659   yzqari6aqx           2013-01-19          20130119183538  FEMALE  26.0   \n",
       "\n",
       "       signup_method  signup_flow language affiliate_channel  \\\n",
       "59639       facebook            0       en            direct   \n",
       "26135       facebook            0       en     sem-non-brand   \n",
       "36940       facebook            0       en     sem-non-brand   \n",
       "148102      facebook            0       en               seo   \n",
       "136423      facebook            0       en            direct   \n",
       "56659          basic            0       en            direct   \n",
       "\n",
       "       affiliate_provider first_affiliate_tracked signup_app  \\\n",
       "59639              direct                  linked        Web   \n",
       "26135              google                     omg        Web   \n",
       "36940              google                     omg        Web   \n",
       "148102             google                  linked        Web   \n",
       "136423             direct                  linked        Web   \n",
       "56659              direct                  linked        Web   \n",
       "\n",
       "       first_device_type first_browser country_destination  AccCreat_year  \\\n",
       "59639    Windows Desktop        Chrome                 NDF           2013   \n",
       "26135        Mac Desktop        Chrome               other           2012   \n",
       "36940    Windows Desktop       Firefox                  US           2012   \n",
       "148102   Windows Desktop        Chrome                 NDF           2014   \n",
       "136423   Windows Desktop       Firefox                 NDF           2013   \n",
       "56659        Mac Desktop        Safari                  US           2013   \n",
       "\n",
       "        AccCreat_Month  AccCreat_Day  \n",
       "59639                2             8  \n",
       "26135                6             1  \n",
       "36940                8            17  \n",
       "148102               1            31  \n",
       "136423              12            30  \n",
       "56659                1            19  "
      ]
     },
     "execution_count": 605,
     "metadata": {},
     "output_type": "execute_result"
    }
   ],
   "source": [
    "df_copy.sample(6)"
   ]
  },
  {
   "cell_type": "code",
   "execution_count": 606,
   "id": "classified-profile",
   "metadata": {},
   "outputs": [],
   "source": [
    "#df.country_destination"
   ]
  },
  {
   "cell_type": "code",
   "execution_count": null,
   "id": "champion-ethnic",
   "metadata": {},
   "outputs": [],
   "source": []
  },
  {
   "cell_type": "code",
   "execution_count": null,
   "id": "criminal-devon",
   "metadata": {},
   "outputs": [],
   "source": []
  },
  {
   "cell_type": "code",
   "execution_count": null,
   "id": "advanced-treasure",
   "metadata": {},
   "outputs": [],
   "source": []
  },
  {
   "cell_type": "markdown",
   "id": "prompt-sheriff",
   "metadata": {},
   "source": [
    "## Data Exploration"
   ]
  },
  {
   "cell_type": "code",
   "execution_count": 607,
   "id": "assigned-tribe",
   "metadata": {},
   "outputs": [
    {
     "data": {
      "image/png": "[encoded data removed]",
      "text/plain": [
       "<Figure size 576x360 with 1 Axes>"
      ]
     },
     "metadata": {
      "needs_background": "light"
     },
     "output_type": "display_data"
    }
   ],
   "source": [
    "plt.figure(figsize=(8, 5))\n",
    "df_copy.age.hist(color='g')\n",
    "plt.xlim(10, 100)\n",
    "plt.xlabel(\"Age\", size=10)\n",
    "#plt.title('Cancelled Reason Distribution by Carrier', size=15)\n",
    "plt.show(); #majority almost from 25 or late 20s till 45 using airbnb "
   ]
  },
  {
   "cell_type": "code",
   "execution_count": 608,
   "id": "whole-basin",
   "metadata": {},
   "outputs": [
    {
     "data": {
      "text/plain": [
       "Web        219918\n",
       "iOS         34593\n",
       "Android     10519\n",
       "Moweb       10517\n",
       "Name: signup_app, dtype: int64"
      ]
     },
     "execution_count": 608,
     "metadata": {},
     "output_type": "execute_result"
    }
   ],
   "source": [
    "df_copy.signup_app.value_counts()"
   ]
  },
  {
   "cell_type": "code",
   "execution_count": 609,
   "id": "confused-parent",
   "metadata": {},
   "outputs": [
    {
     "data": {
      "text/plain": [
       "NDF      124543\n",
       "US        62376\n",
       "other     10094\n",
       "FR         5023\n",
       "IT         2835\n",
       "GB         2324\n",
       "ES         2249\n",
       "CA         1428\n",
       "DE         1061\n",
       "NL          762\n",
       "AU          539\n",
       "PT          217\n",
       "Name: country_destination, dtype: int64"
      ]
     },
     "execution_count": 609,
     "metadata": {},
     "output_type": "execute_result"
    }
   ],
   "source": [
    "df_copy.country_destination.value_counts() #NDF: no destination found which is no booking is done"
   ]
  },
  {
   "cell_type": "code",
   "execution_count": 610,
   "id": "cooked-singer",
   "metadata": {},
   "outputs": [
    {
     "data": {
      "text/plain": [
       "Text(0.5, 1.0, 'Airbnb Gender Data')"
      ]
     },
     "execution_count": 610,
     "metadata": {},
     "output_type": "execute_result"
    },
    {
     "data": {
      "image/png": "[encoded data removed]",
      "text/plain": [
       "<Figure size 432x288 with 1 Axes>"
      ]
     },
     "metadata": {
      "needs_background": "light"
     },
     "output_type": "display_data"
    }
   ],
   "source": [
    "Age=df_copy.gender\n",
    "Age.hist()\n",
    "plt.title('Airbnb Gender Data', size=15)\n",
    "#the unknown is a majority here!, let's analyze to see what could we do about it."
   ]
  },
  {
   "cell_type": "code",
   "execution_count": 611,
   "id": "known-nature",
   "metadata": {},
   "outputs": [
    {
     "data": {
      "image/png": "[encoded data removed]",
      "text/plain": [
       "<Figure size 1296x720 with 1 Axes>"
      ]
     },
     "metadata": {
      "needs_background": "light"
     },
     "output_type": "display_data"
    }
   ],
   "source": [
    "#See gender bias with age:\n",
    "plt.figure(figsize=(18,10))\n",
    "plt.xticks(rotation=90)\n",
    "#Unknown= df_copy.query('gender==\"-unknown-\"')\n",
    "#Unknown\n",
    "plt.ylim(0, 50000)\n",
    "sns.countplot(x='age',data=df_copy,hue='gender').set_xlim(1,70);\n",
    "\n"
   ]
  },
  {
   "cell_type": "code",
   "execution_count": 612,
   "id": "killing-lightweight",
   "metadata": {
    "scrolled": false
   },
   "outputs": [
    {
     "data": {
      "text/plain": [
       "<AxesSubplot:xlabel='affiliate_channel', ylabel='count'>"
      ]
     },
     "execution_count": 612,
     "metadata": {},
     "output_type": "execute_result"
    },
    {
     "data": {
      "image/png": "[encoded data removed]",
      "text/plain": [
       "<Figure size 1728x1008 with 1 Axes>"
      ]
     },
     "metadata": {
      "needs_background": "light"
     },
     "output_type": "display_data"
    }
   ],
   "source": [
    "plt.figure(figsize=(24,14))\n",
    "plt.xticks(rotation=90)\n",
    "#Gender bias with country_distination:\n",
    "sns.countplot(x='affiliate_channel',data=df_copy,hue='country_destination')\n",
    "\n"
   ]
  },
  {
   "cell_type": "code",
   "execution_count": 613,
   "id": "nervous-citizen",
   "metadata": {},
   "outputs": [
    {
     "data": {
      "text/plain": [
       "<AxesSubplot:xlabel='affiliate_channel', ylabel='count'>"
      ]
     },
     "execution_count": 613,
     "metadata": {},
     "output_type": "execute_result"
    },
    {
     "data": {
      "image/png": "[encoded data removed]",
      "text/plain": [
       "<Figure size 1728x1008 with 1 Axes>"
      ]
     },
     "metadata": {
      "needs_background": "light"
     },
     "output_type": "display_data"
    }
   ],
   "source": [
    "plt.figure(figsize=(24,14))\n",
    "plt.xticks(rotation=90)\n",
    "#Gender bias with country_distination:\n",
    "sns.countplot(x='affiliate_channel',data=df_copy2,hue='country_destination')"
   ]
  },
  {
   "cell_type": "code",
   "execution_count": 614,
   "id": "collaborative-hawaiian",
   "metadata": {},
   "outputs": [
    {
     "data": {
      "text/plain": [
       "<Figure size 1440x1872 with 0 Axes>"
      ]
     },
     "metadata": {},
     "output_type": "display_data"
    },
    {
     "data": {
      "image/png": "[encoded data removed]",
      "text/plain": [
       "<Figure size 432x288 with 1 Axes>"
      ]
     },
     "metadata": {
      "needs_background": "light"
     },
     "output_type": "display_data"
    }
   ],
   "source": [
    "plt.figure(figsize=(20,26))\n",
    "Country_order=['US','FR','IT','GB','ES','CA','DE','NL','AU','PT']\n",
    "ctab = pd.crosstab([df_copy['affiliate_provider']], df_copy.country_destination).apply(lambda x: x/x.sum(), axis=1) #precentage to get the small values for providers\n",
    "ctab[Country_order].plot(kind='bar', stacked=True)\n",
    "plt.legend(loc='lower right');"
   ]
  },
  {
   "cell_type": "code",
   "execution_count": 615,
   "id": "tutorial-philosophy",
   "metadata": {
    "scrolled": false
   },
   "outputs": [
    {
     "data": {
      "image/png": "[encoded data removed]",
      "text/plain": [
       "<Figure size 1728x1440 with 2 Axes>"
      ]
     },
     "metadata": {
      "needs_background": "light"
     },
     "output_type": "display_data"
    }
   ],
   "source": [
    "plt.figure(figsize=(24,20))\n",
    "#plt.figure(figsize=(12, 10))\n",
    "plt.subplot(2, 1, 1)\n",
    "plt.ylim(0, 50000)\n",
    "plt.xticks(rotation=90)\n",
    "sns.countplot(x='affiliate_provider',data=df_copy,hue='country_destination')\n",
    "plt.legend(loc='upper right')\n",
    "\n",
    "plt.subplot(2, 1, 2)\n",
    "plt.xticks(rotation=90)\n",
    "#Gender bias with country_distination:\n",
    "sns.countplot(x='affiliate_provider',data=df_copy2,hue='country_destination')\n",
    "plt.legend(loc='upper right');"
   ]
  },
  {
   "cell_type": "markdown",
   "id": "female-insulation",
   "metadata": {},
   "source": [
    "\n",
    "The Direct Channel has the most number of conversions to bookings as well as leads to the most number of users have NDf.\n",
    "Direct and Google are the most popular affiliate providers.Also Craigslist has a good percentage of conversions. \n",
    "Facebook & Bing should be well tested why their channels has close numbers of NDF and real bookings.\n",
    "Also channels like gsp, baidu and others should be taken in consideration if they shouldn't contiue dealing with those affiliate providers based on the very few conversion rates.\n",
    "\n"
   ]
  },
  {
   "cell_type": "code",
   "execution_count": 616,
   "id": "sitting-rotation",
   "metadata": {},
   "outputs": [
    {
     "data": {
      "text/plain": [
       "<AxesSubplot:xlabel='gender', ylabel='count'>"
      ]
     },
     "execution_count": 616,
     "metadata": {},
     "output_type": "execute_result"
    },
    {
     "data": {
      "image/png": "[encoded data removed]",
      "text/plain": [
       "<Figure size 1728x1008 with 1 Axes>"
      ]
     },
     "metadata": {
      "needs_background": "light"
     },
     "output_type": "display_data"
    }
   ],
   "source": [
    "plt.figure(figsize=(24,14))\n",
    "plt.xticks(rotation=90)\n",
    "#Gender bias with country_distination:\n",
    "sns.countplot(x='gender',data=df_copy,hue='country_destination')"
   ]
  },
  {
   "cell_type": "markdown",
   "id": "beneficial-sharp",
   "metadata": {},
   "source": [
    "#### Here we see that most of NDF is chosen by unknown, which means that if we remove the unknown, it won't affect the booking destination at least now. \n",
    "After exploration some data, it turns out data needs to be less noissy which means I could clear more misleading values such as unknown in gender column and NDF \"no distination found\" since no booking will happen regarding this value. This will be useful at our model.\n",
    "number of NDF seems to be very large one, the reason why might be due to large number uses airbnb for browsing and exploration, another reason is that some of the marketing channels are not quite useful and get the wrong target audience."
   ]
  },
  {
   "cell_type": "code",
   "execution_count": 617,
   "id": "convenient-magnitude",
   "metadata": {},
   "outputs": [
    {
     "data": {
      "text/html": [
       "<div>\n",
       "<style scoped>\n",
       "    .dataframe tbody tr th:only-of-type {\n",
       "        vertical-align: middle;\n",
       "    }\n",
       "\n",
       "    .dataframe tbody tr th {\n",
       "        vertical-align: top;\n",
       "    }\n",
       "\n",
       "    .dataframe thead th {\n",
       "        text-align: right;\n",
       "    }\n",
       "</style>\n",
       "<table border=\"1\" class=\"dataframe\">\n",
       "  <thead>\n",
       "    <tr style=\"text-align: right;\">\n",
       "      <th></th>\n",
       "      <th>id</th>\n",
       "      <th>date_account_created</th>\n",
       "      <th>timestamp_first_active</th>\n",
       "      <th>gender</th>\n",
       "      <th>age</th>\n",
       "      <th>signup_method</th>\n",
       "      <th>signup_flow</th>\n",
       "      <th>language</th>\n",
       "      <th>affiliate_channel</th>\n",
       "      <th>affiliate_provider</th>\n",
       "      <th>first_affiliate_tracked</th>\n",
       "      <th>signup_app</th>\n",
       "      <th>first_device_type</th>\n",
       "      <th>first_browser</th>\n",
       "      <th>country_destination</th>\n",
       "      <th>AccCreat_year</th>\n",
       "      <th>AccCreat_Month</th>\n",
       "      <th>AccCreat_Day</th>\n",
       "    </tr>\n",
       "  </thead>\n",
       "  <tbody>\n",
       "    <tr>\n",
       "      <th>2</th>\n",
       "      <td>4ft3gnwmtx</td>\n",
       "      <td>2010-09-28</td>\n",
       "      <td>20090609231247</td>\n",
       "      <td>FEMALE</td>\n",
       "      <td>56.0</td>\n",
       "      <td>basic</td>\n",
       "      <td>3</td>\n",
       "      <td>en</td>\n",
       "      <td>direct</td>\n",
       "      <td>direct</td>\n",
       "      <td>untracked</td>\n",
       "      <td>Web</td>\n",
       "      <td>Windows Desktop</td>\n",
       "      <td>IE</td>\n",
       "      <td>US</td>\n",
       "      <td>2010</td>\n",
       "      <td>9</td>\n",
       "      <td>28</td>\n",
       "    </tr>\n",
       "    <tr>\n",
       "      <th>3</th>\n",
       "      <td>bjjt8pjhuk</td>\n",
       "      <td>2011-12-05</td>\n",
       "      <td>20091031060129</td>\n",
       "      <td>FEMALE</td>\n",
       "      <td>42.0</td>\n",
       "      <td>facebook</td>\n",
       "      <td>0</td>\n",
       "      <td>en</td>\n",
       "      <td>direct</td>\n",
       "      <td>direct</td>\n",
       "      <td>untracked</td>\n",
       "      <td>Web</td>\n",
       "      <td>Mac Desktop</td>\n",
       "      <td>Firefox</td>\n",
       "      <td>other</td>\n",
       "      <td>2011</td>\n",
       "      <td>12</td>\n",
       "      <td>5</td>\n",
       "    </tr>\n",
       "    <tr>\n",
       "      <th>6</th>\n",
       "      <td>lsw9q7uk0j</td>\n",
       "      <td>2010-01-02</td>\n",
       "      <td>20100102012558</td>\n",
       "      <td>FEMALE</td>\n",
       "      <td>46.0</td>\n",
       "      <td>basic</td>\n",
       "      <td>0</td>\n",
       "      <td>en</td>\n",
       "      <td>other</td>\n",
       "      <td>craigslist</td>\n",
       "      <td>untracked</td>\n",
       "      <td>Web</td>\n",
       "      <td>Mac Desktop</td>\n",
       "      <td>Safari</td>\n",
       "      <td>US</td>\n",
       "      <td>2010</td>\n",
       "      <td>1</td>\n",
       "      <td>2</td>\n",
       "    </tr>\n",
       "    <tr>\n",
       "      <th>7</th>\n",
       "      <td>0d01nltbrs</td>\n",
       "      <td>2010-01-03</td>\n",
       "      <td>20100103191905</td>\n",
       "      <td>FEMALE</td>\n",
       "      <td>47.0</td>\n",
       "      <td>basic</td>\n",
       "      <td>0</td>\n",
       "      <td>en</td>\n",
       "      <td>direct</td>\n",
       "      <td>direct</td>\n",
       "      <td>omg</td>\n",
       "      <td>Web</td>\n",
       "      <td>Mac Desktop</td>\n",
       "      <td>Safari</td>\n",
       "      <td>US</td>\n",
       "      <td>2010</td>\n",
       "      <td>1</td>\n",
       "      <td>3</td>\n",
       "    </tr>\n",
       "    <tr>\n",
       "      <th>8</th>\n",
       "      <td>a1vcnhxeij</td>\n",
       "      <td>2010-01-04</td>\n",
       "      <td>20100104004211</td>\n",
       "      <td>FEMALE</td>\n",
       "      <td>50.0</td>\n",
       "      <td>basic</td>\n",
       "      <td>0</td>\n",
       "      <td>en</td>\n",
       "      <td>other</td>\n",
       "      <td>craigslist</td>\n",
       "      <td>untracked</td>\n",
       "      <td>Web</td>\n",
       "      <td>Mac Desktop</td>\n",
       "      <td>Safari</td>\n",
       "      <td>US</td>\n",
       "      <td>2010</td>\n",
       "      <td>1</td>\n",
       "      <td>4</td>\n",
       "    </tr>\n",
       "  </tbody>\n",
       "</table>\n",
       "</div>"
      ],
      "text/plain": [
       "           id date_account_created  timestamp_first_active  gender   age  \\\n",
       "2  4ft3gnwmtx           2010-09-28          20090609231247  FEMALE  56.0   \n",
       "3  bjjt8pjhuk           2011-12-05          20091031060129  FEMALE  42.0   \n",
       "6  lsw9q7uk0j           2010-01-02          20100102012558  FEMALE  46.0   \n",
       "7  0d01nltbrs           2010-01-03          20100103191905  FEMALE  47.0   \n",
       "8  a1vcnhxeij           2010-01-04          20100104004211  FEMALE  50.0   \n",
       "\n",
       "  signup_method  signup_flow language affiliate_channel affiliate_provider  \\\n",
       "2         basic            3       en            direct             direct   \n",
       "3      facebook            0       en            direct             direct   \n",
       "6         basic            0       en             other         craigslist   \n",
       "7         basic            0       en            direct             direct   \n",
       "8         basic            0       en             other         craigslist   \n",
       "\n",
       "  first_affiliate_tracked signup_app first_device_type first_browser  \\\n",
       "2               untracked        Web   Windows Desktop            IE   \n",
       "3               untracked        Web       Mac Desktop       Firefox   \n",
       "6               untracked        Web       Mac Desktop        Safari   \n",
       "7                     omg        Web       Mac Desktop        Safari   \n",
       "8               untracked        Web       Mac Desktop        Safari   \n",
       "\n",
       "  country_destination  AccCreat_year  AccCreat_Month  AccCreat_Day  \n",
       "2                  US           2010               9            28  \n",
       "3               other           2011              12             5  \n",
       "6                  US           2010               1             2  \n",
       "7                  US           2010               1             3  \n",
       "8                  US           2010               1             4  "
      ]
     },
     "execution_count": 617,
     "metadata": {},
     "output_type": "execute_result"
    }
   ],
   "source": [
    "df_copy2 = df_copy[(df_copy['country_destination'] != 'NDF') & (df_copy['gender'] != '-unknown-')]\n",
    "#df_copy = df_copy[['id', 'gender', 'country_destination']]\n",
    "df_copy2.head()"
   ]
  },
  {
   "cell_type": "code",
   "execution_count": 618,
   "id": "banned-treatment",
   "metadata": {},
   "outputs": [
    {
     "name": "stdout",
     "output_type": "stream",
     "text": [
      "<class 'pandas.core.frame.DataFrame'>\n",
      "Int64Index: 88194 entries, 2 to 62095\n",
      "Data columns (total 18 columns):\n",
      " #   Column                   Non-Null Count  Dtype         \n",
      "---  ------                   --------------  -----         \n",
      " 0   id                       88194 non-null  object        \n",
      " 1   date_account_created     88194 non-null  datetime64[ns]\n",
      " 2   timestamp_first_active   88194 non-null  int64         \n",
      " 3   gender                   88194 non-null  object        \n",
      " 4   age                      88194 non-null  float64       \n",
      " 5   signup_method            88194 non-null  object        \n",
      " 6   signup_flow              88194 non-null  int64         \n",
      " 7   language                 88194 non-null  object        \n",
      " 8   affiliate_channel        88194 non-null  object        \n",
      " 9   affiliate_provider       88194 non-null  object        \n",
      " 10  first_affiliate_tracked  88194 non-null  object        \n",
      " 11  signup_app               88194 non-null  object        \n",
      " 12  first_device_type        88194 non-null  object        \n",
      " 13  first_browser            88194 non-null  object        \n",
      " 14  country_destination      59890 non-null  object        \n",
      " 15  AccCreat_year            88194 non-null  int64         \n",
      " 16  AccCreat_Month           88194 non-null  int64         \n",
      " 17  AccCreat_Day             88194 non-null  int64         \n",
      "dtypes: datetime64[ns](1), float64(1), int64(5), object(11)\n",
      "memory usage: 12.8+ MB\n"
     ]
    }
   ],
   "source": [
    "df_copy2.info()\n",
    "#Here test data starts 59891:"
   ]
  },
  {
   "cell_type": "code",
   "execution_count": 619,
   "id": "religious-matthew",
   "metadata": {},
   "outputs": [
    {
     "data": {
      "text/plain": [
       "FEMALE    46476\n",
       "MALE      41490\n",
       "OTHER       228\n",
       "Name: gender, dtype: int64"
      ]
     },
     "execution_count": 619,
     "metadata": {},
     "output_type": "execute_result"
    }
   ],
   "source": [
    "df_copy2.gender.value_counts()"
   ]
  },
  {
   "cell_type": "code",
   "execution_count": 620,
   "id": "proud-census",
   "metadata": {},
   "outputs": [
    {
     "data": {
      "text/plain": [
       "US       42267\n",
       "other     6625\n",
       "FR        3310\n",
       "IT        1795\n",
       "GB        1566\n",
       "ES        1534\n",
       "CA         937\n",
       "DE         777\n",
       "NL         535\n",
       "AU         396\n",
       "PT         148\n",
       "Name: country_destination, dtype: int64"
      ]
     },
     "execution_count": 620,
     "metadata": {},
     "output_type": "execute_result"
    }
   ],
   "source": [
    "df_copy2['country_destination'].value_counts()"
   ]
  },
  {
   "cell_type": "code",
   "execution_count": 621,
   "id": "minus-detection",
   "metadata": {
    "scrolled": true
   },
   "outputs": [
    {
     "data": {
      "text/plain": [
       "en    85200\n",
       "zh      765\n",
       "fr      486\n",
       "es      352\n",
       "ko      301\n",
       "de      290\n",
       "ru      163\n",
       "it      162\n",
       "ja      128\n",
       "pt      109\n",
       "sv       65\n",
       "nl       38\n",
       "tr       32\n",
       "da       23\n",
       "pl       20\n",
       "no       15\n",
       "cs       11\n",
       "fi       10\n",
       "el        9\n",
       "th        5\n",
       "hu        4\n",
       "ca        3\n",
       "is        2\n",
       "id        1\n",
       "Name: language, dtype: int64"
      ]
     },
     "execution_count": 621,
     "metadata": {},
     "output_type": "execute_result"
    }
   ],
   "source": [
    "df_copy2['language'].value_counts()"
   ]
  },
  {
   "cell_type": "markdown",
   "id": "public-configuration",
   "metadata": {},
   "source": [
    "### let's back again to the Data Exploration:"
   ]
  },
  {
   "cell_type": "code",
   "execution_count": 622,
   "id": "piano-timeline",
   "metadata": {},
   "outputs": [],
   "source": [
    "#seems we have number of females more than the number of males.\n",
    "#Most destination is in USA"
   ]
  },
  {
   "cell_type": "code",
   "execution_count": 623,
   "id": "accompanied-quantum",
   "metadata": {},
   "outputs": [
    {
     "data": {
      "image/png": "[encoded data removed]",
      "text/plain": [
       "<Figure size 1440x720 with 1 Axes>"
      ]
     },
     "metadata": {
      "needs_background": "light"
     },
     "output_type": "display_data"
    }
   ],
   "source": [
    "plt.figure(figsize=(20,10))\n",
    "plt.xticks(rotation=90)\n",
    "#Unknown= df_copy.query('gender==\"-unknown-\"')\n",
    "#Unknown\n",
    "sns.countplot(x='age',data=df_copy2,hue='gender').set_xlim(1,70);\n",
    "#to assure female are more than male numbers almost over the highest ages use airbnb "
   ]
  },
  {
   "cell_type": "code",
   "execution_count": 624,
   "id": "female-entrepreneur",
   "metadata": {
    "scrolled": false
   },
   "outputs": [
    {
     "name": "stderr",
     "output_type": "stream",
     "text": [
      "C:\\Users\\AbouElNasrA\\Anaconda3\\lib\\site-packages\\seaborn\\_decorators.py:36: FutureWarning: Pass the following variable as a keyword arg: x. From version 0.12, the only valid positional argument will be `data`, and passing other arguments without an explicit keyword will result in an error or misinterpretation.\n",
      "  warnings.warn(\n"
     ]
    },
    {
     "data": {
      "image/png": "[encoded data removed]",
      "text/plain": [
       "<Figure size 576x432 with 1 Axes>"
      ]
     },
     "metadata": {
      "needs_background": "light"
     },
     "output_type": "display_data"
    }
   ],
   "source": [
    "plt.figure(figsize=(8,6))\n",
    "sns.countplot('country_destination', order = df_copy2['country_destination'].value_counts().index, data=df_copy2 )\n",
    "plt.title('Most booking destination');"
   ]
  },
  {
   "cell_type": "code",
   "execution_count": 625,
   "id": "russian-legislature",
   "metadata": {},
   "outputs": [
    {
     "data": {
      "image/png": "[encoded data removed]",
      "text/plain": [
       "<Figure size 1152x1008 with 1 Axes>"
      ]
     },
     "metadata": {},
     "output_type": "display_data"
    }
   ],
   "source": [
    "sns.set_style(\"whitegrid\")\n",
    "plt.figure(figsize=(16, 14))\n",
    "Country_order=['US','FR','IT','GB','ES','CA','DE','NL','AU','PT']\n",
    "Gender=df_copy2[(df_copy2['gender'] != 'OTHER')]\n",
    "sns.boxplot(x='country_destination', y='age', hue='gender', data=Gender, order=Country_order)\n",
    "plt.ylim(16, 80)\n",
    "plt.legend(loc='lower right')\n",
    "plt.show()"
   ]
  },
  {
   "cell_type": "markdown",
   "id": "brave-broad",
   "metadata": {},
   "source": [
    "We could see here in USA gender age booking is almost close to each other, but the interesting insight that age range higher is when it come to Britin as a booking distination and on the contrary, span is attractive to the young people especially females.\n",
    "Also there's a gap between female and male age when it comes to Italy, older age of male users book in Italy on airbnb.\n",
    "Also, on interesting insight it seems like airbnb is used more often by almost 30th and 40th people, more than the younger ones!"
   ]
  },
  {
   "cell_type": "markdown",
   "id": "brief-memorial",
   "metadata": {},
   "source": [
    "#Lets make sure of the hypothsis above for male and female only if there is a country ditination bias by the gender as it's hard to tell the distenation is contingent upon or depends upon the gender from numbers alone:\n",
    "\n",
    "Null Hypothesis: There is no relationship between country preference and the gender of the customer.\n",
    "\n",
    "Alternate Hypothesis: There is a relationship between country preference and the gender of the customer.\n",
    "\n",
    "    alfa is 0.05\n",
    "    \n",
    "since we have a categorical variables, we need to test 1 variable with mutivariables, we'll use Chi-square test."
   ]
  },
  {
   "cell_type": "code",
   "execution_count": 626,
   "id": "antique-brick",
   "metadata": {},
   "outputs": [
    {
     "data": {
      "text/html": [
       "<div>\n",
       "<style scoped>\n",
       "    .dataframe tbody tr th:only-of-type {\n",
       "        vertical-align: middle;\n",
       "    }\n",
       "\n",
       "    .dataframe tbody tr th {\n",
       "        vertical-align: top;\n",
       "    }\n",
       "\n",
       "    .dataframe thead th {\n",
       "        text-align: right;\n",
       "    }\n",
       "</style>\n",
       "<table border=\"1\" class=\"dataframe\">\n",
       "  <thead>\n",
       "    <tr style=\"text-align: right;\">\n",
       "      <th>country_destination</th>\n",
       "      <th>AU</th>\n",
       "      <th>CA</th>\n",
       "      <th>DE</th>\n",
       "      <th>ES</th>\n",
       "      <th>FR</th>\n",
       "      <th>GB</th>\n",
       "      <th>IT</th>\n",
       "      <th>NL</th>\n",
       "      <th>PT</th>\n",
       "      <th>US</th>\n",
       "      <th>other</th>\n",
       "    </tr>\n",
       "    <tr>\n",
       "      <th>gender</th>\n",
       "      <th></th>\n",
       "      <th></th>\n",
       "      <th></th>\n",
       "      <th></th>\n",
       "      <th></th>\n",
       "      <th></th>\n",
       "      <th></th>\n",
       "      <th></th>\n",
       "      <th></th>\n",
       "      <th></th>\n",
       "      <th></th>\n",
       "    </tr>\n",
       "  </thead>\n",
       "  <tbody>\n",
       "    <tr>\n",
       "      <th>FEMALE</th>\n",
       "      <td>207</td>\n",
       "      <td>455</td>\n",
       "      <td>358</td>\n",
       "      <td>853</td>\n",
       "      <td>1962</td>\n",
       "      <td>881</td>\n",
       "      <td>1091</td>\n",
       "      <td>254</td>\n",
       "      <td>78</td>\n",
       "      <td>22694</td>\n",
       "      <td>3160</td>\n",
       "    </tr>\n",
       "    <tr>\n",
       "      <th>MALE</th>\n",
       "      <td>188</td>\n",
       "      <td>477</td>\n",
       "      <td>416</td>\n",
       "      <td>677</td>\n",
       "      <td>1335</td>\n",
       "      <td>682</td>\n",
       "      <td>699</td>\n",
       "      <td>278</td>\n",
       "      <td>69</td>\n",
       "      <td>19457</td>\n",
       "      <td>3443</td>\n",
       "    </tr>\n",
       "    <tr>\n",
       "      <th>OTHER</th>\n",
       "      <td>1</td>\n",
       "      <td>5</td>\n",
       "      <td>3</td>\n",
       "      <td>4</td>\n",
       "      <td>13</td>\n",
       "      <td>3</td>\n",
       "      <td>5</td>\n",
       "      <td>3</td>\n",
       "      <td>1</td>\n",
       "      <td>116</td>\n",
       "      <td>22</td>\n",
       "    </tr>\n",
       "  </tbody>\n",
       "</table>\n",
       "</div>"
      ],
      "text/plain": [
       "country_destination   AU   CA   DE   ES    FR   GB    IT   NL  PT     US  \\\n",
       "gender                                                                     \n",
       "FEMALE               207  455  358  853  1962  881  1091  254  78  22694   \n",
       "MALE                 188  477  416  677  1335  682   699  278  69  19457   \n",
       "OTHER                  1    5    3    4    13    3     5    3   1    116   \n",
       "\n",
       "country_destination  other  \n",
       "gender                      \n",
       "FEMALE                3160  \n",
       "MALE                  3443  \n",
       "OTHER                   22  "
      ]
     },
     "execution_count": 626,
     "metadata": {},
     "output_type": "execute_result"
    }
   ],
   "source": [
    "\n",
    "#pivot to get contingency table\n",
    "Table1 = df_copy2.pivot_table('id', ['gender'], 'country_destination', aggfunc='count').reset_index()\n",
    "#del observed.columns.name\n",
    "Table1 = Table1.set_index('gender')\n",
    "Table1"
   ]
  },
  {
   "cell_type": "code",
   "execution_count": 627,
   "id": "serial-stress",
   "metadata": {},
   "outputs": [],
   "source": [
    "chi2, p, dof, expected = stats.chi2_contingency(Table1)"
   ]
  },
  {
   "cell_type": "code",
   "execution_count": 628,
   "id": "representative-green",
   "metadata": {},
   "outputs": [
    {
     "name": "stdout",
     "output_type": "stream",
     "text": [
      "220.87966758097264\n",
      "20\n",
      "7.970832529945862e-36\n"
     ]
    }
   ],
   "source": [
    "print(chi2)\n",
    "print(dof)\n",
    "print(p)"
   ]
  },
  {
   "cell_type": "markdown",
   "id": "angry-leave",
   "metadata": {},
   "source": [
    "no significant result, reject null hypothesis (H0). This means There is a relationship between country preference and the sex of the customer."
   ]
  },
  {
   "cell_type": "code",
   "execution_count": 629,
   "id": "spare-edward",
   "metadata": {},
   "outputs": [],
   "source": [
    "#chi2, p, dof, ex = chi2_contingency(Table1, correction=False)\n",
    "#print(chi2, p)"
   ]
  },
  {
   "cell_type": "code",
   "execution_count": 630,
   "id": "cleared-description",
   "metadata": {},
   "outputs": [
    {
     "name": "stderr",
     "output_type": "stream",
     "text": [
      "C:\\Users\\AbouElNasrA\\Anaconda3\\lib\\site-packages\\seaborn\\_decorators.py:36: FutureWarning: Pass the following variable as a keyword arg: x. From version 0.12, the only valid positional argument will be `data`, and passing other arguments without an explicit keyword will result in an error or misinterpretation.\n",
      "  warnings.warn(\n"
     ]
    },
    {
     "data": {
      "image/png": "[encoded data removed]",
      "text/plain": [
       "<Figure size 864x720 with 2 Axes>"
      ]
     },
     "metadata": {},
     "output_type": "display_data"
    }
   ],
   "source": [
    "#plt.figure(figsize=(20,10))\n",
    "plt.figure(figsize=(12, 10))\n",
    "plt.subplot(2, 1, 1)\n",
    "sns.countplot('AccCreat_year', order = df_copy2['AccCreat_year'].value_counts().index, data=df_copy2 )\n",
    "#plot_histogram(df_copy2['AccCreat_year'])\n",
    "plt.subplot(2, 1, 2)\n",
    "plt.xticks(rotation=90)\n",
    "#Unknown= df_copy.query('gender==\"-unknown-\"')\n",
    "#Unknown\n",
    "sns.countplot(x='AccCreat_year',data=df_copy2,hue='country_destination');\n",
    "#to assure female are more than male numbers almost over the highest ages use airbnb "
   ]
  },
  {
   "cell_type": "code",
   "execution_count": 631,
   "id": "accessory-occurrence",
   "metadata": {
    "scrolled": true
   },
   "outputs": [
    {
     "data": {
      "text/plain": [
       "<Figure size 864x432 with 0 Axes>"
      ]
     },
     "metadata": {},
     "output_type": "display_data"
    },
    {
     "data": {
      "image/png": "[encoded data removed]",
      "text/plain": [
       "<Figure size 432x288 with 1 Axes>"
      ]
     },
     "metadata": {},
     "output_type": "display_data"
    }
   ],
   "source": [
    "sns.set_style(\"whitegrid\")\n",
    "sns.set_context(\"poster\", font_scale=0.6)\n",
    "plt.figure(figsize=(12,6))\n",
    "#plt.xticks(rotation=90)\n",
    "df_copy2[['AccCreat_year','country_destination']].groupby(['AccCreat_year']).count().plot(kind='line', linewidth=5, color='blue');"
   ]
  },
  {
   "cell_type": "code",
   "execution_count": 632,
   "id": "uniform-probability",
   "metadata": {},
   "outputs": [],
   "source": [
    "#Most account creation year was 2013, also the booking distination has the max effect on 2013 in US and FR.\n"
   ]
  },
  {
   "cell_type": "code",
   "execution_count": 633,
   "id": "green-lighting",
   "metadata": {},
   "outputs": [
    {
     "data": {
      "image/png": "[encoded data removed]",
      "text/plain": [
       "<Figure size 720x576 with 1 Axes>"
      ]
     },
     "metadata": {},
     "output_type": "display_data"
    }
   ],
   "source": [
    "plt.figure(figsize=(10,8))\n",
    "#sns.countplot(x='AccCreat_Month',data=df_copy2,hue='country_destination').set_ylim(0,1000)\n",
    "sns.countplot(x='AccCreat_Month',data=df_copy2,hue='country_destination')\n",
    "plt.legend(bbox_to_anchor=(1.0, 1.0));"
   ]
  },
  {
   "cell_type": "code",
   "execution_count": 634,
   "id": "weighted-bracket",
   "metadata": {},
   "outputs": [
    {
     "name": "stderr",
     "output_type": "stream",
     "text": [
      "C:\\Users\\AbouElNasrA\\Anaconda3\\lib\\site-packages\\seaborn\\_decorators.py:36: FutureWarning: Pass the following variable as a keyword arg: x. From version 0.12, the only valid positional argument will be `data`, and passing other arguments without an explicit keyword will result in an error or misinterpretation.\n",
      "  warnings.warn(\n",
      "C:\\Users\\AbouElNasrA\\Anaconda3\\lib\\site-packages\\seaborn\\_decorators.py:36: FutureWarning: Pass the following variable as a keyword arg: x. From version 0.12, the only valid positional argument will be `data`, and passing other arguments without an explicit keyword will result in an error or misinterpretation.\n",
      "  warnings.warn(\n",
      "C:\\Users\\AbouElNasrA\\Anaconda3\\lib\\site-packages\\seaborn\\_decorators.py:36: FutureWarning: Pass the following variable as a keyword arg: x. From version 0.12, the only valid positional argument will be `data`, and passing other arguments without an explicit keyword will result in an error or misinterpretation.\n",
      "  warnings.warn(\n"
     ]
    },
    {
     "data": {
      "text/plain": [
       "<AxesSubplot:xlabel='first_affiliate_tracked', ylabel='count'>"
      ]
     },
     "execution_count": 634,
     "metadata": {},
     "output_type": "execute_result"
    },
    {
     "data": {
      "image/png": "[encoded data removed]",
      "text/plain": [
       "<Figure size 1296x1440 with 3 Axes>"
      ]
     },
     "metadata": {},
     "output_type": "display_data"
    }
   ],
   "source": [
    "#affiliate_channel effect\n",
    "plt.figure(figsize=(18,20))\n",
    "plt.subplot(3, 1, 1)\n",
    "#plt.xticks(rotation=90)\n",
    "sns.countplot('affiliate_channel', order = df_copy2['affiliate_channel'].value_counts().index, data=df_copy2 )\n",
    "\n",
    "plt.subplot(3, 1, 2)\n",
    "#plt.xticks(rotation=90)\n",
    "sns.countplot('affiliate_provider', order = df_copy2['affiliate_provider'].value_counts().index, data=df_copy2 )\n",
    "plt.subplot(3, 1, 3)\n",
    "#plt.xticks(rotation=90)\n",
    "sns.countplot('first_affiliate_tracked', order = df_copy2['first_affiliate_tracked'].value_counts().index, data=df_copy2 )"
   ]
  },
  {
   "cell_type": "code",
   "execution_count": null,
   "id": "integrated-spectacular",
   "metadata": {},
   "outputs": [],
   "source": []
  },
  {
   "cell_type": "code",
   "execution_count": 635,
   "id": "marine-chain",
   "metadata": {},
   "outputs": [],
   "source": [
    "#Aff.plot.bar(stacked=True ,figsize=(16, 8))\n",
    "#Aff = df_copy2.groupby('country_destination')['affiliate_provider','first_affiliate_tracked','signup_method'].sum()\n",
    "\n",
    "#plt.xlabel(\"Carrier\", size=10)\n",
    "#plt.ylabel(\"Delay\")\n",
    "#plt.title('Delay Distribution by Carrier', size=15)"
   ]
  },
  {
   "cell_type": "code",
   "execution_count": 636,
   "id": "designing-flight",
   "metadata": {},
   "outputs": [
    {
     "data": {
      "text/plain": [
       "basic       50004\n",
       "facebook    37861\n",
       "google        322\n",
       "weibo           7\n",
       "Name: signup_method, dtype: int64"
      ]
     },
     "execution_count": 636,
     "metadata": {},
     "output_type": "execute_result"
    }
   ],
   "source": [
    "df_copy2.signup_method.value_counts()"
   ]
  },
  {
   "cell_type": "code",
   "execution_count": 637,
   "id": "following-rolling",
   "metadata": {
    "scrolled": true
   },
   "outputs": [
    {
     "data": {
      "text/plain": [
       "<Figure size 1440x1872 with 0 Axes>"
      ]
     },
     "metadata": {},
     "output_type": "display_data"
    },
    {
     "data": {
      "image/png": "[encoded data removed]",
      "text/plain": [
       "<Figure size 432x288 with 1 Axes>"
      ]
     },
     "metadata": {},
     "output_type": "display_data"
    }
   ],
   "source": [
    "plt.figure(figsize=(20,26))\n",
    "ctab = pd.crosstab([df_copy2['affiliate_provider']], df_copy2.country_destination).apply(lambda x: x/x.sum(), axis=1) #precentage to get the small values for providers\n",
    "ctab[Country_order].plot(kind='bar', stacked=True)\n",
    "#plt.legend(loc='lower right');\n",
    "plt.legend(bbox_to_anchor=(1.0, 1.0));"
   ]
  },
  {
   "cell_type": "markdown",
   "id": "attended-failing",
   "metadata": {},
   "source": [
    "dfa mn anhy country aktr? elly fo2 dafor us w fr a nzmo"
   ]
  },
  {
   "cell_type": "code",
   "execution_count": 691,
   "id": "clean-russell",
   "metadata": {},
   "outputs": [
    {
     "data": {
      "text/plain": [
       "<AxesSubplot:xlabel='country_destination', ylabel='count'>"
      ]
     },
     "execution_count": 691,
     "metadata": {},
     "output_type": "execute_result"
    },
    {
     "data": {
      "image/png": "[encoded data removed]",
      "text/plain": [
       "<Figure size 432x288 with 1 Axes>"
      ]
     },
     "metadata": {},
     "output_type": "display_data"
    }
   ],
   "source": [
    "sns.countplot(x=df_copy[df_copy['language']=='en']['country_destination'])"
   ]
  },
  {
   "cell_type": "markdown",
   "id": "infrared-salem",
   "metadata": {},
   "source": [
    "df_copy2.affiliate_provider.value_counts()"
   ]
  },
  {
   "cell_type": "code",
   "execution_count": 638,
   "id": "appreciated-edition",
   "metadata": {
    "scrolled": false
   },
   "outputs": [
    {
     "data": {
      "text/plain": [
       "direct                 58661\n",
       "google                 20653\n",
       "other                   3934\n",
       "facebook                1951\n",
       "bing                    1112\n",
       "craigslist              1022\n",
       "padmapper                226\n",
       "yahoo                    175\n",
       "vast                     169\n",
       "facebook-open-graph      132\n",
       "email-marketing           66\n",
       "meetup                    35\n",
       "gsp                       28\n",
       "naver                     17\n",
       "baidu                      8\n",
       "yandex                     5\n",
       "Name: affiliate_provider, dtype: int64"
      ]
     },
     "execution_count": 638,
     "metadata": {},
     "output_type": "execute_result"
    }
   ],
   "source": [
    "df_copy2.affiliate_provider.value_counts()\n"
   ]
  },
  {
   "cell_type": "code",
   "execution_count": 639,
   "id": "noted-construction",
   "metadata": {},
   "outputs": [],
   "source": [
    "Final=df_copy2.copy()"
   ]
  },
  {
   "cell_type": "code",
   "execution_count": 640,
   "id": "present-silly",
   "metadata": {},
   "outputs": [
    {
     "name": "stdout",
     "output_type": "stream",
     "text": [
      "<class 'pandas.core.frame.DataFrame'>\n",
      "Int64Index: 88194 entries, 2 to 62095\n",
      "Data columns (total 18 columns):\n",
      " #   Column                   Non-Null Count  Dtype         \n",
      "---  ------                   --------------  -----         \n",
      " 0   id                       88194 non-null  object        \n",
      " 1   date_account_created     88194 non-null  datetime64[ns]\n",
      " 2   timestamp_first_active   88194 non-null  int64         \n",
      " 3   gender                   88194 non-null  object        \n",
      " 4   age                      88194 non-null  float64       \n",
      " 5   signup_method            88194 non-null  object        \n",
      " 6   signup_flow              88194 non-null  int64         \n",
      " 7   language                 88194 non-null  object        \n",
      " 8   affiliate_channel        88194 non-null  object        \n",
      " 9   affiliate_provider       88194 non-null  object        \n",
      " 10  first_affiliate_tracked  88194 non-null  object        \n",
      " 11  signup_app               88194 non-null  object        \n",
      " 12  first_device_type        88194 non-null  object        \n",
      " 13  first_browser            88194 non-null  object        \n",
      " 14  country_destination      59890 non-null  object        \n",
      " 15  AccCreat_year            88194 non-null  int64         \n",
      " 16  AccCreat_Month           88194 non-null  int64         \n",
      " 17  AccCreat_Day             88194 non-null  int64         \n",
      "dtypes: datetime64[ns](1), float64(1), int64(5), object(11)\n",
      "memory usage: 14.8+ MB\n"
     ]
    }
   ],
   "source": [
    "Final.info()"
   ]
  },
  {
   "cell_type": "markdown",
   "id": "statewide-catering",
   "metadata": {},
   "source": [
    "## Data Preprocessing and Modeling:\n",
    "#### Encoding:"
   ]
  },
  {
   "cell_type": "code",
   "execution_count": 641,
   "id": "velvet-cheat",
   "metadata": {},
   "outputs": [],
   "source": [
    "#Dropping unnecessary columns for moduling\n",
    "Final.drop(['timestamp_first_active','AccCreat_year','AccCreat_Day','signup_app','date_account_created','id','age','signup_method','signup_flow','first_affiliate_tracked','first_affiliate_tracked','first_device_type','first_browser'],axis=1,inplace=True)"
   ]
  },
  {
   "cell_type": "code",
   "execution_count": 642,
   "id": "ideal-interface",
   "metadata": {
    "scrolled": true
   },
   "outputs": [
    {
     "data": {
      "text/plain": [
       "(88194, 6)"
      ]
     },
     "execution_count": 642,
     "metadata": {},
     "output_type": "execute_result"
    }
   ],
   "source": [
    "Final.shape"
   ]
  },
  {
   "cell_type": "code",
   "execution_count": 643,
   "id": "victorian-spyware",
   "metadata": {},
   "outputs": [],
   "source": [
    "#Encoding categorical features\n",
    "catg_features= ['gender','affiliate_channel', 'affiliate_provider','AccCreat_Month','language']"
   ]
  },
  {
   "cell_type": "code",
   "execution_count": 644,
   "id": "impossible-albuquerque",
   "metadata": {},
   "outputs": [],
   "source": [
    "#I will use labelencoder for categorical data.\n",
    "\n",
    "Encoder= LabelEncoder()\n",
    "Encoded= Final[catg_features].apply(Encoder.fit_transform)"
   ]
  },
  {
   "cell_type": "code",
   "execution_count": 645,
   "id": "surprising-trance",
   "metadata": {},
   "outputs": [
    {
     "data": {
      "text/html": [
       "<div>\n",
       "<style scoped>\n",
       "    .dataframe tbody tr th:only-of-type {\n",
       "        vertical-align: middle;\n",
       "    }\n",
       "\n",
       "    .dataframe tbody tr th {\n",
       "        vertical-align: top;\n",
       "    }\n",
       "\n",
       "    .dataframe thead th {\n",
       "        text-align: right;\n",
       "    }\n",
       "</style>\n",
       "<table border=\"1\" class=\"dataframe\">\n",
       "  <thead>\n",
       "    <tr style=\"text-align: right;\">\n",
       "      <th></th>\n",
       "      <th>gender</th>\n",
       "      <th>affiliate_channel</th>\n",
       "      <th>affiliate_provider</th>\n",
       "      <th>AccCreat_Month</th>\n",
       "      <th>language</th>\n",
       "    </tr>\n",
       "  </thead>\n",
       "  <tbody>\n",
       "    <tr>\n",
       "      <th>2</th>\n",
       "      <td>0</td>\n",
       "      <td>2</td>\n",
       "      <td>3</td>\n",
       "      <td>8</td>\n",
       "      <td>5</td>\n",
       "    </tr>\n",
       "    <tr>\n",
       "      <th>3</th>\n",
       "      <td>0</td>\n",
       "      <td>2</td>\n",
       "      <td>3</td>\n",
       "      <td>11</td>\n",
       "      <td>5</td>\n",
       "    </tr>\n",
       "    <tr>\n",
       "      <th>6</th>\n",
       "      <td>0</td>\n",
       "      <td>3</td>\n",
       "      <td>2</td>\n",
       "      <td>0</td>\n",
       "      <td>5</td>\n",
       "    </tr>\n",
       "    <tr>\n",
       "      <th>7</th>\n",
       "      <td>0</td>\n",
       "      <td>2</td>\n",
       "      <td>3</td>\n",
       "      <td>0</td>\n",
       "      <td>5</td>\n",
       "    </tr>\n",
       "    <tr>\n",
       "      <th>8</th>\n",
       "      <td>0</td>\n",
       "      <td>3</td>\n",
       "      <td>2</td>\n",
       "      <td>0</td>\n",
       "      <td>5</td>\n",
       "    </tr>\n",
       "  </tbody>\n",
       "</table>\n",
       "</div>"
      ],
      "text/plain": [
       "   gender  affiliate_channel  affiliate_provider  AccCreat_Month  language\n",
       "2       0                  2                   3               8         5\n",
       "3       0                  2                   3              11         5\n",
       "6       0                  3                   2               0         5\n",
       "7       0                  2                   3               0         5\n",
       "8       0                  3                   2               0         5"
      ]
     },
     "execution_count": 645,
     "metadata": {},
     "output_type": "execute_result"
    }
   ],
   "source": [
    "Encoded.head()\n",
    "#print(Encoded.shape)"
   ]
  },
  {
   "cell_type": "code",
   "execution_count": 646,
   "id": "negative-assistant",
   "metadata": {},
   "outputs": [],
   "source": [
    "temp=Final.drop(catg_features,axis=1)"
   ]
  },
  {
   "cell_type": "code",
   "execution_count": 647,
   "id": "acoustic-disorder",
   "metadata": {},
   "outputs": [
    {
     "data": {
      "text/html": [
       "<div>\n",
       "<style scoped>\n",
       "    .dataframe tbody tr th:only-of-type {\n",
       "        vertical-align: middle;\n",
       "    }\n",
       "\n",
       "    .dataframe tbody tr th {\n",
       "        vertical-align: top;\n",
       "    }\n",
       "\n",
       "    .dataframe thead th {\n",
       "        text-align: right;\n",
       "    }\n",
       "</style>\n",
       "<table border=\"1\" class=\"dataframe\">\n",
       "  <thead>\n",
       "    <tr style=\"text-align: right;\">\n",
       "      <th></th>\n",
       "      <th>country_destination</th>\n",
       "      <th>gender</th>\n",
       "      <th>affiliate_channel</th>\n",
       "      <th>affiliate_provider</th>\n",
       "      <th>AccCreat_Month</th>\n",
       "      <th>language</th>\n",
       "    </tr>\n",
       "  </thead>\n",
       "  <tbody>\n",
       "    <tr>\n",
       "      <th>2</th>\n",
       "      <td>US</td>\n",
       "      <td>0</td>\n",
       "      <td>2</td>\n",
       "      <td>3</td>\n",
       "      <td>8</td>\n",
       "      <td>5</td>\n",
       "    </tr>\n",
       "    <tr>\n",
       "      <th>3</th>\n",
       "      <td>other</td>\n",
       "      <td>0</td>\n",
       "      <td>2</td>\n",
       "      <td>3</td>\n",
       "      <td>11</td>\n",
       "      <td>5</td>\n",
       "    </tr>\n",
       "    <tr>\n",
       "      <th>6</th>\n",
       "      <td>US</td>\n",
       "      <td>0</td>\n",
       "      <td>3</td>\n",
       "      <td>2</td>\n",
       "      <td>0</td>\n",
       "      <td>5</td>\n",
       "    </tr>\n",
       "    <tr>\n",
       "      <th>7</th>\n",
       "      <td>US</td>\n",
       "      <td>0</td>\n",
       "      <td>2</td>\n",
       "      <td>3</td>\n",
       "      <td>0</td>\n",
       "      <td>5</td>\n",
       "    </tr>\n",
       "    <tr>\n",
       "      <th>8</th>\n",
       "      <td>US</td>\n",
       "      <td>0</td>\n",
       "      <td>3</td>\n",
       "      <td>2</td>\n",
       "      <td>0</td>\n",
       "      <td>5</td>\n",
       "    </tr>\n",
       "  </tbody>\n",
       "</table>\n",
       "</div>"
      ],
      "text/plain": [
       "  country_destination  gender  affiliate_channel  affiliate_provider  \\\n",
       "2                  US       0                  2                   3   \n",
       "3               other       0                  2                   3   \n",
       "6                  US       0                  3                   2   \n",
       "7                  US       0                  2                   3   \n",
       "8                  US       0                  3                   2   \n",
       "\n",
       "   AccCreat_Month  language  \n",
       "2               8         5  \n",
       "3              11         5  \n",
       "6               0         5  \n",
       "7               0         5  \n",
       "8               0         5  "
      ]
     },
     "execution_count": 647,
     "metadata": {},
     "output_type": "execute_result"
    }
   ],
   "source": [
    "df_Final= pd.concat([temp,Encoded],axis=1)\n",
    "df_Final.head()"
   ]
  },
  {
   "cell_type": "code",
   "execution_count": 648,
   "id": "plastic-darkness",
   "metadata": {},
   "outputs": [
    {
     "data": {
      "text/plain": [
       "(88194, 6)"
      ]
     },
     "execution_count": 648,
     "metadata": {},
     "output_type": "execute_result"
    }
   ],
   "source": [
    "df_Final.shape"
   ]
  },
  {
   "cell_type": "code",
   "execution_count": 649,
   "id": "desirable-glucose",
   "metadata": {},
   "outputs": [
    {
     "name": "stdout",
     "output_type": "stream",
     "text": [
      "<class 'pandas.core.frame.DataFrame'>\n",
      "Int64Index: 88194 entries, 2 to 62095\n",
      "Data columns (total 6 columns):\n",
      " #   Column               Non-Null Count  Dtype \n",
      "---  ------               --------------  ----- \n",
      " 0   country_destination  59890 non-null  object\n",
      " 1   gender               88194 non-null  int32 \n",
      " 2   affiliate_channel    88194 non-null  int32 \n",
      " 3   affiliate_provider   88194 non-null  int32 \n",
      " 4   AccCreat_Month       88194 non-null  int64 \n",
      " 5   language             88194 non-null  int32 \n",
      "dtypes: int32(4), int64(1), object(1)\n",
      "memory usage: 5.4+ MB\n"
     ]
    }
   ],
   "source": [
    "df_Final.info()"
   ]
  },
  {
   "cell_type": "code",
   "execution_count": 650,
   "id": "pacific-decision",
   "metadata": {},
   "outputs": [],
   "source": [
    "#seperate train data & test one\n",
    "df_Final_train=df_Final[:59890]\n",
    "df_Final_test=df_Final[59890:]"
   ]
  },
  {
   "cell_type": "code",
   "execution_count": 651,
   "id": "cosmetic-casino",
   "metadata": {
    "scrolled": false
   },
   "outputs": [
    {
     "data": {
      "text/html": [
       "<div>\n",
       "<style scoped>\n",
       "    .dataframe tbody tr th:only-of-type {\n",
       "        vertical-align: middle;\n",
       "    }\n",
       "\n",
       "    .dataframe tbody tr th {\n",
       "        vertical-align: top;\n",
       "    }\n",
       "\n",
       "    .dataframe thead th {\n",
       "        text-align: right;\n",
       "    }\n",
       "</style>\n",
       "<table border=\"1\" class=\"dataframe\">\n",
       "  <thead>\n",
       "    <tr style=\"text-align: right;\">\n",
       "      <th></th>\n",
       "      <th>country_destination</th>\n",
       "      <th>gender</th>\n",
       "      <th>affiliate_channel</th>\n",
       "      <th>affiliate_provider</th>\n",
       "      <th>AccCreat_Month</th>\n",
       "      <th>language</th>\n",
       "    </tr>\n",
       "  </thead>\n",
       "  <tbody>\n",
       "    <tr>\n",
       "      <th>0</th>\n",
       "      <td>NaN</td>\n",
       "      <td>0</td>\n",
       "      <td>2</td>\n",
       "      <td>3</td>\n",
       "      <td>6</td>\n",
       "      <td>5</td>\n",
       "    </tr>\n",
       "    <tr>\n",
       "      <th>5</th>\n",
       "      <td>NaN</td>\n",
       "      <td>0</td>\n",
       "      <td>5</td>\n",
       "      <td>7</td>\n",
       "      <td>6</td>\n",
       "      <td>5</td>\n",
       "    </tr>\n",
       "    <tr>\n",
       "      <th>6</th>\n",
       "      <td>NaN</td>\n",
       "      <td>1</td>\n",
       "      <td>2</td>\n",
       "      <td>3</td>\n",
       "      <td>6</td>\n",
       "      <td>5</td>\n",
       "    </tr>\n",
       "    <tr>\n",
       "      <th>11</th>\n",
       "      <td>NaN</td>\n",
       "      <td>0</td>\n",
       "      <td>2</td>\n",
       "      <td>3</td>\n",
       "      <td>6</td>\n",
       "      <td>5</td>\n",
       "    </tr>\n",
       "    <tr>\n",
       "      <th>12</th>\n",
       "      <td>NaN</td>\n",
       "      <td>1</td>\n",
       "      <td>2</td>\n",
       "      <td>3</td>\n",
       "      <td>6</td>\n",
       "      <td>5</td>\n",
       "    </tr>\n",
       "  </tbody>\n",
       "</table>\n",
       "</div>"
      ],
      "text/plain": [
       "   country_destination  gender  affiliate_channel  affiliate_provider  \\\n",
       "0                  NaN       0                  2                   3   \n",
       "5                  NaN       0                  5                   7   \n",
       "6                  NaN       1                  2                   3   \n",
       "11                 NaN       0                  2                   3   \n",
       "12                 NaN       1                  2                   3   \n",
       "\n",
       "    AccCreat_Month  language  \n",
       "0                6         5  \n",
       "5                6         5  \n",
       "6                6         5  \n",
       "11               6         5  \n",
       "12               6         5  "
      ]
     },
     "execution_count": 651,
     "metadata": {},
     "output_type": "execute_result"
    }
   ],
   "source": [
    "df_Final_test.head()"
   ]
  },
  {
   "cell_type": "code",
   "execution_count": 652,
   "id": "pretty-preparation",
   "metadata": {},
   "outputs": [],
   "source": [
    "X= df_Final_train.drop(columns=['country_destination'], axis=1).copy()\n",
    "y= df_Final_train['country_destination'].copy()\n",
    "X_train, X_test, y_train, y_test = train_test_split(X, y, test_size=0.3, random_state=42)"
   ]
  },
  {
   "cell_type": "markdown",
   "id": "natural-seeker",
   "metadata": {},
   "source": [
    "### Applying Algorithms\n",
    "We will train our model using classifiers: KNN, Gradient Boosting, XGboost Regression since we have so many categorical fetures."
   ]
  },
  {
   "cell_type": "code",
   "execution_count": 653,
   "id": "identical-humidity",
   "metadata": {},
   "outputs": [],
   "source": [
    "from sklearn.neighbors import KNeighborsClassifier\n",
    "from sklearn.ensemble import GradientBoostingClassifier\n",
    "from xgboost import XGBClassifier\n",
    "\n",
    "KNN = KNeighborsClassifier(n_neighbors = 20)\n",
    "XGB = XGBClassifier()\n",
    "GB = GradientBoostingClassifier()"
   ]
  },
  {
   "cell_type": "code",
   "execution_count": 654,
   "id": "opponent-tanzania",
   "metadata": {},
   "outputs": [
    {
     "data": {
      "text/plain": [
       "KNeighborsClassifier(n_neighbors=20)"
      ]
     },
     "execution_count": 654,
     "metadata": {},
     "output_type": "execute_result"
    }
   ],
   "source": [
    "# KNN model\n",
    "KNN.fit(X_train,y_train)"
   ]
  },
  {
   "cell_type": "code",
   "execution_count": 655,
   "id": "ultimate-craps",
   "metadata": {},
   "outputs": [
    {
     "data": {
      "text/plain": [
       "0.7082985473367841"
      ]
     },
     "execution_count": 655,
     "metadata": {},
     "output_type": "execute_result"
    }
   ],
   "source": [
    "KNN.score(X_test, y_test)"
   ]
  },
  {
   "cell_type": "code",
   "execution_count": 656,
   "id": "falling-bidding",
   "metadata": {
    "scrolled": true
   },
   "outputs": [],
   "source": [
    "#k_range = range(1,50)\n",
    "#scores = []\n",
    "\n",
    "#for k in k_range:\n",
    "#    knn = KNeighborsClassifier(n_neighbors = k)\n",
    "#    knn.fit(X_train, y_train)\n",
    "#    scores.append(knn.score(X_test, y_test))\n",
    "\n",
    "#plt.figure()\n",
    "#plt.xlabel('k')\n",
    "#plt.ylabel('accuracy')\n",
    "#plt.scatter(k_range, scores)\n",
    "#plt.xticks([0,5,10,15,20]);"
   ]
  },
  {
   "cell_type": "code",
   "execution_count": 657,
   "id": "arranged-tonight",
   "metadata": {},
   "outputs": [],
   "source": [
    "pred_knn=KNN.predict(X_test)"
   ]
  },
  {
   "cell_type": "code",
   "execution_count": 658,
   "id": "broken-routine",
   "metadata": {},
   "outputs": [
    {
     "name": "stderr",
     "output_type": "stream",
     "text": [
      "C:\\Users\\AbouElNasrA\\Anaconda3\\lib\\site-packages\\sklearn\\metrics\\_classification.py:1245: UndefinedMetricWarning: Precision and F-score are ill-defined and being set to 0.0 in labels with no predicted samples. Use `zero_division` parameter to control this behavior.\n",
      "  _warn_prf(average, modifier, msg_start, len(result))\n",
      "C:\\Users\\AbouElNasrA\\Anaconda3\\lib\\site-packages\\sklearn\\metrics\\_classification.py:1245: UndefinedMetricWarning: Precision and F-score are ill-defined and being set to 0.0 in labels with no predicted samples. Use `zero_division` parameter to control this behavior.\n",
      "  _warn_prf(average, modifier, msg_start, len(result))\n",
      "C:\\Users\\AbouElNasrA\\Anaconda3\\lib\\site-packages\\sklearn\\metrics\\_classification.py:1245: UndefinedMetricWarning: Precision and F-score are ill-defined and being set to 0.0 in labels with no predicted samples. Use `zero_division` parameter to control this behavior.\n",
      "  _warn_prf(average, modifier, msg_start, len(result))\n"
     ]
    },
    {
     "name": "stdout",
     "output_type": "stream",
     "text": [
      "              precision    recall  f1-score   support\n",
      "\n",
      "          AU       0.00      0.00      0.00       125\n",
      "          CA       0.00      0.00      0.00       278\n",
      "          DE       0.00      0.00      0.00       241\n",
      "          ES       0.00      0.00      0.00       445\n",
      "          FR       0.00      0.00      0.00      1014\n",
      "          GB       0.00      0.00      0.00       457\n",
      "          IT       0.00      0.00      0.00       539\n",
      "          NL       0.00      0.00      0.00       156\n",
      "          PT       0.00      0.00      0.00        48\n",
      "          US       0.71      1.00      0.83     12729\n",
      "       other       0.00      0.00      0.00      1935\n",
      "\n",
      "    accuracy                           0.71     17967\n",
      "   macro avg       0.06      0.09      0.08     17967\n",
      "weighted avg       0.50      0.71      0.59     17967\n",
      "\n"
     ]
    }
   ],
   "source": [
    "from sklearn.metrics import classification_report,confusion_matrix\n",
    "print(classification_report(y_test,pred_knn))"
   ]
  },
  {
   "cell_type": "code",
   "execution_count": 659,
   "id": "forced-fireplace",
   "metadata": {},
   "outputs": [
    {
     "data": {
      "text/plain": [
       "GradientBoostingClassifier()"
      ]
     },
     "execution_count": 659,
     "metadata": {},
     "output_type": "execute_result"
    }
   ],
   "source": [
    "#GradientBoosting\n",
    "GB.fit(X_train,y_train)"
   ]
  },
  {
   "cell_type": "code",
   "execution_count": 660,
   "id": "western-scale",
   "metadata": {},
   "outputs": [
    {
     "data": {
      "text/plain": [
       "0.7076863137975177"
      ]
     },
     "execution_count": 660,
     "metadata": {},
     "output_type": "execute_result"
    }
   ],
   "source": [
    "GB.score(X_test, y_test)"
   ]
  },
  {
   "cell_type": "code",
   "execution_count": 661,
   "id": "buried-trader",
   "metadata": {},
   "outputs": [
    {
     "name": "stderr",
     "output_type": "stream",
     "text": [
      "C:\\Users\\AbouElNasrA\\Anaconda3\\lib\\site-packages\\xgboost\\sklearn.py:1146: UserWarning: The use of label encoder in XGBClassifier is deprecated and will be removed in a future release. To remove this warning, do the following: 1) Pass option use_label_encoder=False when constructing XGBClassifier object; and 2) Encode your labels (y) as integers starting with 0, i.e. 0, 1, 2, ..., [num_class - 1].\n",
      "  warnings.warn(label_encoder_deprecation_msg, UserWarning)\n"
     ]
    },
    {
     "name": "stdout",
     "output_type": "stream",
     "text": [
      "[09:28:36] WARNING: C:/Users/Administrator/workspace/xgboost-win64_release_1.4.0/src/learner.cc:1095: Starting in XGBoost 1.3.0, the default evaluation metric used with the objective 'multi:softprob' was changed from 'merror' to 'mlogloss'. Explicitly set eval_metric if you'd like to restore the old behavior.\n"
     ]
    },
    {
     "data": {
      "text/plain": [
       "XGBClassifier(base_score=0.5, booster='gbtree', colsample_bylevel=1,\n",
       "              colsample_bynode=1, colsample_bytree=1, gamma=0, gpu_id=-1,\n",
       "              importance_type='gain', interaction_constraints='',\n",
       "              learning_rate=0.300000012, max_delta_step=0, max_depth=6,\n",
       "              min_child_weight=1, missing=nan, monotone_constraints='()',\n",
       "              n_estimators=100, n_jobs=8, num_parallel_tree=1,\n",
       "              objective='multi:softprob', random_state=0, reg_alpha=0,\n",
       "              reg_lambda=1, scale_pos_weight=None, subsample=1,\n",
       "              tree_method='exact', validate_parameters=1, verbosity=None)"
      ]
     },
     "execution_count": 661,
     "metadata": {},
     "output_type": "execute_result"
    }
   ],
   "source": [
    "##Applying xgboost\n",
    "XGB.fit(X_train,y_train)"
   ]
  },
  {
   "cell_type": "code",
   "execution_count": 662,
   "id": "linear-sierra",
   "metadata": {},
   "outputs": [],
   "source": [
    "pred_xgb=XGB.predict(X_test)"
   ]
  },
  {
   "cell_type": "code",
   "execution_count": 663,
   "id": "genuine-masters",
   "metadata": {},
   "outputs": [
    {
     "name": "stderr",
     "output_type": "stream",
     "text": [
      "C:\\Users\\AbouElNasrA\\Anaconda3\\lib\\site-packages\\sklearn\\metrics\\_classification.py:1245: UndefinedMetricWarning: Precision and F-score are ill-defined and being set to 0.0 in labels with no predicted samples. Use `zero_division` parameter to control this behavior.\n",
      "  _warn_prf(average, modifier, msg_start, len(result))\n",
      "C:\\Users\\AbouElNasrA\\Anaconda3\\lib\\site-packages\\sklearn\\metrics\\_classification.py:1245: UndefinedMetricWarning: Precision and F-score are ill-defined and being set to 0.0 in labels with no predicted samples. Use `zero_division` parameter to control this behavior.\n",
      "  _warn_prf(average, modifier, msg_start, len(result))\n"
     ]
    },
    {
     "name": "stdout",
     "output_type": "stream",
     "text": [
      "              precision    recall  f1-score   support\n",
      "\n",
      "          AU       0.00      0.00      0.00       125\n",
      "          CA       0.00      0.00      0.00       278\n",
      "          DE       0.00      0.00      0.00       241\n",
      "          ES       0.00      0.00      0.00       445\n",
      "          FR       0.00      0.00      0.00      1014\n",
      "          GB       0.00      0.00      0.00       457\n",
      "          IT       0.00      0.00      0.00       539\n",
      "          NL       0.00      0.00      0.00       156\n",
      "          PT       0.00      0.00      0.00        48\n",
      "          US       0.71      1.00      0.83     12729\n",
      "       other       0.16      0.00      0.01      1935\n",
      "\n",
      "    accuracy                           0.71     17967\n",
      "   macro avg       0.08      0.09      0.08     17967\n",
      "weighted avg       0.52      0.71      0.59     17967\n",
      "\n"
     ]
    },
    {
     "name": "stderr",
     "output_type": "stream",
     "text": [
      "C:\\Users\\AbouElNasrA\\Anaconda3\\lib\\site-packages\\sklearn\\metrics\\_classification.py:1245: UndefinedMetricWarning: Precision and F-score are ill-defined and being set to 0.0 in labels with no predicted samples. Use `zero_division` parameter to control this behavior.\n",
      "  _warn_prf(average, modifier, msg_start, len(result))\n"
     ]
    }
   ],
   "source": [
    "print(classification_report(y_test,pred_xgb))"
   ]
  },
  {
   "cell_type": "code",
   "execution_count": 664,
   "id": "subject-relaxation",
   "metadata": {},
   "outputs": [
    {
     "data": {
      "text/plain": [
       "array([0.19697161, 0.20450374, 0.21243863, 0.18152612, 0.20455986],\n",
       "      dtype=float32)"
      ]
     },
     "execution_count": 664,
     "metadata": {},
     "output_type": "execute_result"
    }
   ],
   "source": [
    "XGB.feature_importances_\n"
   ]
  },
  {
   "cell_type": "code",
   "execution_count": 665,
   "id": "thick-death",
   "metadata": {},
   "outputs": [],
   "source": [
    "def plot_feature_importance(feature_columns, importance_values,top_n_features=0):\n",
    "    feature_imp = [ col for col in zip(feature_columns, importance_values)]\n",
    "    feature_imp.sort(key=lambda x:x[1], reverse=True)\n",
    "\n",
    "    if top_n_features:\n",
    "        imp = pd.DataFrame(feature_imp[0:top_n_features], columns=['feature', 'importance'])\n",
    "    else:\n",
    "        imp = pd.DataFrame(feature_imp, columns=['feature', 'importance'])\n",
    "    plt.figure(figsize=(10, 8))\n",
    "    sns.barplot(y='feature', x='importance', data=imp, orient='h')\n",
    "    plt.title('Most Important Features', fontsize=16)\n",
    "    plt.ylabel(\"Feature\", fontsize=16)\n",
    "    plt.xlabel(\"\")\n",
    "    plt.show()"
   ]
  },
  {
   "cell_type": "code",
   "execution_count": 666,
   "id": "attempted-notebook",
   "metadata": {
    "scrolled": true
   },
   "outputs": [
    {
     "data": {
      "image/png": "[encoded data removed]",
      "text/plain": [
       "<Figure size 720x576 with 1 Axes>"
      ]
     },
     "metadata": {},
     "output_type": "display_data"
    }
   ],
   "source": [
    "plot_feature_importance(['age','gender','affiliate_channel', 'affiliate_provider','signup_app','AccCreat_Month'], XGB.feature_importances_)"
   ]
  },
  {
   "cell_type": "code",
   "execution_count": null,
   "id": "trained-crazy",
   "metadata": {},
   "outputs": [],
   "source": []
  },
  {
   "cell_type": "code",
   "execution_count": 667,
   "id": "impaired-microwave",
   "metadata": {
    "scrolled": true
   },
   "outputs": [
    {
     "name": "stderr",
     "output_type": "stream",
     "text": [
      "C:\\Users\\AbouElNasrA\\Anaconda3\\lib\\site-packages\\xgboost\\sklearn.py:1146: UserWarning: The use of label encoder in XGBClassifier is deprecated and will be removed in a future release. To remove this warning, do the following: 1) Pass option use_label_encoder=False when constructing XGBClassifier object; and 2) Encode your labels (y) as integers starting with 0, i.e. 0, 1, 2, ..., [num_class - 1].\n",
      "  warnings.warn(label_encoder_deprecation_msg, UserWarning)\n"
     ]
    },
    {
     "name": "stdout",
     "output_type": "stream",
     "text": [
      "[09:28:49] WARNING: C:/Users/Administrator/workspace/xgboost-win64_release_1.4.0/src/learner.cc:1095: Starting in XGBoost 1.3.0, the default evaluation metric used with the objective 'multi:softprob' was changed from 'merror' to 'mlogloss'. Explicitly set eval_metric if you'd like to restore the old behavior.\n"
     ]
    }
   ],
   "source": [
    "xgb = XGBClassifier(max_depth=6, learning_rate=0.02, n_estimators=43,\n",
    "                    objective='multi:softprob', subsample=0.6, colsample_bytree=0.5, seed=1)                  \n",
    "xgb.fit(X_train, y_train)\n",
    "y_pred = xgb.predict(X_test)"
   ]
  },
  {
   "cell_type": "code",
   "execution_count": 668,
   "id": "greenhouse-yield",
   "metadata": {},
   "outputs": [
    {
     "name": "stderr",
     "output_type": "stream",
     "text": [
      "C:\\Users\\AbouElNasrA\\Anaconda3\\lib\\site-packages\\sklearn\\metrics\\_classification.py:1245: UndefinedMetricWarning: Precision and F-score are ill-defined and being set to 0.0 in labels with no predicted samples. Use `zero_division` parameter to control this behavior.\n",
      "  _warn_prf(average, modifier, msg_start, len(result))\n",
      "C:\\Users\\AbouElNasrA\\Anaconda3\\lib\\site-packages\\sklearn\\metrics\\_classification.py:1245: UndefinedMetricWarning: Precision and F-score are ill-defined and being set to 0.0 in labels with no predicted samples. Use `zero_division` parameter to control this behavior.\n",
      "  _warn_prf(average, modifier, msg_start, len(result))\n"
     ]
    },
    {
     "name": "stdout",
     "output_type": "stream",
     "text": [
      "              precision    recall  f1-score   support\n",
      "\n",
      "          AU       0.00      0.00      0.00       125\n",
      "          CA       0.00      0.00      0.00       278\n",
      "          DE       0.00      0.00      0.00       241\n",
      "          ES       0.00      0.00      0.00       445\n",
      "          FR       0.00      0.00      0.00      1014\n",
      "          GB       0.00      0.00      0.00       457\n",
      "          IT       0.00      0.00      0.00       539\n",
      "          NL       0.00      0.00      0.00       156\n",
      "          PT       0.00      0.00      0.00        48\n",
      "          US       0.71      1.00      0.83     12729\n",
      "       other       0.00      0.00      0.00      1935\n",
      "\n",
      "    accuracy                           0.71     17967\n",
      "   macro avg       0.06      0.09      0.08     17967\n",
      "weighted avg       0.50      0.71      0.59     17967\n",
      "\n"
     ]
    },
    {
     "name": "stderr",
     "output_type": "stream",
     "text": [
      "C:\\Users\\AbouElNasrA\\Anaconda3\\lib\\site-packages\\sklearn\\metrics\\_classification.py:1245: UndefinedMetricWarning: Precision and F-score are ill-defined and being set to 0.0 in labels with no predicted samples. Use `zero_division` parameter to control this behavior.\n",
      "  _warn_prf(average, modifier, msg_start, len(result))\n"
     ]
    }
   ],
   "source": [
    "print(classification_report(y_test,y_pred))"
   ]
  },
  {
   "cell_type": "code",
   "execution_count": 669,
   "id": "valuable-detail",
   "metadata": {},
   "outputs": [
    {
     "data": {
      "text/plain": [
       "(213451, 6)"
      ]
     },
     "execution_count": 669,
     "metadata": {},
     "output_type": "execute_result"
    }
   ],
   "source": [
    "df_train.drop(['timestamp_first_active','date_account_created','id','age','signup_method','signup_app','signup_flow','first_affiliate_tracked','first_affiliate_tracked','first_device_type','first_browser'],axis=1,inplace=True)\n",
    "cat_features= ['gender','affiliate_channel', 'affiliate_provider','language']\n",
    "df_train.shape"
   ]
  },
  {
   "cell_type": "code",
   "execution_count": 670,
   "id": "latin-creativity",
   "metadata": {},
   "outputs": [],
   "source": [
    "encoder= LabelEncoder()\n",
    "encoded= df_train[cat_features].apply(encoder.fit_transform)"
   ]
  },
  {
   "cell_type": "code",
   "execution_count": 671,
   "id": "solar-settle",
   "metadata": {},
   "outputs": [],
   "source": [
    "temp1=df_train.drop(cat_features,axis=1)"
   ]
  },
  {
   "cell_type": "code",
   "execution_count": 672,
   "id": "collaborative-knowing",
   "metadata": {},
   "outputs": [
    {
     "data": {
      "text/html": [
       "<div>\n",
       "<style scoped>\n",
       "    .dataframe tbody tr th:only-of-type {\n",
       "        vertical-align: middle;\n",
       "    }\n",
       "\n",
       "    .dataframe tbody tr th {\n",
       "        vertical-align: top;\n",
       "    }\n",
       "\n",
       "    .dataframe thead th {\n",
       "        text-align: right;\n",
       "    }\n",
       "</style>\n",
       "<table border=\"1\" class=\"dataframe\">\n",
       "  <thead>\n",
       "    <tr style=\"text-align: right;\">\n",
       "      <th></th>\n",
       "      <th>date_first_booking</th>\n",
       "      <th>country_destination</th>\n",
       "      <th>gender</th>\n",
       "      <th>affiliate_channel</th>\n",
       "      <th>affiliate_provider</th>\n",
       "      <th>language</th>\n",
       "    </tr>\n",
       "  </thead>\n",
       "  <tbody>\n",
       "    <tr>\n",
       "      <th>0</th>\n",
       "      <td>NaN</td>\n",
       "      <td>NDF</td>\n",
       "      <td>0</td>\n",
       "      <td>2</td>\n",
       "      <td>4</td>\n",
       "      <td>5</td>\n",
       "    </tr>\n",
       "    <tr>\n",
       "      <th>1</th>\n",
       "      <td>NaN</td>\n",
       "      <td>NDF</td>\n",
       "      <td>2</td>\n",
       "      <td>7</td>\n",
       "      <td>8</td>\n",
       "      <td>5</td>\n",
       "    </tr>\n",
       "    <tr>\n",
       "      <th>2</th>\n",
       "      <td>2010-08-02</td>\n",
       "      <td>US</td>\n",
       "      <td>1</td>\n",
       "      <td>2</td>\n",
       "      <td>4</td>\n",
       "      <td>5</td>\n",
       "    </tr>\n",
       "    <tr>\n",
       "      <th>3</th>\n",
       "      <td>2012-09-08</td>\n",
       "      <td>other</td>\n",
       "      <td>1</td>\n",
       "      <td>2</td>\n",
       "      <td>4</td>\n",
       "      <td>5</td>\n",
       "    </tr>\n",
       "    <tr>\n",
       "      <th>4</th>\n",
       "      <td>2010-02-18</td>\n",
       "      <td>US</td>\n",
       "      <td>0</td>\n",
       "      <td>2</td>\n",
       "      <td>4</td>\n",
       "      <td>5</td>\n",
       "    </tr>\n",
       "  </tbody>\n",
       "</table>\n",
       "</div>"
      ],
      "text/plain": [
       "  date_first_booking country_destination  gender  affiliate_channel  \\\n",
       "0                NaN                 NDF       0                  2   \n",
       "1                NaN                 NDF       2                  7   \n",
       "2         2010-08-02                  US       1                  2   \n",
       "3         2012-09-08               other       1                  2   \n",
       "4         2010-02-18                  US       0                  2   \n",
       "\n",
       "   affiliate_provider  language  \n",
       "0                   4         5  \n",
       "1                   8         5  \n",
       "2                   4         5  \n",
       "3                   4         5  \n",
       "4                   4         5  "
      ]
     },
     "execution_count": 672,
     "metadata": {},
     "output_type": "execute_result"
    }
   ],
   "source": [
    "df_1= pd.concat([temp1,encoded],axis=1)\n",
    "df_1.head()"
   ]
  },
  {
   "cell_type": "code",
   "execution_count": 673,
   "id": "strong-person",
   "metadata": {},
   "outputs": [
    {
     "data": {
      "text/html": [
       "<div>\n",
       "<style scoped>\n",
       "    .dataframe tbody tr th:only-of-type {\n",
       "        vertical-align: middle;\n",
       "    }\n",
       "\n",
       "    .dataframe tbody tr th {\n",
       "        vertical-align: top;\n",
       "    }\n",
       "\n",
       "    .dataframe thead th {\n",
       "        text-align: right;\n",
       "    }\n",
       "</style>\n",
       "<table border=\"1\" class=\"dataframe\">\n",
       "  <thead>\n",
       "    <tr style=\"text-align: right;\">\n",
       "      <th></th>\n",
       "      <th>country_destination</th>\n",
       "      <th>gender</th>\n",
       "      <th>affiliate_channel</th>\n",
       "      <th>affiliate_provider</th>\n",
       "      <th>language</th>\n",
       "    </tr>\n",
       "  </thead>\n",
       "  <tbody>\n",
       "    <tr>\n",
       "      <th>0</th>\n",
       "      <td>NDF</td>\n",
       "      <td>0</td>\n",
       "      <td>2</td>\n",
       "      <td>4</td>\n",
       "      <td>5</td>\n",
       "    </tr>\n",
       "    <tr>\n",
       "      <th>1</th>\n",
       "      <td>NDF</td>\n",
       "      <td>2</td>\n",
       "      <td>7</td>\n",
       "      <td>8</td>\n",
       "      <td>5</td>\n",
       "    </tr>\n",
       "    <tr>\n",
       "      <th>2</th>\n",
       "      <td>US</td>\n",
       "      <td>1</td>\n",
       "      <td>2</td>\n",
       "      <td>4</td>\n",
       "      <td>5</td>\n",
       "    </tr>\n",
       "    <tr>\n",
       "      <th>3</th>\n",
       "      <td>other</td>\n",
       "      <td>1</td>\n",
       "      <td>2</td>\n",
       "      <td>4</td>\n",
       "      <td>5</td>\n",
       "    </tr>\n",
       "    <tr>\n",
       "      <th>4</th>\n",
       "      <td>US</td>\n",
       "      <td>0</td>\n",
       "      <td>2</td>\n",
       "      <td>4</td>\n",
       "      <td>5</td>\n",
       "    </tr>\n",
       "  </tbody>\n",
       "</table>\n",
       "</div>"
      ],
      "text/plain": [
       "  country_destination  gender  affiliate_channel  affiliate_provider  language\n",
       "0                 NDF       0                  2                   4         5\n",
       "1                 NDF       2                  7                   8         5\n",
       "2                  US       1                  2                   4         5\n",
       "3               other       1                  2                   4         5\n",
       "4                  US       0                  2                   4         5"
      ]
     },
     "execution_count": 673,
     "metadata": {},
     "output_type": "execute_result"
    }
   ],
   "source": [
    "df_1.drop(['date_first_booking'],axis=1,inplace=True)\n",
    "df_1.head()"
   ]
  },
  {
   "cell_type": "code",
   "execution_count": 674,
   "id": "funky-living",
   "metadata": {},
   "outputs": [
    {
     "data": {
      "text/plain": [
       "((213451, 4), (59890,))"
      ]
     },
     "execution_count": 674,
     "metadata": {},
     "output_type": "execute_result"
    }
   ],
   "source": [
    "x1 = df_1.drop(columns=['country_destination'], axis=1).copy()\n",
    "y1 = df_1['country_destination'].copy()\n",
    "\n",
    "\n",
    "x1.shape"
   ]
  },
  {
   "cell_type": "code",
   "execution_count": 685,
   "id": "eastern-chorus",
   "metadata": {},
   "outputs": [
    {
     "data": {
      "text/plain": [
       "(213451,)"
      ]
     },
     "execution_count": 685,
     "metadata": {},
     "output_type": "execute_result"
    }
   ],
   "source": [
    "y1.shape"
   ]
  },
  {
   "cell_type": "code",
   "execution_count": 675,
   "id": "direct-socket",
   "metadata": {},
   "outputs": [],
   "source": [
    "x1_train, x1_test, y1_train, y1_test = train_test_split(x1, y1, test_size=0.3, random_state=42)"
   ]
  },
  {
   "cell_type": "code",
   "execution_count": 676,
   "id": "american-september",
   "metadata": {},
   "outputs": [],
   "source": [
    "KNN.fit(x1_train,y1_train)\n",
    "pred_knn2=KNN.predict(x1_test)"
   ]
  },
  {
   "cell_type": "code",
   "execution_count": 677,
   "id": "young-cigarette",
   "metadata": {},
   "outputs": [
    {
     "name": "stderr",
     "output_type": "stream",
     "text": [
      "C:\\Users\\AbouElNasrA\\Anaconda3\\lib\\site-packages\\sklearn\\metrics\\_classification.py:1245: UndefinedMetricWarning: Precision and F-score are ill-defined and being set to 0.0 in labels with no predicted samples. Use `zero_division` parameter to control this behavior.\n",
      "  _warn_prf(average, modifier, msg_start, len(result))\n",
      "C:\\Users\\AbouElNasrA\\Anaconda3\\lib\\site-packages\\sklearn\\metrics\\_classification.py:1245: UndefinedMetricWarning: Precision and F-score are ill-defined and being set to 0.0 in labels with no predicted samples. Use `zero_division` parameter to control this behavior.\n",
      "  _warn_prf(average, modifier, msg_start, len(result))\n"
     ]
    },
    {
     "name": "stdout",
     "output_type": "stream",
     "text": [
      "              precision    recall  f1-score   support\n",
      "\n",
      "          AU       0.00      0.00      0.00       171\n",
      "          CA       0.00      0.00      0.00       420\n",
      "          DE       0.00      0.00      0.00       334\n",
      "          ES       0.00      0.00      0.00       686\n",
      "          FR       0.00      0.00      0.00      1505\n",
      "          GB       0.00      0.00      0.00       748\n",
      "          IT       0.00      0.00      0.00       866\n",
      "         NDF       0.58      0.97      0.73     37206\n",
      "          NL       0.00      0.00      0.00       225\n",
      "          PT       0.00      0.00      0.00        77\n",
      "          US       0.32      0.03      0.06     18785\n",
      "       other       0.00      0.00      0.00      3013\n",
      "\n",
      "    accuracy                           0.57     64036\n",
      "   macro avg       0.08      0.08      0.07     64036\n",
      "weighted avg       0.43      0.57      0.44     64036\n",
      "\n"
     ]
    },
    {
     "name": "stderr",
     "output_type": "stream",
     "text": [
      "C:\\Users\\AbouElNasrA\\Anaconda3\\lib\\site-packages\\sklearn\\metrics\\_classification.py:1245: UndefinedMetricWarning: Precision and F-score are ill-defined and being set to 0.0 in labels with no predicted samples. Use `zero_division` parameter to control this behavior.\n",
      "  _warn_prf(average, modifier, msg_start, len(result))\n"
     ]
    }
   ],
   "source": [
    "print(classification_report(y1_test,pred_knn2))"
   ]
  },
  {
   "cell_type": "code",
   "execution_count": 678,
   "id": "sunrise-amazon",
   "metadata": {},
   "outputs": [
    {
     "data": {
      "text/plain": [
       "GradientBoostingClassifier()"
      ]
     },
     "execution_count": 678,
     "metadata": {},
     "output_type": "execute_result"
    }
   ],
   "source": [
    "GB.fit(x1_train,y1_train)"
   ]
  },
  {
   "cell_type": "code",
   "execution_count": 679,
   "id": "asian-charleston",
   "metadata": {},
   "outputs": [
    {
     "data": {
      "text/plain": [
       "0.5810169279780124"
      ]
     },
     "execution_count": 679,
     "metadata": {},
     "output_type": "execute_result"
    }
   ],
   "source": [
    "GB.score(x1_test, y1_test)"
   ]
  },
  {
   "cell_type": "code",
   "execution_count": 680,
   "id": "educational-joyce",
   "metadata": {},
   "outputs": [
    {
     "name": "stderr",
     "output_type": "stream",
     "text": [
      "C:\\Users\\AbouElNasrA\\Anaconda3\\lib\\site-packages\\xgboost\\sklearn.py:1146: UserWarning: The use of label encoder in XGBClassifier is deprecated and will be removed in a future release. To remove this warning, do the following: 1) Pass option use_label_encoder=False when constructing XGBClassifier object; and 2) Encode your labels (y) as integers starting with 0, i.e. 0, 1, 2, ..., [num_class - 1].\n",
      "  warnings.warn(label_encoder_deprecation_msg, UserWarning)\n"
     ]
    },
    {
     "name": "stdout",
     "output_type": "stream",
     "text": [
      "[09:34:53] WARNING: C:/Users/Administrator/workspace/xgboost-win64_release_1.4.0/src/learner.cc:1095: Starting in XGBoost 1.3.0, the default evaluation metric used with the objective 'multi:softprob' was changed from 'merror' to 'mlogloss'. Explicitly set eval_metric if you'd like to restore the old behavior.\n"
     ]
    },
    {
     "data": {
      "text/plain": [
       "XGBClassifier(base_score=0.5, booster='gbtree', colsample_bylevel=1,\n",
       "              colsample_bynode=1, colsample_bytree=1, gamma=0, gpu_id=-1,\n",
       "              importance_type='gain', interaction_constraints='',\n",
       "              learning_rate=0.300000012, max_delta_step=0, max_depth=6,\n",
       "              min_child_weight=1, missing=nan, monotone_constraints='()',\n",
       "              n_estimators=100, n_jobs=8, num_parallel_tree=1,\n",
       "              objective='multi:softprob', random_state=0, reg_alpha=0,\n",
       "              reg_lambda=1, scale_pos_weight=None, subsample=1,\n",
       "              tree_method='exact', validate_parameters=1, verbosity=None)"
      ]
     },
     "execution_count": 680,
     "metadata": {},
     "output_type": "execute_result"
    }
   ],
   "source": [
    "XGB.fit(x1_train,y1_train)"
   ]
  },
  {
   "cell_type": "code",
   "execution_count": 681,
   "id": "satellite-pathology",
   "metadata": {},
   "outputs": [],
   "source": [
    "pred_xgb1=XGB.predict(x1_test)"
   ]
  },
  {
   "cell_type": "code",
   "execution_count": null,
   "id": "orange-capture",
   "metadata": {},
   "outputs": [],
   "source": []
  },
  {
   "cell_type": "code",
   "execution_count": 682,
   "id": "historical-filter",
   "metadata": {},
   "outputs": [
    {
     "data": {
      "text/plain": [
       "array([0.6984981 , 0.15894859, 0.08553689, 0.05701646], dtype=float32)"
      ]
     },
     "execution_count": 682,
     "metadata": {},
     "output_type": "execute_result"
    }
   ],
   "source": [
    "XGB.feature_importances_"
   ]
  },
  {
   "cell_type": "code",
   "execution_count": 683,
   "id": "herbal-authorization",
   "metadata": {},
   "outputs": [
    {
     "data": {
      "image/png": "[encoded data removed]",
      "text/plain": [
       "<Figure size 720x576 with 1 Axes>"
      ]
     },
     "metadata": {},
     "output_type": "display_data"
    }
   ],
   "source": [
    "plot_feature_importance(['age','gender','affiliate_channel', 'affiliate_provider','signup_app','AccCreat_Month'], XGB.feature_importances_)"
   ]
  },
  {
   "cell_type": "code",
   "execution_count": 684,
   "id": "favorite-quilt",
   "metadata": {},
   "outputs": [
    {
     "name": "stderr",
     "output_type": "stream",
     "text": [
      "C:\\Users\\AbouElNasrA\\Anaconda3\\lib\\site-packages\\sklearn\\metrics\\_classification.py:1245: UndefinedMetricWarning: Precision and F-score are ill-defined and being set to 0.0 in labels with no predicted samples. Use `zero_division` parameter to control this behavior.\n",
      "  _warn_prf(average, modifier, msg_start, len(result))\n",
      "C:\\Users\\AbouElNasrA\\Anaconda3\\lib\\site-packages\\sklearn\\metrics\\_classification.py:1245: UndefinedMetricWarning: Precision and F-score are ill-defined and being set to 0.0 in labels with no predicted samples. Use `zero_division` parameter to control this behavior.\n",
      "  _warn_prf(average, modifier, msg_start, len(result))\n"
     ]
    },
    {
     "name": "stdout",
     "output_type": "stream",
     "text": [
      "              precision    recall  f1-score   support\n",
      "\n",
      "          AU       0.00      0.00      0.00       171\n",
      "          CA       0.00      0.00      0.00       420\n",
      "          DE       0.00      0.00      0.00       334\n",
      "          ES       0.00      0.00      0.00       686\n",
      "          FR       0.00      0.00      0.00      1505\n",
      "          GB       0.00      0.00      0.00       748\n",
      "          IT       0.00      0.00      0.00       866\n",
      "         NDF       0.58      0.99      0.73     37206\n",
      "          NL       0.00      0.00      0.00       225\n",
      "          PT       0.00      0.00      0.00        77\n",
      "          US       0.39      0.02      0.04     18785\n",
      "       other       0.00      0.00      0.00      3013\n",
      "\n",
      "    accuracy                           0.58     64036\n",
      "   macro avg       0.08      0.08      0.06     64036\n",
      "weighted avg       0.45      0.58      0.44     64036\n",
      "\n"
     ]
    },
    {
     "name": "stderr",
     "output_type": "stream",
     "text": [
      "C:\\Users\\AbouElNasrA\\Anaconda3\\lib\\site-packages\\sklearn\\metrics\\_classification.py:1245: UndefinedMetricWarning: Precision and F-score are ill-defined and being set to 0.0 in labels with no predicted samples. Use `zero_division` parameter to control this behavior.\n",
      "  _warn_prf(average, modifier, msg_start, len(result))\n"
     ]
    }
   ],
   "source": [
    "print(classification_report(y1_test,pred_xgb1))"
   ]
  },
  {
   "cell_type": "code",
   "execution_count": null,
   "id": "freelance-revelation",
   "metadata": {},
   "outputs": [],
   "source": []
  }
 ],
 "metadata": {
  "kernelspec": {
   "display_name": "Python 3",
   "language": "python",
   "name": "python3"
  },
  "language_info": {
   "codemirror_mode": {
    "name": "ipython",
    "version": 3
   },
   "file_extension": ".py",
   "mimetype": "text/x-python",
   "name": "python",
   "nbconvert_exporter": "python",
   "pygments_lexer": "ipython3",
   "version": "3.8.8"
  }
 },
 "nbformat": 4,
 "nbformat_minor": 5
}
